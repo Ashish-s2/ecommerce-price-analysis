{
 "cells": [
  {
   "cell_type": "markdown",
   "id": "aeca49c1-f64b-40c6-9899-bee3d1cc33d2",
   "metadata": {},
   "source": [
    "#  E-Commerce Price Analysis Project\n",
    "### Author: Ashish Sahu\n",
    "\n",
    "---\n",
    "\n",
    "**Objective:**  \n",
    "Analyze a large-scale e-commerce dataset using Python and SQL to uncover pricing trends, discount patterns, customer segment behavior, and rating insights.\n"
   ]
  },
  {
   "cell_type": "code",
   "execution_count": 237,
   "id": "e07b78f1-4f4b-43e9-b5ed-638e403325c9",
   "metadata": {},
   "outputs": [],
   "source": [
    "import pandas as pd\n",
    "import numpy as np\n",
    "import matplotlib.pyplot as plt\n",
    "import seaborn as sns\n",
    "import sqlite3\n",
    "from datetime import datetime\n",
    "from sklearn.cluster import MiniBatchKMeans as KMeans\n",
    "from sklearn.preprocessing import StandardScaler\n",
    "import warnings\n",
    "warnings.filterwarnings(\"ignore\", category=UserWarning, module=\"sklearn\")\n",
    "\n",
    "\n",
    "sns.set(style=\"whitegrid\")\n"
   ]
  },
  {
   "cell_type": "markdown",
   "id": "66aff980-599b-4b5c-9506-1ddba85d71cc",
   "metadata": {},
   "source": [
    "## 📥 Load Dataset\n",
    "We will load the dataset and do some basic preprocessing.\n"
   ]
  },
  {
   "cell_type": "code",
   "execution_count": 238,
   "id": "8e350f56-9156-40e4-b563-075a6b0b2a33",
   "metadata": {},
   "outputs": [
    {
     "data": {
      "text/html": [
       "<div>\n",
       "<style scoped>\n",
       "    .dataframe tbody tr th:only-of-type {\n",
       "        vertical-align: middle;\n",
       "    }\n",
       "\n",
       "    .dataframe tbody tr th {\n",
       "        vertical-align: top;\n",
       "    }\n",
       "\n",
       "    .dataframe thead th {\n",
       "        text-align: right;\n",
       "    }\n",
       "</style>\n",
       "<table border=\"1\" class=\"dataframe\">\n",
       "  <thead>\n",
       "    <tr style=\"text-align: right;\">\n",
       "      <th></th>\n",
       "      <th>product_id</th>\n",
       "      <th>product_name</th>\n",
       "      <th>brand</th>\n",
       "      <th>category</th>\n",
       "      <th>retail_price</th>\n",
       "      <th>ratings</th>\n",
       "      <th>reviews</th>\n",
       "      <th>date_added</th>\n",
       "      <th>stock_status</th>\n",
       "      <th>description</th>\n",
       "      <th>customer_segment</th>\n",
       "      <th>discount_pct</th>\n",
       "      <th>discounted_price</th>\n",
       "      <th>price_tier</th>\n",
       "      <th>rating_level</th>\n",
       "      <th>is_outlier</th>\n",
       "      <th>year</th>\n",
       "      <th>month</th>\n",
       "      <th>year_month</th>\n",
       "    </tr>\n",
       "  </thead>\n",
       "  <tbody>\n",
       "    <tr>\n",
       "      <th>0</th>\n",
       "      <td>PID1000</td>\n",
       "      <td>Management Plus</td>\n",
       "      <td>BrandB</td>\n",
       "      <td>Laptop</td>\n",
       "      <td>16295</td>\n",
       "      <td>3.3</td>\n",
       "      <td>8453</td>\n",
       "      <td>2022-12-04</td>\n",
       "      <td>In Stock</td>\n",
       "      <td>Rate leader these trade dog best young audienc...</td>\n",
       "      <td>Mid-Tier</td>\n",
       "      <td>27.42</td>\n",
       "      <td>11827</td>\n",
       "      <td>Low</td>\n",
       "      <td>Average</td>\n",
       "      <td>False</td>\n",
       "      <td>2022</td>\n",
       "      <td>12</td>\n",
       "      <td>2022-12</td>\n",
       "    </tr>\n",
       "    <tr>\n",
       "      <th>1</th>\n",
       "      <td>PID1001</td>\n",
       "      <td>Health Basic</td>\n",
       "      <td>BrandZ</td>\n",
       "      <td>TV</td>\n",
       "      <td>1360</td>\n",
       "      <td>4.8</td>\n",
       "      <td>1442</td>\n",
       "      <td>2020-06-26</td>\n",
       "      <td>Out of Stock</td>\n",
       "      <td>Middle side concern admit wonder decision refl...</td>\n",
       "      <td>Budget</td>\n",
       "      <td>50.51</td>\n",
       "      <td>673</td>\n",
       "      <td>Low</td>\n",
       "      <td>Excellent</td>\n",
       "      <td>True</td>\n",
       "      <td>2020</td>\n",
       "      <td>6</td>\n",
       "      <td>2020-06</td>\n",
       "    </tr>\n",
       "    <tr>\n",
       "      <th>2</th>\n",
       "      <td>PID1002</td>\n",
       "      <td>Put Basic</td>\n",
       "      <td>BrandB</td>\n",
       "      <td>Phone</td>\n",
       "      <td>77320</td>\n",
       "      <td>2.5</td>\n",
       "      <td>8597</td>\n",
       "      <td>2021-10-24</td>\n",
       "      <td>Out of Stock</td>\n",
       "      <td>Assume draw attention former involve couple we...</td>\n",
       "      <td>Budget</td>\n",
       "      <td>47.05</td>\n",
       "      <td>40941</td>\n",
       "      <td>High</td>\n",
       "      <td>Poor</td>\n",
       "      <td>False</td>\n",
       "      <td>2021</td>\n",
       "      <td>10</td>\n",
       "      <td>2021-10</td>\n",
       "    </tr>\n",
       "    <tr>\n",
       "      <th>3</th>\n",
       "      <td>PID1003</td>\n",
       "      <td>Too Lite</td>\n",
       "      <td>BrandA</td>\n",
       "      <td>Laptop</td>\n",
       "      <td>55386</td>\n",
       "      <td>3.1</td>\n",
       "      <td>4437</td>\n",
       "      <td>2022-11-16</td>\n",
       "      <td>Out of Stock</td>\n",
       "      <td>Something me bring customer nation culture pro...</td>\n",
       "      <td>Budget</td>\n",
       "      <td>36.54</td>\n",
       "      <td>35148</td>\n",
       "      <td>Medium</td>\n",
       "      <td>Average</td>\n",
       "      <td>False</td>\n",
       "      <td>2022</td>\n",
       "      <td>11</td>\n",
       "      <td>2022-11</td>\n",
       "    </tr>\n",
       "    <tr>\n",
       "      <th>4</th>\n",
       "      <td>PID1004</td>\n",
       "      <td>Short Lite</td>\n",
       "      <td>BrandA</td>\n",
       "      <td>Laptop</td>\n",
       "      <td>6765</td>\n",
       "      <td>3.4</td>\n",
       "      <td>5435</td>\n",
       "      <td>2022-11-28</td>\n",
       "      <td>In Stock</td>\n",
       "      <td>Everything air bad up economic enough sport op...</td>\n",
       "      <td>Premium</td>\n",
       "      <td>57.58</td>\n",
       "      <td>2870</td>\n",
       "      <td>Low</td>\n",
       "      <td>Average</td>\n",
       "      <td>True</td>\n",
       "      <td>2022</td>\n",
       "      <td>11</td>\n",
       "      <td>2022-11</td>\n",
       "    </tr>\n",
       "  </tbody>\n",
       "</table>\n",
       "</div>"
      ],
      "text/plain": [
       "  product_id     product_name   brand category  retail_price  ratings  \\\n",
       "0    PID1000  Management Plus  BrandB   Laptop         16295      3.3   \n",
       "1    PID1001     Health Basic  BrandZ       TV          1360      4.8   \n",
       "2    PID1002        Put Basic  BrandB    Phone         77320      2.5   \n",
       "3    PID1003         Too Lite  BrandA   Laptop         55386      3.1   \n",
       "4    PID1004       Short Lite  BrandA   Laptop          6765      3.4   \n",
       "\n",
       "   reviews date_added  stock_status  \\\n",
       "0     8453 2022-12-04      In Stock   \n",
       "1     1442 2020-06-26  Out of Stock   \n",
       "2     8597 2021-10-24  Out of Stock   \n",
       "3     4437 2022-11-16  Out of Stock   \n",
       "4     5435 2022-11-28      In Stock   \n",
       "\n",
       "                                         description customer_segment  \\\n",
       "0  Rate leader these trade dog best young audienc...         Mid-Tier   \n",
       "1  Middle side concern admit wonder decision refl...           Budget   \n",
       "2  Assume draw attention former involve couple we...           Budget   \n",
       "3  Something me bring customer nation culture pro...           Budget   \n",
       "4  Everything air bad up economic enough sport op...          Premium   \n",
       "\n",
       "   discount_pct  discounted_price price_tier rating_level  is_outlier  year  \\\n",
       "0         27.42             11827        Low      Average       False  2022   \n",
       "1         50.51               673        Low    Excellent        True  2020   \n",
       "2         47.05             40941       High         Poor       False  2021   \n",
       "3         36.54             35148     Medium      Average       False  2022   \n",
       "4         57.58              2870        Low      Average        True  2022   \n",
       "\n",
       "   month year_month  \n",
       "0     12    2022-12  \n",
       "1      6    2020-06  \n",
       "2     10    2021-10  \n",
       "3     11    2022-11  \n",
       "4     11    2022-11  "
      ]
     },
     "execution_count": 238,
     "metadata": {},
     "output_type": "execute_result"
    }
   ],
   "source": [
    "df = pd.read_csv(\"C:\\\\Ecommercepriceanalysis\\\\ecommerce_data.csv\")\n",
    "df['date_added'] = pd.to_datetime(df['date_added'])\n",
    "df['year'] = df['date_added'].dt.year\n",
    "df['month'] = df['date_added'].dt.month\n",
    "df['year_month'] = df['date_added'].dt.to_period(\"M\")\n",
    "df.head()\n"
   ]
  },
  {
   "cell_type": "markdown",
   "id": "390c26bf-b99d-412c-9c8c-f4f102c7282c",
   "metadata": {},
   "source": [
    "##  Feature Engineering\n",
    "Let’s calculate some custom features like:\n",
    "- Effective Discount\n",
    "- Price-to-Rating Ratio\n",
    "- Review Score\n"
   ]
  },
  {
   "cell_type": "code",
   "execution_count": 239,
   "id": "ce8d9765-043a-4c76-a2d6-a834a0b3f0a5",
   "metadata": {},
   "outputs": [
    {
     "data": {
      "text/html": [
       "<div>\n",
       "<style scoped>\n",
       "    .dataframe tbody tr th:only-of-type {\n",
       "        vertical-align: middle;\n",
       "    }\n",
       "\n",
       "    .dataframe tbody tr th {\n",
       "        vertical-align: top;\n",
       "    }\n",
       "\n",
       "    .dataframe thead th {\n",
       "        text-align: right;\n",
       "    }\n",
       "</style>\n",
       "<table border=\"1\" class=\"dataframe\">\n",
       "  <thead>\n",
       "    <tr style=\"text-align: right;\">\n",
       "      <th></th>\n",
       "      <th>discount_pct</th>\n",
       "      <th>effective_discount</th>\n",
       "      <th>price_rating_ratio</th>\n",
       "      <th>review_score</th>\n",
       "    </tr>\n",
       "  </thead>\n",
       "  <tbody>\n",
       "    <tr>\n",
       "      <th>count</th>\n",
       "      <td>1000.000000</td>\n",
       "      <td>1000.000000</td>\n",
       "      <td>1000.000000</td>\n",
       "      <td>1000.000000</td>\n",
       "    </tr>\n",
       "    <tr>\n",
       "      <th>mean</th>\n",
       "      <td>32.559040</td>\n",
       "      <td>16060.707000</td>\n",
       "      <td>7249.122332</td>\n",
       "      <td>30.929352</td>\n",
       "    </tr>\n",
       "    <tr>\n",
       "      <th>std</th>\n",
       "      <td>15.906996</td>\n",
       "      <td>12897.199695</td>\n",
       "      <td>4876.567503</td>\n",
       "      <td>6.975156</td>\n",
       "    </tr>\n",
       "    <tr>\n",
       "      <th>min</th>\n",
       "      <td>5.000000</td>\n",
       "      <td>68.000000</td>\n",
       "      <td>88.983051</td>\n",
       "      <td>8.109822</td>\n",
       "    </tr>\n",
       "    <tr>\n",
       "      <th>25%</th>\n",
       "      <td>18.795000</td>\n",
       "      <td>5430.000000</td>\n",
       "      <td>3373.465695</td>\n",
       "      <td>25.570959</td>\n",
       "    </tr>\n",
       "    <tr>\n",
       "      <th>50%</th>\n",
       "      <td>32.910000</td>\n",
       "      <td>12501.500000</td>\n",
       "      <td>6601.190711</td>\n",
       "      <td>30.914663</td>\n",
       "    </tr>\n",
       "    <tr>\n",
       "      <th>75%</th>\n",
       "      <td>46.165000</td>\n",
       "      <td>25139.000000</td>\n",
       "      <td>10370.081408</td>\n",
       "      <td>36.504141</td>\n",
       "    </tr>\n",
       "    <tr>\n",
       "      <th>max</th>\n",
       "      <td>59.940000</td>\n",
       "      <td>56376.000000</td>\n",
       "      <td>22262.285714</td>\n",
       "      <td>45.793656</td>\n",
       "    </tr>\n",
       "  </tbody>\n",
       "</table>\n",
       "</div>"
      ],
      "text/plain": [
       "       discount_pct  effective_discount  price_rating_ratio  review_score\n",
       "count   1000.000000         1000.000000         1000.000000   1000.000000\n",
       "mean      32.559040        16060.707000         7249.122332     30.929352\n",
       "std       15.906996        12897.199695         4876.567503      6.975156\n",
       "min        5.000000           68.000000           88.983051      8.109822\n",
       "25%       18.795000         5430.000000         3373.465695     25.570959\n",
       "50%       32.910000        12501.500000         6601.190711     30.914663\n",
       "75%       46.165000        25139.000000        10370.081408     36.504141\n",
       "max       59.940000        56376.000000        22262.285714     45.793656"
      ]
     },
     "execution_count": 239,
     "metadata": {},
     "output_type": "execute_result"
    }
   ],
   "source": [
    "df['effective_discount'] = df['retail_price'] - df['discounted_price']\n",
    "df['price_rating_ratio'] = df['discounted_price'] / (df['ratings'] + 1)\n",
    "df['review_score'] = df['ratings'] * np.log1p(df['reviews'])\n",
    "df[['discount_pct', 'effective_discount', 'price_rating_ratio', 'review_score']].describe()\n"
   ]
  },
  {
   "cell_type": "markdown",
   "id": "3dca730c-0147-4029-b6d6-444543a71585",
   "metadata": {},
   "source": [
    "##  Connect to SQLite DB\n",
    "We'll now run powerful SQL queries using the `.db` file.\n"
   ]
  },
  {
   "cell_type": "code",
   "execution_count": 240,
   "id": "b22673d3-6189-43e8-b961-06e340443517",
   "metadata": {},
   "outputs": [],
   "source": [
    "conn = sqlite3.connect(\"C:\\\\Ecommercepriceanalysis\\\\ecommerce_data.db\")\n"
   ]
  },
  {
   "cell_type": "markdown",
   "id": "f5377b84-a1b1-4333-a2a2-ad973a9f6961",
   "metadata": {},
   "source": [
    "##  SQL Queries\n",
    "Let's run various queries to analyze discount, category, and user segments using SQL.\n"
   ]
  },
  {
   "cell_type": "code",
   "execution_count": 241,
   "id": "7ec14495-6e45-4d55-82e8-ded360e6a263",
   "metadata": {},
   "outputs": [
    {
     "data": {
      "text/html": [
       "<div>\n",
       "<style scoped>\n",
       "    .dataframe tbody tr th:only-of-type {\n",
       "        vertical-align: middle;\n",
       "    }\n",
       "\n",
       "    .dataframe tbody tr th {\n",
       "        vertical-align: top;\n",
       "    }\n",
       "\n",
       "    .dataframe thead th {\n",
       "        text-align: right;\n",
       "    }\n",
       "</style>\n",
       "<table border=\"1\" class=\"dataframe\">\n",
       "  <thead>\n",
       "    <tr style=\"text-align: right;\">\n",
       "      <th></th>\n",
       "      <th>category</th>\n",
       "      <th>avg_discounted_price</th>\n",
       "    </tr>\n",
       "  </thead>\n",
       "  <tbody>\n",
       "    <tr>\n",
       "      <th>0</th>\n",
       "      <td>Laptop</td>\n",
       "      <td>34483.77</td>\n",
       "    </tr>\n",
       "    <tr>\n",
       "      <th>1</th>\n",
       "      <td>TV</td>\n",
       "      <td>34419.17</td>\n",
       "    </tr>\n",
       "    <tr>\n",
       "      <th>2</th>\n",
       "      <td>Phone</td>\n",
       "      <td>33906.20</td>\n",
       "    </tr>\n",
       "    <tr>\n",
       "      <th>3</th>\n",
       "      <td>Beauty</td>\n",
       "      <td>33738.18</td>\n",
       "    </tr>\n",
       "    <tr>\n",
       "      <th>4</th>\n",
       "      <td>Home Appliance</td>\n",
       "      <td>33566.61</td>\n",
       "    </tr>\n",
       "    <tr>\n",
       "      <th>5</th>\n",
       "      <td>Grocery</td>\n",
       "      <td>31388.52</td>\n",
       "    </tr>\n",
       "  </tbody>\n",
       "</table>\n",
       "</div>"
      ],
      "text/plain": [
       "         category  avg_discounted_price\n",
       "0          Laptop              34483.77\n",
       "1              TV              34419.17\n",
       "2           Phone              33906.20\n",
       "3          Beauty              33738.18\n",
       "4  Home Appliance              33566.61\n",
       "5         Grocery              31388.52"
      ]
     },
     "execution_count": 241,
     "metadata": {},
     "output_type": "execute_result"
    }
   ],
   "source": [
    "query = \"\"\"\n",
    "SELECT category, ROUND(AVG(discounted_price), 2) AS avg_discounted_price\n",
    "FROM ecommerce\n",
    "GROUP BY category\n",
    "ORDER BY avg_discounted_price DESC;\n",
    "\"\"\"\n",
    "pd.read_sql_query(query, conn)\n"
   ]
  },
  {
   "cell_type": "code",
   "execution_count": 242,
   "id": "bbddca0d-47bc-4d20-a1b4-75a95a27e6d1",
   "metadata": {},
   "outputs": [
    {
     "data": {
      "text/html": [
       "<div>\n",
       "<style scoped>\n",
       "    .dataframe tbody tr th:only-of-type {\n",
       "        vertical-align: middle;\n",
       "    }\n",
       "\n",
       "    .dataframe tbody tr th {\n",
       "        vertical-align: top;\n",
       "    }\n",
       "\n",
       "    .dataframe thead th {\n",
       "        text-align: right;\n",
       "    }\n",
       "</style>\n",
       "<table border=\"1\" class=\"dataframe\">\n",
       "  <thead>\n",
       "    <tr style=\"text-align: right;\">\n",
       "      <th></th>\n",
       "      <th>product_name</th>\n",
       "      <th>ratings</th>\n",
       "      <th>reviews</th>\n",
       "    </tr>\n",
       "  </thead>\n",
       "  <tbody>\n",
       "    <tr>\n",
       "      <th>0</th>\n",
       "      <td>Pull Plus</td>\n",
       "      <td>5.0</td>\n",
       "      <td>9496</td>\n",
       "    </tr>\n",
       "    <tr>\n",
       "      <th>1</th>\n",
       "      <td>Member Basic</td>\n",
       "      <td>5.0</td>\n",
       "      <td>9429</td>\n",
       "    </tr>\n",
       "    <tr>\n",
       "      <th>2</th>\n",
       "      <td>Professional Lite</td>\n",
       "      <td>5.0</td>\n",
       "      <td>9135</td>\n",
       "    </tr>\n",
       "    <tr>\n",
       "      <th>3</th>\n",
       "      <td>Truth Pro</td>\n",
       "      <td>5.0</td>\n",
       "      <td>8804</td>\n",
       "    </tr>\n",
       "    <tr>\n",
       "      <th>4</th>\n",
       "      <td>Usually Plus</td>\n",
       "      <td>5.0</td>\n",
       "      <td>7697</td>\n",
       "    </tr>\n",
       "  </tbody>\n",
       "</table>\n",
       "</div>"
      ],
      "text/plain": [
       "        product_name  ratings  reviews\n",
       "0          Pull Plus      5.0     9496\n",
       "1       Member Basic      5.0     9429\n",
       "2  Professional Lite      5.0     9135\n",
       "3          Truth Pro      5.0     8804\n",
       "4       Usually Plus      5.0     7697"
      ]
     },
     "execution_count": 242,
     "metadata": {},
     "output_type": "execute_result"
    }
   ],
   "source": [
    "query = \"\"\"\n",
    "SELECT product_name, ratings, reviews\n",
    "FROM ecommerce\n",
    "ORDER BY ratings DESC, reviews DESC\n",
    "LIMIT 5;\n",
    "\"\"\"\n",
    "pd.read_sql_query(query, conn)\n"
   ]
  },
  {
   "cell_type": "code",
   "execution_count": 243,
   "id": "b9f09196-6f28-4edb-bec8-b7c210b33604",
   "metadata": {},
   "outputs": [
    {
     "data": {
      "text/html": [
       "<div>\n",
       "<style scoped>\n",
       "    .dataframe tbody tr th:only-of-type {\n",
       "        vertical-align: middle;\n",
       "    }\n",
       "\n",
       "    .dataframe tbody tr th {\n",
       "        vertical-align: top;\n",
       "    }\n",
       "\n",
       "    .dataframe thead th {\n",
       "        text-align: right;\n",
       "    }\n",
       "</style>\n",
       "<table border=\"1\" class=\"dataframe\">\n",
       "  <thead>\n",
       "    <tr style=\"text-align: right;\">\n",
       "      <th></th>\n",
       "      <th>month</th>\n",
       "      <th>avg_price</th>\n",
       "    </tr>\n",
       "  </thead>\n",
       "  <tbody>\n",
       "    <tr>\n",
       "      <th>0</th>\n",
       "      <td>2020-06</td>\n",
       "      <td>33472.50</td>\n",
       "    </tr>\n",
       "    <tr>\n",
       "      <th>1</th>\n",
       "      <td>2020-07</td>\n",
       "      <td>28619.80</td>\n",
       "    </tr>\n",
       "    <tr>\n",
       "      <th>2</th>\n",
       "      <td>2020-08</td>\n",
       "      <td>45963.20</td>\n",
       "    </tr>\n",
       "    <tr>\n",
       "      <th>3</th>\n",
       "      <td>2020-09</td>\n",
       "      <td>27686.54</td>\n",
       "    </tr>\n",
       "    <tr>\n",
       "      <th>4</th>\n",
       "      <td>2020-10</td>\n",
       "      <td>30767.29</td>\n",
       "    </tr>\n",
       "    <tr>\n",
       "      <th>...</th>\n",
       "      <td>...</td>\n",
       "      <td>...</td>\n",
       "    </tr>\n",
       "    <tr>\n",
       "      <th>56</th>\n",
       "      <td>2025-02</td>\n",
       "      <td>27379.81</td>\n",
       "    </tr>\n",
       "    <tr>\n",
       "      <th>57</th>\n",
       "      <td>2025-03</td>\n",
       "      <td>27302.87</td>\n",
       "    </tr>\n",
       "    <tr>\n",
       "      <th>58</th>\n",
       "      <td>2025-04</td>\n",
       "      <td>27800.33</td>\n",
       "    </tr>\n",
       "    <tr>\n",
       "      <th>59</th>\n",
       "      <td>2025-05</td>\n",
       "      <td>23921.00</td>\n",
       "    </tr>\n",
       "    <tr>\n",
       "      <th>60</th>\n",
       "      <td>2025-06</td>\n",
       "      <td>36174.14</td>\n",
       "    </tr>\n",
       "  </tbody>\n",
       "</table>\n",
       "<p>61 rows × 2 columns</p>\n",
       "</div>"
      ],
      "text/plain": [
       "      month  avg_price\n",
       "0   2020-06   33472.50\n",
       "1   2020-07   28619.80\n",
       "2   2020-08   45963.20\n",
       "3   2020-09   27686.54\n",
       "4   2020-10   30767.29\n",
       "..      ...        ...\n",
       "56  2025-02   27379.81\n",
       "57  2025-03   27302.87\n",
       "58  2025-04   27800.33\n",
       "59  2025-05   23921.00\n",
       "60  2025-06   36174.14\n",
       "\n",
       "[61 rows x 2 columns]"
      ]
     },
     "execution_count": 243,
     "metadata": {},
     "output_type": "execute_result"
    }
   ],
   "source": [
    "query = \"\"\"\n",
    "SELECT strftime('%Y-%m', date_added) AS month, ROUND(AVG(discounted_price), 2) AS avg_price\n",
    "FROM ecommerce\n",
    "GROUP BY month\n",
    "ORDER BY month;\n",
    "\"\"\"\n",
    "pd.read_sql_query(query, conn)\n"
   ]
  },
  {
   "cell_type": "code",
   "execution_count": 244,
   "id": "0ffdbf48-919a-46de-a11a-7a511a4d8298",
   "metadata": {},
   "outputs": [
    {
     "data": {
      "text/html": [
       "<div>\n",
       "<style scoped>\n",
       "    .dataframe tbody tr th:only-of-type {\n",
       "        vertical-align: middle;\n",
       "    }\n",
       "\n",
       "    .dataframe tbody tr th {\n",
       "        vertical-align: top;\n",
       "    }\n",
       "\n",
       "    .dataframe thead th {\n",
       "        text-align: right;\n",
       "    }\n",
       "</style>\n",
       "<table border=\"1\" class=\"dataframe\">\n",
       "  <thead>\n",
       "    <tr style=\"text-align: right;\">\n",
       "      <th></th>\n",
       "      <th>brand</th>\n",
       "      <th>avg_discount</th>\n",
       "    </tr>\n",
       "  </thead>\n",
       "  <tbody>\n",
       "    <tr>\n",
       "      <th>0</th>\n",
       "      <td>BrandB</td>\n",
       "      <td>35.41</td>\n",
       "    </tr>\n",
       "    <tr>\n",
       "      <th>1</th>\n",
       "      <td>BrandY</td>\n",
       "      <td>32.89</td>\n",
       "    </tr>\n",
       "    <tr>\n",
       "      <th>2</th>\n",
       "      <td>BrandA</td>\n",
       "      <td>32.81</td>\n",
       "    </tr>\n",
       "    <tr>\n",
       "      <th>3</th>\n",
       "      <td>BrandX</td>\n",
       "      <td>32.43</td>\n",
       "    </tr>\n",
       "    <tr>\n",
       "      <th>4</th>\n",
       "      <td>BrandZ</td>\n",
       "      <td>30.97</td>\n",
       "    </tr>\n",
       "    <tr>\n",
       "      <th>5</th>\n",
       "      <td>BrandC</td>\n",
       "      <td>30.78</td>\n",
       "    </tr>\n",
       "  </tbody>\n",
       "</table>\n",
       "</div>"
      ],
      "text/plain": [
       "    brand  avg_discount\n",
       "0  BrandB         35.41\n",
       "1  BrandY         32.89\n",
       "2  BrandA         32.81\n",
       "3  BrandX         32.43\n",
       "4  BrandZ         30.97\n",
       "5  BrandC         30.78"
      ]
     },
     "execution_count": 244,
     "metadata": {},
     "output_type": "execute_result"
    }
   ],
   "source": [
    "query = \"\"\"\n",
    "SELECT brand, ROUND(AVG(discount_pct), 2) AS avg_discount\n",
    "FROM ecommerce\n",
    "GROUP BY brand\n",
    "ORDER BY avg_discount DESC;\n",
    "\"\"\"\n",
    "pd.read_sql_query(query, conn)\n"
   ]
  },
  {
   "cell_type": "code",
   "execution_count": 245,
   "id": "5cc1ec76-d8e9-4fdc-aafd-df80c55bbe78",
   "metadata": {},
   "outputs": [
    {
     "data": {
      "text/html": [
       "<div>\n",
       "<style scoped>\n",
       "    .dataframe tbody tr th:only-of-type {\n",
       "        vertical-align: middle;\n",
       "    }\n",
       "\n",
       "    .dataframe tbody tr th {\n",
       "        vertical-align: top;\n",
       "    }\n",
       "\n",
       "    .dataframe thead th {\n",
       "        text-align: right;\n",
       "    }\n",
       "</style>\n",
       "<table border=\"1\" class=\"dataframe\">\n",
       "  <thead>\n",
       "    <tr style=\"text-align: right;\">\n",
       "      <th></th>\n",
       "      <th>rating_level</th>\n",
       "      <th>count</th>\n",
       "    </tr>\n",
       "  </thead>\n",
       "  <tbody>\n",
       "    <tr>\n",
       "      <th>0</th>\n",
       "      <td>Average</td>\n",
       "      <td>416</td>\n",
       "    </tr>\n",
       "    <tr>\n",
       "      <th>1</th>\n",
       "      <td>Excellent</td>\n",
       "      <td>182</td>\n",
       "    </tr>\n",
       "    <tr>\n",
       "      <th>2</th>\n",
       "      <td>Good</td>\n",
       "      <td>195</td>\n",
       "    </tr>\n",
       "    <tr>\n",
       "      <th>3</th>\n",
       "      <td>Poor</td>\n",
       "      <td>207</td>\n",
       "    </tr>\n",
       "  </tbody>\n",
       "</table>\n",
       "</div>"
      ],
      "text/plain": [
       "  rating_level  count\n",
       "0      Average    416\n",
       "1    Excellent    182\n",
       "2         Good    195\n",
       "3         Poor    207"
      ]
     },
     "execution_count": 245,
     "metadata": {},
     "output_type": "execute_result"
    }
   ],
   "source": [
    "query = \"\"\"\n",
    "SELECT rating_level, COUNT(*) AS count\n",
    "FROM ecommerce\n",
    "GROUP BY rating_level;\n",
    "\"\"\"\n",
    "pd.read_sql_query(query, conn)\n"
   ]
  },
  {
   "cell_type": "code",
   "execution_count": 246,
   "id": "b52d8979-6dce-47fa-9250-eff60829908e",
   "metadata": {},
   "outputs": [
    {
     "data": {
      "text/html": [
       "<div>\n",
       "<style scoped>\n",
       "    .dataframe tbody tr th:only-of-type {\n",
       "        vertical-align: middle;\n",
       "    }\n",
       "\n",
       "    .dataframe tbody tr th {\n",
       "        vertical-align: top;\n",
       "    }\n",
       "\n",
       "    .dataframe thead th {\n",
       "        text-align: right;\n",
       "    }\n",
       "</style>\n",
       "<table border=\"1\" class=\"dataframe\">\n",
       "  <thead>\n",
       "    <tr style=\"text-align: right;\">\n",
       "      <th></th>\n",
       "      <th>category</th>\n",
       "      <th>total_reviews</th>\n",
       "    </tr>\n",
       "  </thead>\n",
       "  <tbody>\n",
       "    <tr>\n",
       "      <th>0</th>\n",
       "      <td>TV</td>\n",
       "      <td>899123</td>\n",
       "    </tr>\n",
       "    <tr>\n",
       "      <th>1</th>\n",
       "      <td>Phone</td>\n",
       "      <td>896634</td>\n",
       "    </tr>\n",
       "    <tr>\n",
       "      <th>2</th>\n",
       "      <td>Beauty</td>\n",
       "      <td>848305</td>\n",
       "    </tr>\n",
       "    <tr>\n",
       "      <th>3</th>\n",
       "      <td>Grocery</td>\n",
       "      <td>791524</td>\n",
       "    </tr>\n",
       "    <tr>\n",
       "      <th>4</th>\n",
       "      <td>Laptop</td>\n",
       "      <td>775910</td>\n",
       "    </tr>\n",
       "  </tbody>\n",
       "</table>\n",
       "</div>"
      ],
      "text/plain": [
       "  category  total_reviews\n",
       "0       TV         899123\n",
       "1    Phone         896634\n",
       "2   Beauty         848305\n",
       "3  Grocery         791524\n",
       "4   Laptop         775910"
      ]
     },
     "execution_count": 246,
     "metadata": {},
     "output_type": "execute_result"
    }
   ],
   "source": [
    "query = \"\"\"\n",
    "SELECT category, SUM(reviews) AS total_reviews\n",
    "FROM ecommerce\n",
    "GROUP BY category\n",
    "ORDER BY total_reviews DESC\n",
    "LIMIT 5;\n",
    "\"\"\"\n",
    "pd.read_sql_query(query, conn)\n"
   ]
  },
  {
   "cell_type": "code",
   "execution_count": 247,
   "id": "0c6466dc-cd56-4fc6-b0fc-c80906ca399a",
   "metadata": {},
   "outputs": [
    {
     "data": {
      "text/html": [
       "<div>\n",
       "<style scoped>\n",
       "    .dataframe tbody tr th:only-of-type {\n",
       "        vertical-align: middle;\n",
       "    }\n",
       "\n",
       "    .dataframe tbody tr th {\n",
       "        vertical-align: top;\n",
       "    }\n",
       "\n",
       "    .dataframe thead th {\n",
       "        text-align: right;\n",
       "    }\n",
       "</style>\n",
       "<table border=\"1\" class=\"dataframe\">\n",
       "  <thead>\n",
       "    <tr style=\"text-align: right;\">\n",
       "      <th></th>\n",
       "      <th>product_id</th>\n",
       "      <th>product_name</th>\n",
       "      <th>discount_pct</th>\n",
       "      <th>category</th>\n",
       "    </tr>\n",
       "  </thead>\n",
       "  <tbody>\n",
       "    <tr>\n",
       "      <th>0</th>\n",
       "      <td>PID1903</td>\n",
       "      <td>Some Max</td>\n",
       "      <td>59.94</td>\n",
       "      <td>Beauty</td>\n",
       "    </tr>\n",
       "    <tr>\n",
       "      <th>1</th>\n",
       "      <td>PID1030</td>\n",
       "      <td>Weight Pro</td>\n",
       "      <td>59.88</td>\n",
       "      <td>Grocery</td>\n",
       "    </tr>\n",
       "    <tr>\n",
       "      <th>2</th>\n",
       "      <td>PID1908</td>\n",
       "      <td>Science Plus</td>\n",
       "      <td>59.87</td>\n",
       "      <td>Phone</td>\n",
       "    </tr>\n",
       "    <tr>\n",
       "      <th>3</th>\n",
       "      <td>PID1802</td>\n",
       "      <td>Paper Max</td>\n",
       "      <td>59.85</td>\n",
       "      <td>Beauty</td>\n",
       "    </tr>\n",
       "    <tr>\n",
       "      <th>4</th>\n",
       "      <td>PID1896</td>\n",
       "      <td>Job Max</td>\n",
       "      <td>59.79</td>\n",
       "      <td>Phone</td>\n",
       "    </tr>\n",
       "    <tr>\n",
       "      <th>...</th>\n",
       "      <td>...</td>\n",
       "      <td>...</td>\n",
       "      <td>...</td>\n",
       "      <td>...</td>\n",
       "    </tr>\n",
       "    <tr>\n",
       "      <th>166</th>\n",
       "      <td>PID1632</td>\n",
       "      <td>Media Pro</td>\n",
       "      <td>50.26</td>\n",
       "      <td>Beauty</td>\n",
       "    </tr>\n",
       "    <tr>\n",
       "      <th>167</th>\n",
       "      <td>PID1091</td>\n",
       "      <td>Single Basic</td>\n",
       "      <td>50.24</td>\n",
       "      <td>Beauty</td>\n",
       "    </tr>\n",
       "    <tr>\n",
       "      <th>168</th>\n",
       "      <td>PID1157</td>\n",
       "      <td>Marriage Lite</td>\n",
       "      <td>50.22</td>\n",
       "      <td>Grocery</td>\n",
       "    </tr>\n",
       "    <tr>\n",
       "      <th>169</th>\n",
       "      <td>PID1859</td>\n",
       "      <td>Of Max</td>\n",
       "      <td>50.20</td>\n",
       "      <td>Phone</td>\n",
       "    </tr>\n",
       "    <tr>\n",
       "      <th>170</th>\n",
       "      <td>PID1776</td>\n",
       "      <td>Save Pro</td>\n",
       "      <td>50.18</td>\n",
       "      <td>Laptop</td>\n",
       "    </tr>\n",
       "  </tbody>\n",
       "</table>\n",
       "<p>171 rows × 4 columns</p>\n",
       "</div>"
      ],
      "text/plain": [
       "    product_id   product_name  discount_pct category\n",
       "0      PID1903       Some Max         59.94   Beauty\n",
       "1      PID1030     Weight Pro         59.88  Grocery\n",
       "2      PID1908   Science Plus         59.87    Phone\n",
       "3      PID1802      Paper Max         59.85   Beauty\n",
       "4      PID1896        Job Max         59.79    Phone\n",
       "..         ...            ...           ...      ...\n",
       "166    PID1632      Media Pro         50.26   Beauty\n",
       "167    PID1091   Single Basic         50.24   Beauty\n",
       "168    PID1157  Marriage Lite         50.22  Grocery\n",
       "169    PID1859         Of Max         50.20    Phone\n",
       "170    PID1776       Save Pro         50.18   Laptop\n",
       "\n",
       "[171 rows x 4 columns]"
      ]
     },
     "execution_count": 247,
     "metadata": {},
     "output_type": "execute_result"
    }
   ],
   "source": [
    "query = \"\"\"\n",
    "SELECT product_id, product_name, discount_pct, category\n",
    "FROM ecommerce\n",
    "WHERE discount_pct > 50\n",
    "ORDER BY discount_pct DESC;\n",
    "\"\"\"\n",
    "pd.read_sql_query(query, conn)\n"
   ]
  },
  {
   "cell_type": "code",
   "execution_count": 248,
   "id": "8e3aa9fe-c176-4c58-93c3-433e897a8ccf",
   "metadata": {},
   "outputs": [
    {
     "data": {
      "text/html": [
       "<div>\n",
       "<style scoped>\n",
       "    .dataframe tbody tr th:only-of-type {\n",
       "        vertical-align: middle;\n",
       "    }\n",
       "\n",
       "    .dataframe tbody tr th {\n",
       "        vertical-align: top;\n",
       "    }\n",
       "\n",
       "    .dataframe thead th {\n",
       "        text-align: right;\n",
       "    }\n",
       "</style>\n",
       "<table border=\"1\" class=\"dataframe\">\n",
       "  <thead>\n",
       "    <tr style=\"text-align: right;\">\n",
       "      <th></th>\n",
       "      <th>customer_segment</th>\n",
       "      <th>product_count</th>\n",
       "    </tr>\n",
       "  </thead>\n",
       "  <tbody>\n",
       "    <tr>\n",
       "      <th>0</th>\n",
       "      <td>Budget</td>\n",
       "      <td>358</td>\n",
       "    </tr>\n",
       "    <tr>\n",
       "      <th>1</th>\n",
       "      <td>Mid-Tier</td>\n",
       "      <td>324</td>\n",
       "    </tr>\n",
       "    <tr>\n",
       "      <th>2</th>\n",
       "      <td>Premium</td>\n",
       "      <td>318</td>\n",
       "    </tr>\n",
       "  </tbody>\n",
       "</table>\n",
       "</div>"
      ],
      "text/plain": [
       "  customer_segment  product_count\n",
       "0           Budget            358\n",
       "1         Mid-Tier            324\n",
       "2          Premium            318"
      ]
     },
     "execution_count": 248,
     "metadata": {},
     "output_type": "execute_result"
    }
   ],
   "source": [
    "query = \"\"\"\n",
    "SELECT customer_segment, COUNT(*) AS product_count\n",
    "FROM ecommerce\n",
    "GROUP BY customer_segment;\n",
    "\"\"\"\n",
    "pd.read_sql_query(query, conn)\n"
   ]
  },
  {
   "cell_type": "code",
   "execution_count": 249,
   "id": "b8e85c1b-99cd-4c73-89d0-62de4822fa18",
   "metadata": {},
   "outputs": [
    {
     "data": {
      "text/html": [
       "<div>\n",
       "<style scoped>\n",
       "    .dataframe tbody tr th:only-of-type {\n",
       "        vertical-align: middle;\n",
       "    }\n",
       "\n",
       "    .dataframe tbody tr th {\n",
       "        vertical-align: top;\n",
       "    }\n",
       "\n",
       "    .dataframe thead th {\n",
       "        text-align: right;\n",
       "    }\n",
       "</style>\n",
       "<table border=\"1\" class=\"dataframe\">\n",
       "  <thead>\n",
       "    <tr style=\"text-align: right;\">\n",
       "      <th></th>\n",
       "      <th>estimated_revenue</th>\n",
       "    </tr>\n",
       "  </thead>\n",
       "  <tbody>\n",
       "    <tr>\n",
       "      <th>0</th>\n",
       "      <td>1.707780e+11</td>\n",
       "    </tr>\n",
       "  </tbody>\n",
       "</table>\n",
       "</div>"
      ],
      "text/plain": [
       "   estimated_revenue\n",
       "0       1.707780e+11"
      ]
     },
     "execution_count": 249,
     "metadata": {},
     "output_type": "execute_result"
    }
   ],
   "source": [
    "query = \"\"\"\n",
    "SELECT ROUND(SUM(discounted_price * reviews), 2) AS estimated_revenue\n",
    "FROM ecommerce;\n",
    "\"\"\"\n",
    "pd.read_sql_query(query, conn)\n"
   ]
  },
  {
   "cell_type": "code",
   "execution_count": 250,
   "id": "759e15a1-7290-421b-9011-33dc506ca7bf",
   "metadata": {},
   "outputs": [
    {
     "data": {
      "text/html": [
       "<div>\n",
       "<style scoped>\n",
       "    .dataframe tbody tr th:only-of-type {\n",
       "        vertical-align: middle;\n",
       "    }\n",
       "\n",
       "    .dataframe tbody tr th {\n",
       "        vertical-align: top;\n",
       "    }\n",
       "\n",
       "    .dataframe thead th {\n",
       "        text-align: right;\n",
       "    }\n",
       "</style>\n",
       "<table border=\"1\" class=\"dataframe\">\n",
       "  <thead>\n",
       "    <tr style=\"text-align: right;\">\n",
       "      <th></th>\n",
       "      <th>category</th>\n",
       "      <th>review_score</th>\n",
       "    </tr>\n",
       "  </thead>\n",
       "  <tbody>\n",
       "    <tr>\n",
       "      <th>0</th>\n",
       "      <td>Phone</td>\n",
       "      <td>31.71</td>\n",
       "    </tr>\n",
       "    <tr>\n",
       "      <th>1</th>\n",
       "      <td>Grocery</td>\n",
       "      <td>31.69</td>\n",
       "    </tr>\n",
       "    <tr>\n",
       "      <th>2</th>\n",
       "      <td>Beauty</td>\n",
       "      <td>31.01</td>\n",
       "    </tr>\n",
       "    <tr>\n",
       "      <th>3</th>\n",
       "      <td>TV</td>\n",
       "      <td>30.52</td>\n",
       "    </tr>\n",
       "    <tr>\n",
       "      <th>4</th>\n",
       "      <td>Home Appliance</td>\n",
       "      <td>30.34</td>\n",
       "    </tr>\n",
       "    <tr>\n",
       "      <th>5</th>\n",
       "      <td>Laptop</td>\n",
       "      <td>30.31</td>\n",
       "    </tr>\n",
       "  </tbody>\n",
       "</table>\n",
       "</div>"
      ],
      "text/plain": [
       "         category  review_score\n",
       "0           Phone         31.71\n",
       "1         Grocery         31.69\n",
       "2          Beauty         31.01\n",
       "3              TV         30.52\n",
       "4  Home Appliance         30.34\n",
       "5          Laptop         30.31"
      ]
     },
     "execution_count": 250,
     "metadata": {},
     "output_type": "execute_result"
    }
   ],
   "source": [
    "# Review score by category using Python\n",
    "df['review_score'] = df['ratings'] * np.log1p(df['reviews'])\n",
    "\n",
    "category_score = df.groupby('category')['review_score'].mean().sort_values(ascending=False).round(2)\n",
    "category_score.reset_index()\n",
    "\n"
   ]
  },
  {
   "cell_type": "code",
   "execution_count": 251,
   "id": "3f6ca115-2369-4060-aa63-ce5f4c93d4a5",
   "metadata": {},
   "outputs": [
    {
     "data": {
      "image/png": "[encoded data removed]",
      "text/plain": [
       "<Figure size 1000x500 with 1 Axes>"
      ]
     },
     "metadata": {},
     "output_type": "display_data"
    }
   ],
   "source": [
    "# Calculate review score by category\n",
    "df['review_score'] = df['ratings'] * np.log1p(df['reviews'])\n",
    "review_score_df = df.groupby('category')['review_score'].mean().sort_values(ascending=False).round(2).reset_index()\n",
    "\n",
    "plt.figure(figsize=(10, 5))\n",
    "sns.barplot(data=review_score_df, x='category', y='review_score',hue='category', palette='viridis')\n",
    "plt.title(\"Average Review Score by Category\")\n",
    "plt.ylabel(\"Avg Review Score (Rating × log(1 + Reviews))\")\n",
    "plt.xlabel(\"Category\")\n",
    "plt.xticks(rotation=45)\n",
    "plt.tight_layout()\n",
    "plt.show()\n"
   ]
  },
  {
   "cell_type": "code",
   "execution_count": 252,
   "id": "7277c838-8dd9-42fc-97e2-7f6975a125d4",
   "metadata": {},
   "outputs": [
    {
     "data": {
      "image/png": "[encoded data removed]",
      "text/plain": [
       "<Figure size 600x600 with 1 Axes>"
      ]
     },
     "metadata": {},
     "output_type": "display_data"
    }
   ],
   "source": [
    "# Count products by customer segment\n",
    "segment_counts = df['customer_segment'].value_counts()\n",
    "\n",
    "# Plot pie chart\n",
    "plt.figure(figsize=(6, 6))\n",
    "plt.pie(segment_counts, labels=segment_counts.index, autopct='%1.1f%%', startangle=120, colors=sns.color_palette(\"pastel\"))\n",
    "plt.title(\" Product Count by Customer Segment\")\n",
    "plt.axis('equal')\n",
    "plt.tight_layout()\n",
    "plt.show()\n"
   ]
  },
  {
   "cell_type": "code",
   "execution_count": 253,
   "id": "41e1eca7-689f-4756-833e-5fdb540d8f23",
   "metadata": {},
   "outputs": [
    {
     "data": {
      "image/png": "[encoded data removed]",
      "text/plain": [
       "<Figure size 1000x600 with 2 Axes>"
      ]
     },
     "metadata": {},
     "output_type": "display_data"
    }
   ],
   "source": [
    "# Select numeric columns only\n",
    "numeric_df = df[['retail_price', 'discounted_price', 'discount_pct', 'ratings', 'reviews', 'review_score']]\n",
    "corr_matrix = numeric_df.corr()\n",
    "\n",
    "# Plot\n",
    "plt.figure(figsize=(10, 6))\n",
    "sns.heatmap(corr_matrix, annot=True, cmap='coolwarm', linewidths=0.5)\n",
    "plt.title(\" Feature Correlation Heatmap\")\n",
    "plt.tight_layout()\n",
    "plt.show()\n"
   ]
  },
  {
   "cell_type": "markdown",
   "id": "e2b3156b-d52d-4470-816f-3f489416c007",
   "metadata": {},
   "source": [
    "##  Product Segmentation Using KMeans\n",
    "We grouped products into clusters based on their discounted price, reviews, and ratings to reveal shopping patterns.\n"
   ]
  },
  {
   "cell_type": "code",
   "execution_count": 254,
   "id": "b406eff4-3e81-49b5-bd5d-b0c3f2b98648",
   "metadata": {},
   "outputs": [
    {
     "data": {
      "application/vnd.plotly.v1+json": {
       "config": {
        "plotlyServerURL": "https://plot.ly"
       },
       "data": [
        {
         "customdata": [
          [
           "Management Plus",
           "BrandB",
           "Laptop"
          ],
          [
           "Health Basic",
           "BrandZ",
           "TV"
          ],
          [
           "Put Basic",
           "BrandB",
           "Phone"
          ],
          [
           "Too Lite",
           "BrandA",
           "Laptop"
          ],
          [
           "Short Lite",
           "BrandA",
           "Laptop"
          ],
          [
           "Law Max",
           "BrandY",
           "TV"
          ],
          [
           "Mind Max",
           "BrandB",
           "Laptop"
          ],
          [
           "Sing Plus",
           "BrandC",
           "TV"
          ],
          [
           "Scientist Lite",
           "BrandB",
           "Home Appliance"
          ],
          [
           "Agent Pro",
           "BrandC",
           "TV"
          ],
          [
           "True Basic",
           "BrandB",
           "Phone"
          ],
          [
           "Relationship Pro",
           "BrandC",
           "Grocery"
          ],
          [
           "Prove Pro",
           "BrandX",
           "Grocery"
          ],
          [
           "Happy Basic",
           "BrandY",
           "Phone"
          ],
          [
           "Season Plus",
           "BrandC",
           "Beauty"
          ],
          [
           "Entire Plus",
           "BrandA",
           "TV"
          ],
          [
           "Cost Basic",
           "BrandY",
           "Phone"
          ],
          [
           "Soon Plus",
           "BrandC",
           "Phone"
          ],
          [
           "Cultural Pro",
           "BrandY",
           "Phone"
          ],
          [
           "Rock Pro",
           "BrandX",
           "Beauty"
          ],
          [
           "Entire Max",
           "BrandA",
           "Beauty"
          ],
          [
           "Into Max",
           "BrandB",
           "Home Appliance"
          ],
          [
           "Expert Lite",
           "BrandZ",
           "Phone"
          ],
          [
           "Family Basic",
           "BrandC",
           "Phone"
          ],
          [
           "See Lite",
           "BrandB",
           "Laptop"
          ],
          [
           "Mrs Max",
           "BrandY",
           "TV"
          ],
          [
           "Too Max",
           "BrandC",
           "TV"
          ],
          [
           "Nature Pro",
           "BrandY",
           "Laptop"
          ],
          [
           "Voice Max",
           "BrandB",
           "TV"
          ],
          [
           "Among Pro",
           "BrandY",
           "Grocery"
          ],
          [
           "Weight Pro",
           "BrandY",
           "Grocery"
          ],
          [
           "Site Basic",
           "BrandX",
           "Beauty"
          ],
          [
           "Star Max",
           "BrandZ",
           "TV"
          ],
          [
           "Store Basic",
           "BrandC",
           "Home Appliance"
          ],
          [
           "Over Basic",
           "BrandX",
           "Laptop"
          ],
          [
           "Information Lite",
           "BrandA",
           "Home Appliance"
          ],
          [
           "Product Lite",
           "BrandY",
           "Grocery"
          ],
          [
           "Teacher Max",
           "BrandC",
           "Phone"
          ],
          [
           "Job Lite",
           "BrandX",
           "Grocery"
          ],
          [
           "Beautiful Basic",
           "BrandY",
           "Beauty"
          ],
          [
           "See Max",
           "BrandB",
           "Laptop"
          ],
          [
           "Wall Lite",
           "BrandX",
           "Laptop"
          ],
          [
           "Hour Max",
           "BrandX",
           "Phone"
          ],
          [
           "Benefit Lite",
           "BrandB",
           "TV"
          ],
          [
           "Be Pro",
           "BrandZ",
           "Phone"
          ],
          [
           "Certain Lite",
           "BrandY",
           "Grocery"
          ],
          [
           "Speech Max",
           "BrandB",
           "Home Appliance"
          ],
          [
           "Movie Pro",
           "BrandC",
           "Beauty"
          ],
          [
           "Official Plus",
           "BrandX",
           "Home Appliance"
          ],
          [
           "Mouth Pro",
           "BrandZ",
           "TV"
          ],
          [
           "Population Pro",
           "BrandA",
           "Grocery"
          ],
          [
           "Player Pro",
           "BrandY",
           "Home Appliance"
          ],
          [
           "Month Plus",
           "BrandA",
           "Grocery"
          ],
          [
           "Bag Lite",
           "BrandY",
           "TV"
          ],
          [
           "Feel Basic",
           "BrandX",
           "Grocery"
          ],
          [
           "Stuff Pro",
           "BrandA",
           "TV"
          ],
          [
           "Especially Lite",
           "BrandB",
           "TV"
          ],
          [
           "Fact Pro",
           "BrandB",
           "Phone"
          ],
          [
           "Attorney Basic",
           "BrandX",
           "Grocery"
          ],
          [
           "Popular Lite",
           "BrandY",
           "Home Appliance"
          ],
          [
           "Itself Pro",
           "BrandZ",
           "Grocery"
          ],
          [
           "Recent Max",
           "BrandB",
           "Phone"
          ],
          [
           "Somebody Max",
           "BrandB",
           "TV"
          ],
          [
           "Talk Pro",
           "BrandY",
           "Home Appliance"
          ],
          [
           "His Max",
           "BrandA",
           "Grocery"
          ],
          [
           "Lead Lite",
           "BrandY",
           "Grocery"
          ],
          [
           "Poor Max",
           "BrandZ",
           "Phone"
          ],
          [
           "Stand Plus",
           "BrandZ",
           "Beauty"
          ],
          [
           "Lot Lite",
           "BrandB",
           "Phone"
          ],
          [
           "Bill Plus",
           "BrandX",
           "Beauty"
          ],
          [
           "Suggest Lite",
           "BrandB",
           "Laptop"
          ],
          [
           "Coach Lite",
           "BrandY",
           "Laptop"
          ],
          [
           "Action Pro",
           "BrandA",
           "Grocery"
          ],
          [
           "Option Lite",
           "BrandZ",
           "Grocery"
          ],
          [
           "Condition Lite",
           "BrandC",
           "Phone"
          ],
          [
           "Nearly Plus",
           "BrandZ",
           "Phone"
          ],
          [
           "Not Pro",
           "BrandB",
           "Laptop"
          ],
          [
           "Population Pro",
           "BrandB",
           "TV"
          ],
          [
           "Even Lite",
           "BrandA",
           "Phone"
          ],
          [
           "Painting Plus",
           "BrandX",
           "TV"
          ],
          [
           "Difference Max",
           "BrandZ",
           "Laptop"
          ],
          [
           "Possible Lite",
           "BrandC",
           "TV"
          ],
          [
           "Goal Max",
           "BrandX",
           "Beauty"
          ],
          [
           "Above Basic",
           "BrandC",
           "Phone"
          ],
          [
           "Add Basic",
           "BrandC",
           "Grocery"
          ],
          [
           "Contain Lite",
           "BrandB",
           "Home Appliance"
          ],
          [
           "Other Plus",
           "BrandX",
           "Phone"
          ],
          [
           "Forward Lite",
           "BrandY",
           "Laptop"
          ],
          [
           "Listen Max",
           "BrandX",
           "Grocery"
          ],
          [
           "Debate Basic",
           "BrandC",
           "Laptop"
          ],
          [
           "Structure Plus",
           "BrandB",
           "Laptop"
          ],
          [
           "Single Basic",
           "BrandZ",
           "Beauty"
          ],
          [
           "Feel Plus",
           "BrandY",
           "Grocery"
          ],
          [
           "Possible Basic",
           "BrandC",
           "Phone"
          ],
          [
           "Alone Lite",
           "BrandB",
           "TV"
          ],
          [
           "Model Lite",
           "BrandZ",
           "Phone"
          ],
          [
           "Game Basic",
           "BrandA",
           "Home Appliance"
          ],
          [
           "Race Pro",
           "BrandY",
           "Laptop"
          ],
          [
           "Born Basic",
           "BrandA",
           "Grocery"
          ],
          [
           "Those Plus",
           "BrandA",
           "Laptop"
          ],
          [
           "Area Max",
           "BrandY",
           "Laptop"
          ],
          [
           "Detail Basic",
           "BrandB",
           "Phone"
          ],
          [
           "Ten Pro",
           "BrandB",
           "TV"
          ],
          [
           "You Lite",
           "BrandX",
           "Phone"
          ],
          [
           "Go Basic",
           "BrandC",
           "Beauty"
          ],
          [
           "Allow Pro",
           "BrandZ",
           "Grocery"
          ],
          [
           "Of Pro",
           "BrandX",
           "Laptop"
          ],
          [
           "Physical Pro",
           "BrandA",
           "Grocery"
          ],
          [
           "Improve Lite",
           "BrandX",
           "Grocery"
          ],
          [
           "Safe Plus",
           "BrandC",
           "Home Appliance"
          ],
          [
           "Region Basic",
           "BrandY",
           "Home Appliance"
          ],
          [
           "Simply Lite",
           "BrandY",
           "Home Appliance"
          ],
          [
           "Field Basic",
           "BrandY",
           "Grocery"
          ],
          [
           "Campaign Pro",
           "BrandC",
           "Home Appliance"
          ],
          [
           "Travel Lite",
           "BrandA",
           "Home Appliance"
          ],
          [
           "Control Lite",
           "BrandB",
           "Beauty"
          ],
          [
           "Rise Max",
           "BrandC",
           "Beauty"
          ],
          [
           "Half Basic",
           "BrandY",
           "Beauty"
          ],
          [
           "Quality Pro",
           "BrandB",
           "Grocery"
          ],
          [
           "Entire Pro",
           "BrandC",
           "Grocery"
          ],
          [
           "Game Plus",
           "BrandZ",
           "Beauty"
          ],
          [
           "Adult Plus",
           "BrandC",
           "TV"
          ],
          [
           "Full Pro",
           "BrandC",
           "Phone"
          ],
          [
           "In Plus",
           "BrandB",
           "Grocery"
          ],
          [
           "Rise Max",
           "BrandA",
           "Beauty"
          ],
          [
           "Tell Pro",
           "BrandY",
           "Beauty"
          ],
          [
           "Executive Max",
           "BrandY",
           "Home Appliance"
          ],
          [
           "Phone Pro",
           "BrandX",
           "Laptop"
          ],
          [
           "Approach Plus",
           "BrandX",
           "TV"
          ],
          [
           "Concern Basic",
           "BrandY",
           "Beauty"
          ],
          [
           "Item Basic",
           "BrandX",
           "Home Appliance"
          ],
          [
           "Computer Pro",
           "BrandA",
           "Phone"
          ],
          [
           "Represent Plus",
           "BrandB",
           "TV"
          ],
          [
           "Anyone Pro",
           "BrandZ",
           "Beauty"
          ],
          [
           "Can Max",
           "BrandA",
           "Laptop"
          ],
          [
           "Resource Pro",
           "BrandY",
           "TV"
          ],
          [
           "Morning Basic",
           "BrandC",
           "Grocery"
          ],
          [
           "Standard Plus",
           "BrandB",
           "TV"
          ],
          [
           "Economy Basic",
           "BrandB",
           "Home Appliance"
          ],
          [
           "Gas Plus",
           "BrandA",
           "Grocery"
          ],
          [
           "Evidence Plus",
           "BrandC",
           "TV"
          ],
          [
           "Tough Plus",
           "BrandZ",
           "Phone"
          ],
          [
           "System Pro",
           "BrandC",
           "Beauty"
          ],
          [
           "Edge Plus",
           "BrandA",
           "Beauty"
          ],
          [
           "List Pro",
           "BrandY",
           "Laptop"
          ],
          [
           "Well Lite",
           "BrandY",
           "Home Appliance"
          ],
          [
           "Program Pro",
           "BrandX",
           "Beauty"
          ],
          [
           "Feel Plus",
           "BrandB",
           "Home Appliance"
          ],
          [
           "Your Plus",
           "BrandC",
           "Home Appliance"
          ],
          [
           "Anything Pro",
           "BrandZ",
           "Grocery"
          ],
          [
           "Affect Basic",
           "BrandX",
           "TV"
          ],
          [
           "Either Basic",
           "BrandX",
           "Home Appliance"
          ],
          [
           "Care Lite",
           "BrandC",
           "Phone"
          ],
          [
           "Sign Pro",
           "BrandZ",
           "Phone"
          ],
          [
           "Model Pro",
           "BrandB",
           "TV"
          ],
          [
           "Increase Basic",
           "BrandC",
           "Home Appliance"
          ],
          [
           "Pattern Basic",
           "BrandA",
           "Beauty"
          ],
          [
           "Marriage Lite",
           "BrandB",
           "Grocery"
          ],
          [
           "Teach Pro",
           "BrandB",
           "Grocery"
          ],
          [
           "Have Max",
           "BrandC",
           "Grocery"
          ],
          [
           "Himself Pro",
           "BrandB",
           "Phone"
          ],
          [
           "Although Pro",
           "BrandC",
           "Laptop"
          ],
          [
           "Central Pro",
           "BrandA",
           "Grocery"
          ],
          [
           "Call Lite",
           "BrandX",
           "Beauty"
          ],
          [
           "Car Max",
           "BrandB",
           "Phone"
          ],
          [
           "West Lite",
           "BrandA",
           "Phone"
          ],
          [
           "Pull Lite",
           "BrandZ",
           "Phone"
          ],
          [
           "Week Basic",
           "BrandA",
           "Grocery"
          ],
          [
           "Painting Max",
           "BrandX",
           "Home Appliance"
          ],
          [
           "Enter Plus",
           "BrandA",
           "TV"
          ],
          [
           "Way Basic",
           "BrandC",
           "TV"
          ],
          [
           "Television Lite",
           "BrandB",
           "Grocery"
          ],
          [
           "Its Max",
           "BrandB",
           "Beauty"
          ],
          [
           "Set Max",
           "BrandX",
           "Grocery"
          ],
          [
           "Mind Basic",
           "BrandX",
           "Phone"
          ],
          [
           "Stand Lite",
           "BrandY",
           "Home Appliance"
          ],
          [
           "About Max",
           "BrandX",
           "Grocery"
          ],
          [
           "Nation Pro",
           "BrandA",
           "Home Appliance"
          ],
          [
           "Enjoy Lite",
           "BrandZ",
           "Home Appliance"
          ],
          [
           "Lot Basic",
           "BrandA",
           "Phone"
          ],
          [
           "Begin Basic",
           "BrandY",
           "Home Appliance"
          ],
          [
           "Someone Plus",
           "BrandA",
           "Grocery"
          ],
          [
           "Hotel Plus",
           "BrandZ",
           "Beauty"
          ],
          [
           "Shoulder Max",
           "BrandB",
           "Home Appliance"
          ],
          [
           "Career Lite",
           "BrandX",
           "TV"
          ],
          [
           "Never Basic",
           "BrandB",
           "Laptop"
          ],
          [
           "Production Lite",
           "BrandC",
           "Beauty"
          ],
          [
           "Tough Lite",
           "BrandB",
           "Beauty"
          ],
          [
           "Sell Basic",
           "BrandY",
           "Home Appliance"
          ],
          [
           "People Basic",
           "BrandX",
           "Home Appliance"
          ],
          [
           "Ever Pro",
           "BrandA",
           "Laptop"
          ],
          [
           "Price Basic",
           "BrandB",
           "Home Appliance"
          ],
          [
           "Since Max",
           "BrandC",
           "Home Appliance"
          ],
          [
           "Claim Pro",
           "BrandY",
           "Phone"
          ],
          [
           "Pay Max",
           "BrandX",
           "TV"
          ],
          [
           "Go Max",
           "BrandY",
           "TV"
          ],
          [
           "Bed Lite",
           "BrandX",
           "Beauty"
          ],
          [
           "Former Basic",
           "BrandB",
           "Home Appliance"
          ],
          [
           "With Lite",
           "BrandX",
           "Beauty"
          ],
          [
           "Real Lite",
           "BrandZ",
           "Grocery"
          ],
          [
           "Money Pro",
           "BrandY",
           "TV"
          ],
          [
           "Dog Lite",
           "BrandX",
           "Home Appliance"
          ],
          [
           "Information Lite",
           "BrandZ",
           "Laptop"
          ],
          [
           "House Plus",
           "BrandA",
           "Home Appliance"
          ],
          [
           "College Plus",
           "BrandX",
           "Home Appliance"
          ],
          [
           "Measure Basic",
           "BrandC",
           "Laptop"
          ],
          [
           "Court Plus",
           "BrandX",
           "Home Appliance"
          ],
          [
           "Us Pro",
           "BrandY",
           "Phone"
          ],
          [
           "Wife Lite",
           "BrandZ",
           "Home Appliance"
          ],
          [
           "Follow Basic",
           "BrandY",
           "TV"
          ],
          [
           "Around Basic",
           "BrandC",
           "Laptop"
          ],
          [
           "Often Plus",
           "BrandB",
           "TV"
          ],
          [
           "Recent Lite",
           "BrandX",
           "Phone"
          ],
          [
           "Various Basic",
           "BrandA",
           "TV"
          ],
          [
           "Value Max",
           "BrandC",
           "TV"
          ],
          [
           "We Pro",
           "BrandC",
           "Home Appliance"
          ],
          [
           "Main Lite",
           "BrandB",
           "TV"
          ],
          [
           "Analysis Max",
           "BrandX",
           "Phone"
          ],
          [
           "Ahead Basic",
           "BrandX",
           "TV"
          ],
          [
           "Commercial Max",
           "BrandX",
           "Home Appliance"
          ],
          [
           "Letter Basic",
           "BrandZ",
           "Beauty"
          ],
          [
           "Require Plus",
           "BrandX",
           "TV"
          ],
          [
           "Wrong Plus",
           "BrandY",
           "TV"
          ],
          [
           "Push Lite",
           "BrandZ",
           "TV"
          ],
          [
           "In Basic",
           "BrandB",
           "Laptop"
          ],
          [
           "Interesting Plus",
           "BrandZ",
           "Laptop"
          ],
          [
           "Heavy Plus",
           "BrandB",
           "Laptop"
          ],
          [
           "All Pro",
           "BrandY",
           "Phone"
          ],
          [
           "Usually Plus",
           "BrandY",
           "Home Appliance"
          ],
          [
           "Side Plus",
           "BrandB",
           "Home Appliance"
          ],
          [
           "Evening Pro",
           "BrandZ",
           "Beauty"
          ],
          [
           "Avoid Basic",
           "BrandA",
           "Grocery"
          ],
          [
           "At Plus",
           "BrandX",
           "Grocery"
          ],
          [
           "Receive Basic",
           "BrandB",
           "TV"
          ],
          [
           "Whole Basic",
           "BrandX",
           "Home Appliance"
          ],
          [
           "Point Plus",
           "BrandA",
           "TV"
          ],
          [
           "Glass Plus",
           "BrandA",
           "Home Appliance"
          ],
          [
           "Prove Basic",
           "BrandC",
           "Home Appliance"
          ],
          [
           "Day Pro",
           "BrandY",
           "Grocery"
          ],
          [
           "Success Lite",
           "BrandX",
           "TV"
          ],
          [
           "Believe Basic",
           "BrandA",
           "Laptop"
          ],
          [
           "Republican Pro",
           "BrandZ",
           "Phone"
          ],
          [
           "Far Basic",
           "BrandC",
           "Beauty"
          ],
          [
           "Meeting Max",
           "BrandA",
           "Home Appliance"
          ],
          [
           "Fact Max",
           "BrandY",
           "Grocery"
          ],
          [
           "Responsibility Plus",
           "BrandY",
           "TV"
          ],
          [
           "Where Pro",
           "BrandB",
           "Beauty"
          ],
          [
           "Prepare Pro",
           "BrandZ",
           "Phone"
          ],
          [
           "Detail Max",
           "BrandY",
           "TV"
          ],
          [
           "Peace Plus",
           "BrandY",
           "Phone"
          ],
          [
           "Live Plus",
           "BrandY",
           "Beauty"
          ],
          [
           "Without Plus",
           "BrandA",
           "Laptop"
          ],
          [
           "Purpose Max",
           "BrandA",
           "Grocery"
          ],
          [
           "Pull Basic",
           "BrandC",
           "Home Appliance"
          ],
          [
           "Future Lite",
           "BrandC",
           "Grocery"
          ],
          [
           "Specific Plus",
           "BrandB",
           "Grocery"
          ],
          [
           "Ability Pro",
           "BrandY",
           "Home Appliance"
          ],
          [
           "Notice Basic",
           "BrandY",
           "Beauty"
          ],
          [
           "Pm Pro",
           "BrandY",
           "TV"
          ],
          [
           "You Pro",
           "BrandY",
           "Home Appliance"
          ],
          [
           "Pull Plus",
           "BrandX",
           "Laptop"
          ],
          [
           "At Pro",
           "BrandC",
           "Beauty"
          ],
          [
           "Wind Max",
           "BrandC",
           "Grocery"
          ],
          [
           "Part Lite",
           "BrandZ",
           "Beauty"
          ],
          [
           "Attorney Max",
           "BrandC",
           "TV"
          ],
          [
           "Statement Basic",
           "BrandZ",
           "Home Appliance"
          ],
          [
           "Issue Max",
           "BrandX",
           "Grocery"
          ],
          [
           "Food Pro",
           "BrandZ",
           "TV"
          ],
          [
           "Card Max",
           "BrandC",
           "Home Appliance"
          ],
          [
           "Cultural Basic",
           "BrandA",
           "Home Appliance"
          ],
          [
           "Authority Lite",
           "BrandC",
           "Home Appliance"
          ],
          [
           "Market Basic",
           "BrandY",
           "Phone"
          ],
          [
           "Executive Basic",
           "BrandZ",
           "Grocery"
          ],
          [
           "Almost Max",
           "BrandB",
           "TV"
          ],
          [
           "Service Lite",
           "BrandY",
           "Home Appliance"
          ],
          [
           "Cut Pro",
           "BrandY",
           "Home Appliance"
          ],
          [
           "Seem Lite",
           "BrandC",
           "Phone"
          ],
          [
           "Likely Lite",
           "BrandZ",
           "Home Appliance"
          ],
          [
           "Wall Pro",
           "BrandA",
           "Beauty"
          ],
          [
           "Writer Lite",
           "BrandY",
           "Beauty"
          ],
          [
           "Career Max",
           "BrandA",
           "Home Appliance"
          ],
          [
           "Grow Max",
           "BrandA",
           "Phone"
          ],
          [
           "Blood Max",
           "BrandA",
           "Home Appliance"
          ],
          [
           "Surface Plus",
           "BrandZ",
           "Grocery"
          ],
          [
           "Nothing Pro",
           "BrandA",
           "Phone"
          ],
          [
           "Reveal Max",
           "BrandA",
           "Phone"
          ],
          [
           "Take Pro",
           "BrandY",
           "Beauty"
          ],
          [
           "Care Basic",
           "BrandA",
           "Grocery"
          ],
          [
           "Whatever Max",
           "BrandY",
           "Grocery"
          ],
          [
           "Try Plus",
           "BrandX",
           "Phone"
          ],
          [
           "Red Max",
           "BrandZ",
           "TV"
          ],
          [
           "Why Max",
           "BrandC",
           "Phone"
          ],
          [
           "Possible Plus",
           "BrandX",
           "Laptop"
          ],
          [
           "Baby Basic",
           "BrandY",
           "Beauty"
          ],
          [
           "Kid Pro",
           "BrandZ",
           "Laptop"
          ],
          [
           "Identify Basic",
           "BrandC",
           "TV"
          ],
          [
           "Whether Basic",
           "BrandY",
           "TV"
          ],
          [
           "Material Pro",
           "BrandZ",
           "Home Appliance"
          ],
          [
           "He Max",
           "BrandZ",
           "Grocery"
          ],
          [
           "Including Plus",
           "BrandY",
           "Beauty"
          ],
          [
           "Price Plus",
           "BrandX",
           "Grocery"
          ],
          [
           "Cost Max",
           "BrandX",
           "Grocery"
          ],
          [
           "Building Plus",
           "BrandA",
           "Laptop"
          ],
          [
           "Fly Max",
           "BrandZ",
           "TV"
          ],
          [
           "Fear Pro",
           "BrandC",
           "Grocery"
          ],
          [
           "Weight Lite",
           "BrandA",
           "Beauty"
          ],
          [
           "Good Max",
           "BrandC",
           "Phone"
          ],
          [
           "Thank Basic",
           "BrandC",
           "TV"
          ],
          [
           "Manager Lite",
           "BrandC",
           "Phone"
          ],
          [
           "You Lite",
           "BrandY",
           "Beauty"
          ],
          [
           "Child Lite",
           "BrandA",
           "Laptop"
          ],
          [
           "Serious Lite",
           "BrandX",
           "Home Appliance"
          ],
          [
           "Animal Plus",
           "BrandX",
           "Home Appliance"
          ],
          [
           "Congress Pro",
           "BrandB",
           "Grocery"
          ],
          [
           "Life Pro",
           "BrandY",
           "TV"
          ],
          [
           "Alone Lite",
           "BrandA",
           "Home Appliance"
          ],
          [
           "Situation Plus",
           "BrandZ",
           "Home Appliance"
          ],
          [
           "Reality Pro",
           "BrandZ",
           "Laptop"
          ],
          [
           "Too Plus",
           "BrandX",
           "Phone"
          ],
          [
           "Them Pro",
           "BrandB",
           "TV"
          ],
          [
           "Finally Plus",
           "BrandZ",
           "Beauty"
          ],
          [
           "Far Lite",
           "BrandC",
           "Grocery"
          ],
          [
           "Discover Lite",
           "BrandY",
           "Beauty"
          ],
          [
           "Could Basic",
           "BrandY",
           "Home Appliance"
          ],
          [
           "Beat Lite",
           "BrandY",
           "Phone"
          ],
          [
           "Tonight Plus",
           "BrandA",
           "TV"
          ],
          [
           "Trial Plus",
           "BrandA",
           "Phone"
          ],
          [
           "Wife Basic",
           "BrandA",
           "Home Appliance"
          ],
          [
           "Son Pro",
           "BrandC",
           "Grocery"
          ],
          [
           "Meet Pro",
           "BrandB",
           "Grocery"
          ],
          [
           "Key Lite",
           "BrandY",
           "Home Appliance"
          ],
          [
           "Assume Pro",
           "BrandZ",
           "TV"
          ],
          [
           "Law Lite",
           "BrandA",
           "TV"
          ],
          [
           "Anyone Pro",
           "BrandB",
           "Laptop"
          ],
          [
           "Read Pro",
           "BrandA",
           "Home Appliance"
          ],
          [
           "Daughter Pro",
           "BrandA",
           "Home Appliance"
          ],
          [
           "Not Basic",
           "BrandA",
           "Phone"
          ],
          [
           "Without Pro",
           "BrandA",
           "Grocery"
          ],
          [
           "Building Plus",
           "BrandA",
           "Home Appliance"
          ],
          [
           "Enter Lite",
           "BrandA",
           "Grocery"
          ],
          [
           "State Plus",
           "BrandY",
           "Home Appliance"
          ],
          [
           "Spend Basic",
           "BrandC",
           "Grocery"
          ],
          [
           "Stage Max",
           "BrandX",
           "Phone"
          ],
          [
           "Across Pro",
           "BrandB",
           "Laptop"
          ],
          [
           "Trade Lite",
           "BrandX",
           "TV"
          ],
          [
           "Writer Basic",
           "BrandB",
           "TV"
          ],
          [
           "Computer Max",
           "BrandZ",
           "Laptop"
          ],
          [
           "Trial Basic",
           "BrandA",
           "Grocery"
          ],
          [
           "Site Lite",
           "BrandY",
           "Phone"
          ],
          [
           "Party Lite",
           "BrandB",
           "Beauty"
          ],
          [
           "Life Pro",
           "BrandX",
           "Home Appliance"
          ],
          [
           "Here Max",
           "BrandZ",
           "Laptop"
          ],
          [
           "Relate Basic",
           "BrandY",
           "TV"
          ],
          [
           "Bill Basic",
           "BrandY",
           "TV"
          ],
          [
           "May Plus",
           "BrandA",
           "Grocery"
          ],
          [
           "Staff Basic",
           "BrandX",
           "Beauty"
          ],
          [
           "Career Max",
           "BrandA",
           "Grocery"
          ],
          [
           "Office Basic",
           "BrandC",
           "Home Appliance"
          ],
          [
           "Enter Lite",
           "BrandZ",
           "Beauty"
          ],
          [
           "Develop Pro",
           "BrandX",
           "Laptop"
          ],
          [
           "Us Plus",
           "BrandZ",
           "Beauty"
          ],
          [
           "Leave Max",
           "BrandY",
           "Phone"
          ],
          [
           "She Plus",
           "BrandZ",
           "Grocery"
          ],
          [
           "Exactly Max",
           "BrandC",
           "Laptop"
          ],
          [
           "Again Basic",
           "BrandX",
           "Laptop"
          ],
          [
           "Might Pro",
           "BrandC",
           "Beauty"
          ],
          [
           "Whole Basic",
           "BrandY",
           "Grocery"
          ],
          [
           "Suddenly Plus",
           "BrandA",
           "TV"
          ],
          [
           "Mrs Max",
           "BrandC",
           "Laptop"
          ],
          [
           "Impact Pro",
           "BrandC",
           "Grocery"
          ],
          [
           "Way Pro",
           "BrandY",
           "Grocery"
          ],
          [
           "Outside Max",
           "BrandA",
           "Beauty"
          ],
          [
           "Call Plus",
           "BrandZ",
           "Beauty"
          ],
          [
           "Building Basic",
           "BrandC",
           "Grocery"
          ],
          [
           "Moment Lite",
           "BrandZ",
           "Home Appliance"
          ],
          [
           "Board Pro",
           "BrandY",
           "Laptop"
          ],
          [
           "Amount Plus",
           "BrandB",
           "Home Appliance"
          ],
          [
           "Health Plus",
           "BrandA",
           "Laptop"
          ],
          [
           "News Basic",
           "BrandB",
           "Phone"
          ],
          [
           "Or Max",
           "BrandY",
           "Beauty"
          ],
          [
           "Rule Plus",
           "BrandX",
           "Phone"
          ],
          [
           "Another Lite",
           "BrandA",
           "Phone"
          ],
          [
           "East Pro",
           "BrandC",
           "TV"
          ],
          [
           "Be Lite",
           "BrandX",
           "TV"
          ],
          [
           "Material Lite",
           "BrandA",
           "Beauty"
          ],
          [
           "Party Max",
           "BrandX",
           "Laptop"
          ],
          [
           "Something Plus",
           "BrandC",
           "TV"
          ],
          [
           "Identify Basic",
           "BrandB",
           "Phone"
          ],
          [
           "Condition Plus",
           "BrandY",
           "TV"
          ],
          [
           "Who Basic",
           "BrandC",
           "Home Appliance"
          ],
          [
           "Eat Pro",
           "BrandZ",
           "Grocery"
          ],
          [
           "Recognize Max",
           "BrandA",
           "Laptop"
          ],
          [
           "Tv Lite",
           "BrandZ",
           "Phone"
          ],
          [
           "Huge Pro",
           "BrandB",
           "Phone"
          ],
          [
           "Rest Pro",
           "BrandZ",
           "Home Appliance"
          ],
          [
           "Week Plus",
           "BrandZ",
           "Phone"
          ],
          [
           "Play Plus",
           "BrandC",
           "Grocery"
          ],
          [
           "Control Plus",
           "BrandZ",
           "Beauty"
          ],
          [
           "Something Pro",
           "BrandZ",
           "Laptop"
          ],
          [
           "Very Max",
           "BrandX",
           "TV"
          ],
          [
           "Suggest Pro",
           "BrandY",
           "Home Appliance"
          ],
          [
           "Including Plus",
           "BrandX",
           "TV"
          ],
          [
           "Today Max",
           "BrandX",
           "Grocery"
          ],
          [
           "Return Max",
           "BrandY",
           "Grocery"
          ],
          [
           "Maybe Max",
           "BrandC",
           "Laptop"
          ],
          [
           "His Max",
           "BrandC",
           "Grocery"
          ],
          [
           "Able Pro",
           "BrandA",
           "Grocery"
          ],
          [
           "Indicate Max",
           "BrandC",
           "Laptop"
          ],
          [
           "Land Max",
           "BrandZ",
           "Grocery"
          ],
          [
           "Amount Basic",
           "BrandX",
           "TV"
          ],
          [
           "Thought Plus",
           "BrandC",
           "Grocery"
          ],
          [
           "Sit Plus",
           "BrandY",
           "Grocery"
          ],
          [
           "Ok Plus",
           "BrandB",
           "Home Appliance"
          ],
          [
           "Rather Pro",
           "BrandY",
           "Laptop"
          ],
          [
           "Girl Lite",
           "BrandX",
           "Grocery"
          ],
          [
           "Home Plus",
           "BrandA",
           "Beauty"
          ],
          [
           "Trip Basic",
           "BrandZ",
           "Laptop"
          ],
          [
           "Child Pro",
           "BrandC",
           "Beauty"
          ],
          [
           "Six Basic",
           "BrandC",
           "Laptop"
          ],
          [
           "Since Lite",
           "BrandA",
           "Phone"
          ],
          [
           "Human Max",
           "BrandB",
           "Beauty"
          ],
          [
           "Each Plus",
           "BrandX",
           "TV"
          ],
          [
           "Particular Max",
           "BrandZ",
           "Beauty"
          ],
          [
           "Paper Max",
           "BrandX",
           "Grocery"
          ],
          [
           "Style Max",
           "BrandC",
           "TV"
          ],
          [
           "Professional Lite",
           "BrandC",
           "Phone"
          ],
          [
           "Concern Pro",
           "BrandY",
           "Laptop"
          ],
          [
           "Receive Plus",
           "BrandZ",
           "Laptop"
          ],
          [
           "Key Basic",
           "BrandB",
           "Beauty"
          ],
          [
           "Dog Plus",
           "BrandA",
           "Beauty"
          ],
          [
           "Yet Plus",
           "BrandX",
           "TV"
          ],
          [
           "Without Pro",
           "BrandX",
           "Phone"
          ],
          [
           "Notice Plus",
           "BrandY",
           "Beauty"
          ],
          [
           "Parent Max",
           "BrandZ",
           "TV"
          ],
          [
           "Face Basic",
           "BrandY",
           "Beauty"
          ],
          [
           "Finish Lite",
           "BrandY",
           "Grocery"
          ],
          [
           "Public Basic",
           "BrandB",
           "Phone"
          ],
          [
           "Management Max",
           "BrandB",
           "TV"
          ],
          [
           "Professor Max",
           "BrandA",
           "Grocery"
          ],
          [
           "Apply Plus",
           "BrandX",
           "Laptop"
          ],
          [
           "International Max",
           "BrandX",
           "Home Appliance"
          ],
          [
           "Specific Lite",
           "BrandC",
           "Grocery"
          ],
          [
           "Dinner Basic",
           "BrandY",
           "TV"
          ],
          [
           "Soon Lite",
           "BrandX",
           "Grocery"
          ],
          [
           "Poor Lite",
           "BrandZ",
           "Grocery"
          ],
          [
           "Newspaper Lite",
           "BrandY",
           "Laptop"
          ],
          [
           "Design Max",
           "BrandZ",
           "Beauty"
          ],
          [
           "Check Plus",
           "BrandB",
           "Laptop"
          ],
          [
           "Conference Plus",
           "BrandB",
           "Home Appliance"
          ],
          [
           "Across Max",
           "BrandY",
           "Beauty"
          ],
          [
           "Later Plus",
           "BrandZ",
           "Grocery"
          ],
          [
           "Article Plus",
           "BrandZ",
           "Phone"
          ],
          [
           "Cause Max",
           "BrandY",
           "Beauty"
          ],
          [
           "Size Basic",
           "BrandA",
           "TV"
          ],
          [
           "Trade Lite",
           "BrandA",
           "Phone"
          ],
          [
           "Order Max",
           "BrandA",
           "Beauty"
          ],
          [
           "Hope Pro",
           "BrandA",
           "Home Appliance"
          ],
          [
           "Thus Plus",
           "BrandX",
           "Laptop"
          ],
          [
           "Throw Max",
           "BrandC",
           "Beauty"
          ],
          [
           "In Plus",
           "BrandZ",
           "Beauty"
          ],
          [
           "Paper Basic",
           "BrandX",
           "TV"
          ],
          [
           "Media Basic",
           "BrandC",
           "TV"
          ],
          [
           "Republican Lite",
           "BrandY",
           "Laptop"
          ],
          [
           "Appear Basic",
           "BrandY",
           "Beauty"
          ],
          [
           "Indicate Basic",
           "BrandY",
           "Grocery"
          ],
          [
           "Push Max",
           "BrandA",
           "TV"
          ],
          [
           "Future Max",
           "BrandC",
           "Phone"
          ],
          [
           "Century Pro",
           "BrandC",
           "Grocery"
          ],
          [
           "Until Basic",
           "BrandY",
           "Grocery"
          ],
          [
           "Out Basic",
           "BrandY",
           "Grocery"
          ],
          [
           "Though Basic",
           "BrandX",
           "Grocery"
          ],
          [
           "Interview Plus",
           "BrandY",
           "TV"
          ],
          [
           "Hope Pro",
           "BrandB",
           "TV"
          ],
          [
           "Source Max",
           "BrandC",
           "Beauty"
          ],
          [
           "Network Pro",
           "BrandA",
           "Beauty"
          ],
          [
           "Identify Pro",
           "BrandB",
           "Phone"
          ],
          [
           "Pattern Pro",
           "BrandZ",
           "Laptop"
          ],
          [
           "Traditional Lite",
           "BrandC",
           "Phone"
          ],
          [
           "Road Lite",
           "BrandZ",
           "Phone"
          ],
          [
           "Popular Plus",
           "BrandC",
           "Home Appliance"
          ],
          [
           "Deal Plus",
           "BrandY",
           "TV"
          ],
          [
           "Onto Max",
           "BrandC",
           "Phone"
          ],
          [
           "Game Lite",
           "BrandA",
           "Home Appliance"
          ],
          [
           "Sell Plus",
           "BrandB",
           "Home Appliance"
          ],
          [
           "Total Pro",
           "BrandC",
           "Grocery"
          ],
          [
           "Within Plus",
           "BrandZ",
           "Home Appliance"
          ],
          [
           "Establish Plus",
           "BrandC",
           "Beauty"
          ],
          [
           "Husband Max",
           "BrandC",
           "Laptop"
          ],
          [
           "Final Basic",
           "BrandY",
           "TV"
          ],
          [
           "Every Basic",
           "BrandY",
           "TV"
          ],
          [
           "Economy Plus",
           "BrandZ",
           "Laptop"
          ],
          [
           "Peace Basic",
           "BrandY",
           "Beauty"
          ],
          [
           "Against Pro",
           "BrandX",
           "Beauty"
          ],
          [
           "Young Max",
           "BrandA",
           "Home Appliance"
          ],
          [
           "Together Basic",
           "BrandA",
           "Beauty"
          ],
          [
           "Everything Pro",
           "BrandA",
           "Home Appliance"
          ],
          [
           "That Plus",
           "BrandY",
           "TV"
          ],
          [
           "Theory Pro",
           "BrandX",
           "Phone"
          ],
          [
           "Especially Plus",
           "BrandX",
           "TV"
          ],
          [
           "Information Max",
           "BrandB",
           "Beauty"
          ],
          [
           "Chair Pro",
           "BrandC",
           "Grocery"
          ],
          [
           "Base Pro",
           "BrandA",
           "Beauty"
          ],
          [
           "Third Plus",
           "BrandZ",
           "Phone"
          ],
          [
           "Model Pro",
           "BrandB",
           "TV"
          ],
          [
           "Agency Max",
           "BrandY",
           "Laptop"
          ],
          [
           "Become Pro",
           "BrandX",
           "Laptop"
          ],
          [
           "No Plus",
           "BrandC",
           "Laptop"
          ],
          [
           "Both Max",
           "BrandC",
           "Home Appliance"
          ],
          [
           "Store Lite",
           "BrandA",
           "Laptop"
          ],
          [
           "Very Lite",
           "BrandX",
           "Phone"
          ],
          [
           "Seven Plus",
           "BrandX",
           "Beauty"
          ],
          [
           "Special Pro",
           "BrandC",
           "Laptop"
          ],
          [
           "Gas Plus",
           "BrandA",
           "Phone"
          ],
          [
           "Middle Lite",
           "BrandX",
           "Grocery"
          ],
          [
           "Dog Pro",
           "BrandX",
           "Home Appliance"
          ],
          [
           "Program Basic",
           "BrandZ",
           "Home Appliance"
          ],
          [
           "Case Pro",
           "BrandZ",
           "Home Appliance"
          ],
          [
           "Almost Lite",
           "BrandX",
           "Beauty"
          ],
          [
           "Cultural Basic",
           "BrandC",
           "Home Appliance"
          ],
          [
           "Find Lite",
           "BrandB",
           "Phone"
          ],
          [
           "Democratic Plus",
           "BrandC",
           "Home Appliance"
          ],
          [
           "Edge Basic",
           "BrandC",
           "Home Appliance"
          ],
          [
           "Mean Max",
           "BrandY",
           "Beauty"
          ],
          [
           "Operation Plus",
           "BrandA",
           "Laptop"
          ],
          [
           "Let Basic",
           "BrandB",
           "Home Appliance"
          ],
          [
           "Artist Basic",
           "BrandX",
           "Phone"
          ],
          [
           "Series Lite",
           "BrandZ",
           "Grocery"
          ],
          [
           "Research Pro",
           "BrandZ",
           "Beauty"
          ],
          [
           "Letter Pro",
           "BrandX",
           "Beauty"
          ],
          [
           "Sister Basic",
           "BrandC",
           "Phone"
          ],
          [
           "Along Basic",
           "BrandY",
           "Laptop"
          ],
          [
           "Quality Max",
           "BrandC",
           "Home Appliance"
          ],
          [
           "Smile Lite",
           "BrandC",
           "Laptop"
          ],
          [
           "Can Max",
           "BrandB",
           "Home Appliance"
          ],
          [
           "Truth Pro",
           "BrandX",
           "Beauty"
          ],
          [
           "Realize Plus",
           "BrandB",
           "Grocery"
          ],
          [
           "Together Max",
           "BrandY",
           "Phone"
          ],
          [
           "Exist Max",
           "BrandC",
           "Laptop"
          ],
          [
           "After Plus",
           "BrandB",
           "Beauty"
          ],
          [
           "Data Pro",
           "BrandX",
           "Phone"
          ],
          [
           "Tonight Lite",
           "BrandC",
           "Grocery"
          ],
          [
           "Network Lite",
           "BrandZ",
           "Phone"
          ],
          [
           "Behind Lite",
           "BrandX",
           "Grocery"
          ],
          [
           "Give Lite",
           "BrandC",
           "Laptop"
          ],
          [
           "Glass Lite",
           "BrandC",
           "Beauty"
          ],
          [
           "Member Lite",
           "BrandX",
           "TV"
          ],
          [
           "Bill Basic",
           "BrandB",
           "TV"
          ],
          [
           "Discuss Basic",
           "BrandC",
           "Laptop"
          ],
          [
           "Real Plus",
           "BrandB",
           "Phone"
          ],
          [
           "Can Pro",
           "BrandY",
           "Grocery"
          ],
          [
           "Over Max",
           "BrandB",
           "Home Appliance"
          ],
          [
           "Deal Max",
           "BrandC",
           "Grocery"
          ],
          [
           "Green Max",
           "BrandC",
           "Home Appliance"
          ],
          [
           "Want Basic",
           "BrandX",
           "Phone"
          ],
          [
           "Growth Max",
           "BrandC",
           "Phone"
          ],
          [
           "Film Plus",
           "BrandX",
           "Phone"
          ],
          [
           "Right Lite",
           "BrandA",
           "TV"
          ],
          [
           "Ball Basic",
           "BrandA",
           "Beauty"
          ],
          [
           "Business Plus",
           "BrandZ",
           "TV"
          ],
          [
           "Question Max",
           "BrandB",
           "Laptop"
          ],
          [
           "Accept Plus",
           "BrandY",
           "Home Appliance"
          ],
          [
           "Enjoy Pro",
           "BrandA",
           "Beauty"
          ],
          [
           "Much Lite",
           "BrandB",
           "Beauty"
          ],
          [
           "Speech Pro",
           "BrandZ",
           "Home Appliance"
          ],
          [
           "Indicate Plus",
           "BrandZ",
           "Beauty"
          ],
          [
           "Garden Pro",
           "BrandZ",
           "Grocery"
          ],
          [
           "Candidate Max",
           "BrandY",
           "Beauty"
          ],
          [
           "Million Plus",
           "BrandZ",
           "Grocery"
          ],
          [
           "It Lite",
           "BrandX",
           "Phone"
          ],
          [
           "Assume Lite",
           "BrandX",
           "Home Appliance"
          ],
          [
           "Himself Basic",
           "BrandZ",
           "Grocery"
          ],
          [
           "Ground Basic",
           "BrandA",
           "Laptop"
          ],
          [
           "Health Max",
           "BrandB",
           "TV"
          ],
          [
           "Late Plus",
           "BrandC",
           "Grocery"
          ],
          [
           "Stop Plus",
           "BrandZ",
           "Phone"
          ],
          [
           "Always Plus",
           "BrandB",
           "Grocery"
          ],
          [
           "Recognize Plus",
           "BrandB",
           "TV"
          ],
          [
           "Performance Pro",
           "BrandB",
           "Beauty"
          ],
          [
           "Others Basic",
           "BrandY",
           "Phone"
          ],
          [
           "Region Max",
           "BrandC",
           "TV"
          ],
          [
           "Up Pro",
           "BrandB",
           "Laptop"
          ],
          [
           "Interview Pro",
           "BrandA",
           "Home Appliance"
          ],
          [
           "According Pro",
           "BrandZ",
           "Laptop"
          ],
          [
           "Generation Basic",
           "BrandA",
           "Beauty"
          ],
          [
           "Involve Max",
           "BrandY",
           "TV"
          ],
          [
           "Would Pro",
           "BrandB",
           "Phone"
          ],
          [
           "North Pro",
           "BrandY",
           "Laptop"
          ],
          [
           "Though Max",
           "BrandY",
           "TV"
          ],
          [
           "Large Plus",
           "BrandX",
           "Phone"
          ],
          [
           "Head Max",
           "BrandY",
           "Laptop"
          ],
          [
           "Difficult Lite",
           "BrandB",
           "Laptop"
          ],
          [
           "Model Plus",
           "BrandY",
           "Phone"
          ],
          [
           "Pretty Lite",
           "BrandA",
           "Phone"
          ],
          [
           "Number Max",
           "BrandB",
           "Home Appliance"
          ],
          [
           "Society Basic",
           "BrandY",
           "Laptop"
          ],
          [
           "Such Pro",
           "BrandB",
           "Laptop"
          ],
          [
           "Because Lite",
           "BrandX",
           "Phone"
          ],
          [
           "Level Basic",
           "BrandA",
           "TV"
          ],
          [
           "Scientist Pro",
           "BrandY",
           "Beauty"
          ],
          [
           "South Lite",
           "BrandZ",
           "Grocery"
          ],
          [
           "Early Basic",
           "BrandX",
           "Laptop"
          ],
          [
           "Room Plus",
           "BrandC",
           "Home Appliance"
          ],
          [
           "Over Pro",
           "BrandX",
           "Phone"
          ],
          [
           "Then Lite",
           "BrandY",
           "Laptop"
          ],
          [
           "Really Plus",
           "BrandY",
           "Beauty"
          ],
          [
           "Wide Basic",
           "BrandB",
           "Laptop"
          ],
          [
           "Resource Basic",
           "BrandC",
           "Laptop"
          ],
          [
           "Police Max",
           "BrandB",
           "Phone"
          ],
          [
           "Color Plus",
           "BrandY",
           "Grocery"
          ],
          [
           "Show Plus",
           "BrandZ",
           "Grocery"
          ],
          [
           "Truth Lite",
           "BrandA",
           "Grocery"
          ],
          [
           "Speech Plus",
           "BrandA",
           "Grocery"
          ],
          [
           "Resource Max",
           "BrandX",
           "Phone"
          ],
          [
           "Deal Basic",
           "BrandX",
           "Beauty"
          ],
          [
           "Claim Plus",
           "BrandZ",
           "Grocery"
          ],
          [
           "Account Pro",
           "BrandY",
           "Grocery"
          ],
          [
           "Boy Pro",
           "BrandY",
           "TV"
          ],
          [
           "Fight Basic",
           "BrandA",
           "Laptop"
          ],
          [
           "Effort Plus",
           "BrandY",
           "TV"
          ],
          [
           "Fact Basic",
           "BrandX",
           "TV"
          ],
          [
           "Ability Plus",
           "BrandA",
           "Laptop"
          ],
          [
           "Again Pro",
           "BrandX",
           "Beauty"
          ],
          [
           "Voice Pro",
           "BrandA",
           "Beauty"
          ],
          [
           "Win Plus",
           "BrandA",
           "Beauty"
          ],
          [
           "Where Basic",
           "BrandB",
           "TV"
          ],
          [
           "Each Basic",
           "BrandB",
           "Phone"
          ],
          [
           "Professional Pro",
           "BrandX",
           "TV"
          ],
          [
           "Leader Max",
           "BrandB",
           "Grocery"
          ],
          [
           "Direction Pro",
           "BrandY",
           "Grocery"
          ],
          [
           "Alone Max",
           "BrandZ",
           "Phone"
          ],
          [
           "Cultural Lite",
           "BrandY",
           "Laptop"
          ],
          [
           "Reduce Basic",
           "BrandX",
           "Beauty"
          ],
          [
           "Media Pro",
           "BrandB",
           "Beauty"
          ],
          [
           "Still Basic",
           "BrandB",
           "Home Appliance"
          ],
          [
           "Share Pro",
           "BrandY",
           "Phone"
          ],
          [
           "Technology Pro",
           "BrandA",
           "Laptop"
          ],
          [
           "Mouth Pro",
           "BrandB",
           "Phone"
          ],
          [
           "Support Pro",
           "BrandB",
           "Phone"
          ],
          [
           "Himself Pro",
           "BrandB",
           "Grocery"
          ],
          [
           "Goal Lite",
           "BrandC",
           "Beauty"
          ],
          [
           "Three Max",
           "BrandA",
           "Phone"
          ],
          [
           "Music Max",
           "BrandX",
           "TV"
          ],
          [
           "When Basic",
           "BrandY",
           "TV"
          ],
          [
           "Song Plus",
           "BrandY",
           "Beauty"
          ],
          [
           "Quality Plus",
           "BrandX",
           "TV"
          ],
          [
           "Agree Plus",
           "BrandA",
           "Home Appliance"
          ],
          [
           "Instead Max",
           "BrandC",
           "TV"
          ],
          [
           "Piece Lite",
           "BrandB",
           "Laptop"
          ],
          [
           "Myself Plus",
           "BrandX",
           "Laptop"
          ],
          [
           "Show Plus",
           "BrandX",
           "Beauty"
          ],
          [
           "Property Pro",
           "BrandB",
           "Home Appliance"
          ],
          [
           "Fund Max",
           "BrandB",
           "Grocery"
          ],
          [
           "Growth Pro",
           "BrandX",
           "TV"
          ],
          [
           "Apply Basic",
           "BrandZ",
           "Grocery"
          ],
          [
           "By Basic",
           "BrandB",
           "Laptop"
          ],
          [
           "Meet Plus",
           "BrandY",
           "Grocery"
          ],
          [
           "Kitchen Plus",
           "BrandZ",
           "Phone"
          ],
          [
           "Factor Basic",
           "BrandX",
           "Beauty"
          ],
          [
           "End Max",
           "BrandC",
           "Phone"
          ],
          [
           "Style Pro",
           "BrandX",
           "Phone"
          ],
          [
           "Western Plus",
           "BrandX",
           "TV"
          ],
          [
           "Win Lite",
           "BrandX",
           "Phone"
          ],
          [
           "Stop Plus",
           "BrandC",
           "Home Appliance"
          ],
          [
           "Bank Max",
           "BrandY",
           "Grocery"
          ],
          [
           "Blue Basic",
           "BrandC",
           "Grocery"
          ],
          [
           "Price Lite",
           "BrandX",
           "TV"
          ],
          [
           "Billion Pro",
           "BrandB",
           "Grocery"
          ],
          [
           "Action Max",
           "BrandY",
           "Laptop"
          ],
          [
           "Kid Plus",
           "BrandX",
           "Beauty"
          ],
          [
           "Last Pro",
           "BrandY",
           "TV"
          ],
          [
           "Service Plus",
           "BrandY",
           "Laptop"
          ],
          [
           "Area Basic",
           "BrandA",
           "Grocery"
          ],
          [
           "Short Plus",
           "BrandX",
           "Home Appliance"
          ],
          [
           "Its Pro",
           "BrandY",
           "Laptop"
          ],
          [
           "Off Lite",
           "BrandB",
           "TV"
          ],
          [
           "Available Basic",
           "BrandZ",
           "Laptop"
          ],
          [
           "Writer Pro",
           "BrandC",
           "Beauty"
          ],
          [
           "Produce Plus",
           "BrandY",
           "TV"
          ],
          [
           "Area Basic",
           "BrandY",
           "Phone"
          ],
          [
           "Environment Pro",
           "BrandZ",
           "Home Appliance"
          ],
          [
           "Fear Pro",
           "BrandX",
           "Laptop"
          ],
          [
           "Network Plus",
           "BrandX",
           "Phone"
          ],
          [
           "Visit Lite",
           "BrandC",
           "TV"
          ],
          [
           "Who Basic",
           "BrandX",
           "Laptop"
          ],
          [
           "Glass Lite",
           "BrandC",
           "Grocery"
          ],
          [
           "Administration Lite",
           "BrandA",
           "Phone"
          ],
          [
           "Myself Lite",
           "BrandX",
           "TV"
          ],
          [
           "Book Pro",
           "BrandA",
           "Phone"
          ],
          [
           "Red Pro",
           "BrandY",
           "Phone"
          ],
          [
           "Quite Lite",
           "BrandX",
           "Phone"
          ],
          [
           "American Basic",
           "BrandB",
           "Home Appliance"
          ],
          [
           "Model Max",
           "BrandX",
           "Phone"
          ],
          [
           "That Max",
           "BrandY",
           "Laptop"
          ],
          [
           "Maintain Plus",
           "BrandA",
           "Grocery"
          ],
          [
           "Forward Basic",
           "BrandC",
           "Beauty"
          ],
          [
           "Form Basic",
           "BrandC",
           "Phone"
          ],
          [
           "Single Lite",
           "BrandX",
           "Beauty"
          ],
          [
           "Else Max",
           "BrandY",
           "Grocery"
          ],
          [
           "Probably Pro",
           "BrandB",
           "Beauty"
          ],
          [
           "Leave Plus",
           "BrandC",
           "TV"
          ],
          [
           "There Max",
           "BrandY",
           "Phone"
          ],
          [
           "Include Max",
           "BrandB",
           "Laptop"
          ],
          [
           "Detail Basic",
           "BrandB",
           "TV"
          ],
          [
           "Possible Pro",
           "BrandZ",
           "Home Appliance"
          ],
          [
           "Western Basic",
           "BrandZ",
           "TV"
          ],
          [
           "Mind Pro",
           "BrandA",
           "TV"
          ],
          [
           "Range Basic",
           "BrandX",
           "Phone"
          ],
          [
           "War Lite",
           "BrandZ",
           "Beauty"
          ],
          [
           "Student Plus",
           "BrandB",
           "TV"
          ],
          [
           "Outside Lite",
           "BrandX",
           "Phone"
          ],
          [
           "Perhaps Basic",
           "BrandZ",
           "Grocery"
          ],
          [
           "Claim Basic",
           "BrandY",
           "Home Appliance"
          ],
          [
           "Real Plus",
           "BrandB",
           "Home Appliance"
          ],
          [
           "Space Max",
           "BrandZ",
           "Laptop"
          ],
          [
           "Myself Basic",
           "BrandC",
           "Laptop"
          ],
          [
           "Responsibility Basic",
           "BrandB",
           "Grocery"
          ],
          [
           "Our Pro",
           "BrandA",
           "Beauty"
          ],
          [
           "Dream Pro",
           "BrandZ",
           "Home Appliance"
          ],
          [
           "Child Basic",
           "BrandA",
           "Phone"
          ],
          [
           "Standard Pro",
           "BrandA",
           "TV"
          ],
          [
           "Agreement Max",
           "BrandY",
           "Home Appliance"
          ],
          [
           "Him Max",
           "BrandY",
           "TV"
          ],
          [
           "This Lite",
           "BrandX",
           "Grocery"
          ],
          [
           "Research Pro",
           "BrandY",
           "Grocery"
          ],
          [
           "Than Max",
           "BrandA",
           "Home Appliance"
          ],
          [
           "Speech Basic",
           "BrandB",
           "TV"
          ],
          [
           "Light Max",
           "BrandB",
           "TV"
          ],
          [
           "Action Basic",
           "BrandX",
           "Laptop"
          ],
          [
           "Look Pro",
           "BrandY",
           "Laptop"
          ],
          [
           "Produce Basic",
           "BrandY",
           "Beauty"
          ],
          [
           "Between Max",
           "BrandA",
           "Beauty"
          ],
          [
           "Rule Pro",
           "BrandZ",
           "Laptop"
          ],
          [
           "Those Pro",
           "BrandB",
           "Laptop"
          ],
          [
           "National Plus",
           "BrandA",
           "Grocery"
          ],
          [
           "Yeah Max",
           "BrandC",
           "Beauty"
          ],
          [
           "Stop Lite",
           "BrandY",
           "Home Appliance"
          ],
          [
           "Everything Lite",
           "BrandX",
           "Phone"
          ],
          [
           "Leader Pro",
           "BrandZ",
           "Beauty"
          ],
          [
           "Sister Lite",
           "BrandB",
           "Phone"
          ],
          [
           "Anyone Plus",
           "BrandX",
           "Beauty"
          ],
          [
           "Buy Plus",
           "BrandY",
           "Beauty"
          ],
          [
           "Hear Basic",
           "BrandX",
           "Beauty"
          ],
          [
           "Friend Basic",
           "BrandX",
           "Beauty"
          ],
          [
           "Section Max",
           "BrandB",
           "Home Appliance"
          ],
          [
           "Simply Basic",
           "BrandX",
           "Laptop"
          ],
          [
           "Scientist Pro",
           "BrandY",
           "Phone"
          ],
          [
           "Seek Pro",
           "BrandZ",
           "TV"
          ],
          [
           "List Max",
           "BrandA",
           "Beauty"
          ],
          [
           "Religious Lite",
           "BrandC",
           "Phone"
          ],
          [
           "Nature Basic",
           "BrandX",
           "Grocery"
          ],
          [
           "Tell Lite",
           "BrandC",
           "Laptop"
          ],
          [
           "Central Max",
           "BrandX",
           "Phone"
          ],
          [
           "Tend Max",
           "BrandC",
           "Beauty"
          ],
          [
           "Face Plus",
           "BrandC",
           "TV"
          ],
          [
           "Issue Basic",
           "BrandX",
           "Phone"
          ],
          [
           "Final Basic",
           "BrandX",
           "TV"
          ],
          [
           "Show Lite",
           "BrandY",
           "Home Appliance"
          ],
          [
           "Thank Plus",
           "BrandZ",
           "Beauty"
          ],
          [
           "Himself Pro",
           "BrandY",
           "Phone"
          ],
          [
           "Prepare Plus",
           "BrandY",
           "Home Appliance"
          ],
          [
           "Public Lite",
           "BrandZ",
           "TV"
          ],
          [
           "Drug Max",
           "BrandZ",
           "TV"
          ],
          [
           "Summer Pro",
           "BrandZ",
           "Laptop"
          ],
          [
           "Citizen Pro",
           "BrandX",
           "Home Appliance"
          ],
          [
           "Site Max",
           "BrandB",
           "Home Appliance"
          ],
          [
           "Effort Max",
           "BrandA",
           "Laptop"
          ],
          [
           "Treat Plus",
           "BrandA",
           "Beauty"
          ],
          [
           "Over Plus",
           "BrandY",
           "Beauty"
          ],
          [
           "Sound Basic",
           "BrandC",
           "Home Appliance"
          ],
          [
           "Actually Lite",
           "BrandX",
           "TV"
          ],
          [
           "Heavy Lite",
           "BrandB",
           "Phone"
          ],
          [
           "Official Pro",
           "BrandZ",
           "Phone"
          ],
          [
           "True Max",
           "BrandA",
           "Beauty"
          ],
          [
           "Let Plus",
           "BrandX",
           "Home Appliance"
          ],
          [
           "List Plus",
           "BrandA",
           "Beauty"
          ],
          [
           "See Plus",
           "BrandB",
           "Home Appliance"
          ],
          [
           "Save Pro",
           "BrandY",
           "Laptop"
          ],
          [
           "Sure Lite",
           "BrandA",
           "Phone"
          ],
          [
           "Claim Max",
           "BrandY",
           "Beauty"
          ],
          [
           "Attack Basic",
           "BrandZ",
           "TV"
          ],
          [
           "Just Basic",
           "BrandB",
           "Phone"
          ],
          [
           "School Plus",
           "BrandZ",
           "Beauty"
          ],
          [
           "Relate Max",
           "BrandX",
           "Home Appliance"
          ],
          [
           "Hospital Lite",
           "BrandA",
           "Laptop"
          ],
          [
           "Congress Basic",
           "BrandB",
           "Laptop"
          ],
          [
           "Yeah Pro",
           "BrandB",
           "Laptop"
          ],
          [
           "Than Lite",
           "BrandZ",
           "Laptop"
          ],
          [
           "Unit Plus",
           "BrandA",
           "Home Appliance"
          ],
          [
           "Cover Lite",
           "BrandC",
           "TV"
          ],
          [
           "Moment Plus",
           "BrandC",
           "Laptop"
          ],
          [
           "Again Plus",
           "BrandX",
           "Beauty"
          ],
          [
           "Billion Basic",
           "BrandZ",
           "TV"
          ],
          [
           "Check Pro",
           "BrandX",
           "Grocery"
          ],
          [
           "Hear Max",
           "BrandA",
           "TV"
          ],
          [
           "Energy Max",
           "BrandA",
           "Phone"
          ],
          [
           "Evening Max",
           "BrandA",
           "Laptop"
          ],
          [
           "Impact Plus",
           "BrandZ",
           "TV"
          ],
          [
           "Chair Plus",
           "BrandY",
           "Laptop"
          ],
          [
           "Report Plus",
           "BrandA",
           "Home Appliance"
          ],
          [
           "Lose Pro",
           "BrandC",
           "Phone"
          ],
          [
           "Although Max",
           "BrandY",
           "Beauty"
          ],
          [
           "Difference Max",
           "BrandB",
           "Phone"
          ],
          [
           "Paper Max",
           "BrandY",
           "Beauty"
          ],
          [
           "Social Lite",
           "BrandC",
           "Grocery"
          ],
          [
           "Public Max",
           "BrandA",
           "Home Appliance"
          ],
          [
           "Hard Basic",
           "BrandZ",
           "Phone"
          ],
          [
           "Human Lite",
           "BrandY",
           "TV"
          ],
          [
           "Often Basic",
           "BrandY",
           "Grocery"
          ],
          [
           "While Pro",
           "BrandC",
           "Laptop"
          ],
          [
           "Gas Lite",
           "BrandC",
           "Grocery"
          ],
          [
           "Phone Max",
           "BrandX",
           "Laptop"
          ],
          [
           "Order Plus",
           "BrandY",
           "Home Appliance"
          ],
          [
           "Arrive Basic",
           "BrandX",
           "Laptop"
          ],
          [
           "Manager Max",
           "BrandZ",
           "Grocery"
          ],
          [
           "Technology Plus",
           "BrandB",
           "Laptop"
          ],
          [
           "Under Plus",
           "BrandZ",
           "Beauty"
          ],
          [
           "Really Basic",
           "BrandA",
           "Beauty"
          ],
          [
           "Throughout Basic",
           "BrandC",
           "Phone"
          ],
          [
           "Say Basic",
           "BrandX",
           "Beauty"
          ],
          [
           "Man Pro",
           "BrandY",
           "Beauty"
          ],
          [
           "Central Max",
           "BrandB",
           "TV"
          ],
          [
           "Save Lite",
           "BrandB",
           "Laptop"
          ],
          [
           "Movie Basic",
           "BrandA",
           "Grocery"
          ],
          [
           "Hot Pro",
           "BrandA",
           "Beauty"
          ],
          [
           "Factor Basic",
           "BrandC",
           "Beauty"
          ],
          [
           "Loss Lite",
           "BrandA",
           "Grocery"
          ],
          [
           "Trouble Max",
           "BrandX",
           "Grocery"
          ],
          [
           "And Max",
           "BrandB",
           "TV"
          ],
          [
           "Part Max",
           "BrandY",
           "TV"
          ],
          [
           "Turn Lite",
           "BrandA",
           "Beauty"
          ],
          [
           "When Max",
           "BrandC",
           "TV"
          ],
          [
           "Especially Basic",
           "BrandC",
           "Beauty"
          ],
          [
           "Else Pro",
           "BrandZ",
           "Phone"
          ],
          [
           "Government Pro",
           "BrandC",
           "TV"
          ],
          [
           "A Plus",
           "BrandA",
           "Phone"
          ],
          [
           "Week Basic",
           "BrandC",
           "Grocery"
          ],
          [
           "Teacher Max",
           "BrandZ",
           "Phone"
          ],
          [
           "Maybe Lite",
           "BrandY",
           "Laptop"
          ],
          [
           "Life Plus",
           "BrandY",
           "TV"
          ],
          [
           "Senior Basic",
           "BrandA",
           "Grocery"
          ],
          [
           "Pick Lite",
           "BrandX",
           "Phone"
          ],
          [
           "Rise Pro",
           "BrandY",
           "Laptop"
          ],
          [
           "Official Lite",
           "BrandZ",
           "Grocery"
          ],
          [
           "Word Lite",
           "BrandA",
           "Beauty"
          ],
          [
           "Finish Lite",
           "BrandA",
           "Laptop"
          ],
          [
           "Student Lite",
           "BrandA",
           "TV"
          ],
          [
           "Able Max",
           "BrandB",
           "TV"
          ],
          [
           "Get Lite",
           "BrandA",
           "Laptop"
          ],
          [
           "Blood Max",
           "BrandX",
           "Grocery"
          ],
          [
           "Tonight Lite",
           "BrandC",
           "Phone"
          ],
          [
           "Federal Basic",
           "BrandB",
           "TV"
          ],
          [
           "Old Plus",
           "BrandX",
           "Home Appliance"
          ],
          [
           "Movie Plus",
           "BrandC",
           "Beauty"
          ],
          [
           "Last Lite",
           "BrandX",
           "Home Appliance"
          ],
          [
           "Sell Plus",
           "BrandB",
           "Beauty"
          ],
          [
           "Onto Pro",
           "BrandB",
           "Laptop"
          ],
          [
           "Pm Pro",
           "BrandA",
           "TV"
          ],
          [
           "Manage Lite",
           "BrandC",
           "Grocery"
          ],
          [
           "Fish Lite",
           "BrandZ",
           "Beauty"
          ],
          [
           "Of Max",
           "BrandA",
           "Phone"
          ],
          [
           "Blue Plus",
           "BrandZ",
           "Grocery"
          ],
          [
           "Produce Max",
           "BrandA",
           "Home Appliance"
          ],
          [
           "According Lite",
           "BrandA",
           "Laptop"
          ],
          [
           "According Lite",
           "BrandY",
           "Beauty"
          ],
          [
           "Easy Basic",
           "BrandC",
           "Grocery"
          ],
          [
           "Marriage Pro",
           "BrandY",
           "TV"
          ],
          [
           "Agent Max",
           "BrandY",
           "Home Appliance"
          ],
          [
           "Second Plus",
           "BrandA",
           "TV"
          ],
          [
           "Traditional Pro",
           "BrandA",
           "TV"
          ],
          [
           "Tough Max",
           "BrandA",
           "Home Appliance"
          ],
          [
           "Establish Pro",
           "BrandZ",
           "Laptop"
          ],
          [
           "Of Lite",
           "BrandY",
           "TV"
          ],
          [
           "Court Basic",
           "BrandA",
           "Grocery"
          ],
          [
           "Not Lite",
           "BrandC",
           "Phone"
          ],
          [
           "Realize Plus",
           "BrandA",
           "Laptop"
          ],
          [
           "Indeed Basic",
           "BrandA",
           "Phone"
          ],
          [
           "South Lite",
           "BrandB",
           "Laptop"
          ],
          [
           "Avoid Plus",
           "BrandC",
           "Laptop"
          ],
          [
           "Marriage Pro",
           "BrandC",
           "Home Appliance"
          ],
          [
           "Other Pro",
           "BrandY",
           "TV"
          ],
          [
           "Whose Lite",
           "BrandX",
           "Laptop"
          ],
          [
           "To Plus",
           "BrandZ",
           "Home Appliance"
          ],
          [
           "In Plus",
           "BrandA",
           "Home Appliance"
          ],
          [
           "Wide Lite",
           "BrandA",
           "Phone"
          ],
          [
           "Cut Lite",
           "BrandY",
           "Home Appliance"
          ],
          [
           "Of Plus",
           "BrandC",
           "Home Appliance"
          ],
          [
           "Any Max",
           "BrandB",
           "Beauty"
          ],
          [
           "Model Pro",
           "BrandZ",
           "Home Appliance"
          ],
          [
           "Nation Basic",
           "BrandY",
           "Home Appliance"
          ],
          [
           "Save Pro",
           "BrandB",
           "Home Appliance"
          ],
          [
           "Store Pro",
           "BrandB",
           "TV"
          ],
          [
           "Moment Basic",
           "BrandX",
           "TV"
          ],
          [
           "At Lite",
           "BrandA",
           "Home Appliance"
          ],
          [
           "Money Basic",
           "BrandZ",
           "Phone"
          ],
          [
           "Term Basic",
           "BrandX",
           "Grocery"
          ],
          [
           "Season Pro",
           "BrandX",
           "TV"
          ],
          [
           "Job Max",
           "BrandY",
           "Phone"
          ],
          [
           "Fund Lite",
           "BrandB",
           "Beauty"
          ],
          [
           "Theory Pro",
           "BrandX",
           "Grocery"
          ],
          [
           "Meet Plus",
           "BrandZ",
           "Phone"
          ],
          [
           "In Max",
           "BrandA",
           "TV"
          ],
          [
           "Study Max",
           "BrandX",
           "Phone"
          ],
          [
           "Stock Max",
           "BrandX",
           "Beauty"
          ],
          [
           "Some Max",
           "BrandY",
           "Beauty"
          ],
          [
           "Represent Basic",
           "BrandZ",
           "Laptop"
          ],
          [
           "Edge Lite",
           "BrandA",
           "Home Appliance"
          ],
          [
           "Send Basic",
           "BrandX",
           "Laptop"
          ],
          [
           "Action Max",
           "BrandY",
           "Laptop"
          ],
          [
           "Science Plus",
           "BrandA",
           "Phone"
          ],
          [
           "Shake Pro",
           "BrandY",
           "Laptop"
          ],
          [
           "Bad Plus",
           "BrandB",
           "Laptop"
          ],
          [
           "Shake Basic",
           "BrandX",
           "Grocery"
          ],
          [
           "That Max",
           "BrandA",
           "Laptop"
          ],
          [
           "Southern Plus",
           "BrandY",
           "TV"
          ],
          [
           "Defense Lite",
           "BrandY",
           "TV"
          ],
          [
           "Box Plus",
           "BrandB",
           "TV"
          ],
          [
           "Miss Lite",
           "BrandZ",
           "Phone"
          ],
          [
           "Lose Max",
           "BrandC",
           "Beauty"
          ],
          [
           "Out Lite",
           "BrandY",
           "Home Appliance"
          ],
          [
           "Simple Basic",
           "BrandZ",
           "Home Appliance"
          ],
          [
           "Soon Lite",
           "BrandZ",
           "Phone"
          ],
          [
           "Certainly Pro",
           "BrandX",
           "Phone"
          ],
          [
           "Ability Max",
           "BrandY",
           "TV"
          ],
          [
           "Back Pro",
           "BrandY",
           "Beauty"
          ],
          [
           "Back Max",
           "BrandZ",
           "Laptop"
          ],
          [
           "Industry Plus",
           "BrandB",
           "TV"
          ],
          [
           "Line Lite",
           "BrandY",
           "TV"
          ],
          [
           "Head Lite",
           "BrandY",
           "Phone"
          ],
          [
           "Somebody Lite",
           "BrandY",
           "Grocery"
          ],
          [
           "They Plus",
           "BrandY",
           "Laptop"
          ],
          [
           "Whom Lite",
           "BrandZ",
           "Phone"
          ],
          [
           "Strong Basic",
           "BrandA",
           "Laptop"
          ],
          [
           "Maybe Pro",
           "BrandC",
           "Beauty"
          ],
          [
           "Leader Plus",
           "BrandZ",
           "Home Appliance"
          ],
          [
           "Night Plus",
           "BrandA",
           "Beauty"
          ],
          [
           "Run Max",
           "BrandX",
           "TV"
          ],
          [
           "Build Plus",
           "BrandY",
           "Beauty"
          ],
          [
           "Open Basic",
           "BrandY",
           "Laptop"
          ],
          [
           "Late Max",
           "BrandX",
           "TV"
          ],
          [
           "College Basic",
           "BrandZ",
           "Home Appliance"
          ],
          [
           "Pick Plus",
           "BrandZ",
           "Beauty"
          ],
          [
           "Money Max",
           "BrandY",
           "Beauty"
          ],
          [
           "Table Max",
           "BrandZ",
           "TV"
          ],
          [
           "Under Plus",
           "BrandX",
           "Phone"
          ],
          [
           "Painting Pro",
           "BrandB",
           "TV"
          ],
          [
           "The Basic",
           "BrandA",
           "TV"
          ],
          [
           "Might Max",
           "BrandZ",
           "Laptop"
          ],
          [
           "Peace Basic",
           "BrandX",
           "TV"
          ],
          [
           "Memory Basic",
           "BrandB",
           "Home Appliance"
          ],
          [
           "Mention Lite",
           "BrandC",
           "Beauty"
          ],
          [
           "Already Max",
           "BrandC",
           "Grocery"
          ],
          [
           "Sea Pro",
           "BrandC",
           "Phone"
          ],
          [
           "Political Plus",
           "BrandC",
           "Grocery"
          ],
          [
           "Perhaps Basic",
           "BrandZ",
           "Beauty"
          ],
          [
           "Radio Pro",
           "BrandA",
           "Grocery"
          ],
          [
           "Development Plus",
           "BrandY",
           "Laptop"
          ],
          [
           "Now Lite",
           "BrandZ",
           "Beauty"
          ],
          [
           "Member Basic",
           "BrandC",
           "Laptop"
          ],
          [
           "Entire Max",
           "BrandZ",
           "Grocery"
          ],
          [
           "Him Basic",
           "BrandB",
           "Beauty"
          ],
          [
           "Doctor Lite",
           "BrandX",
           "TV"
          ],
          [
           "Hundred Lite",
           "BrandX",
           "TV"
          ],
          [
           "Art Max",
           "BrandX",
           "TV"
          ],
          [
           "Personal Pro",
           "BrandY",
           "Laptop"
          ],
          [
           "Product Plus",
           "BrandA",
           "Laptop"
          ],
          [
           "Character Max",
           "BrandC",
           "TV"
          ],
          [
           "Choose Basic",
           "BrandZ",
           "TV"
          ],
          [
           "Specific Lite",
           "BrandX",
           "Grocery"
          ],
          [
           "Real Lite",
           "BrandZ",
           "Grocery"
          ],
          [
           "Leader Pro",
           "BrandZ",
           "Beauty"
          ],
          [
           "Film Plus",
           "BrandA",
           "Beauty"
          ],
          [
           "Least Max",
           "BrandC",
           "Home Appliance"
          ],
          [
           "Past Lite",
           "BrandC",
           "Beauty"
          ],
          [
           "Treatment Max",
           "BrandX",
           "Home Appliance"
          ],
          [
           "Rock Max",
           "BrandC",
           "Phone"
          ],
          [
           "Time Max",
           "BrandX",
           "Grocery"
          ],
          [
           "Consumer Plus",
           "BrandY",
           "Phone"
          ],
          [
           "Health Lite",
           "BrandB",
           "Beauty"
          ],
          [
           "Degree Plus",
           "BrandB",
           "Home Appliance"
          ],
          [
           "Customer Pro",
           "BrandC",
           "Beauty"
          ],
          [
           "Administration Lite",
           "BrandC",
           "Home Appliance"
          ],
          [
           "Cell Pro",
           "BrandC",
           "Phone"
          ],
          [
           "Let Lite",
           "BrandY",
           "Phone"
          ],
          [
           "Discover Plus",
           "BrandC",
           "Phone"
          ],
          [
           "Institution Pro",
           "BrandX",
           "TV"
          ],
          [
           "Who Max",
           "BrandB",
           "Beauty"
          ],
          [
           "Important Pro",
           "BrandY",
           "Laptop"
          ],
          [
           "Allow Pro",
           "BrandB",
           "TV"
          ],
          [
           "Who Pro",
           "BrandY",
           "Home Appliance"
          ],
          [
           "Shake Pro",
           "BrandB",
           "Laptop"
          ],
          [
           "Up Plus",
           "BrandZ",
           "Grocery"
          ],
          [
           "Not Lite",
           "BrandX",
           "TV"
          ],
          [
           "Such Pro",
           "BrandX",
           "Grocery"
          ],
          [
           "Seven Pro",
           "BrandY",
           "Beauty"
          ],
          [
           "As Lite",
           "BrandZ",
           "Beauty"
          ],
          [
           "Trouble Max",
           "BrandB",
           "Beauty"
          ],
          [
           "Red Basic",
           "BrandC",
           "Beauty"
          ],
          [
           "Order Pro",
           "BrandY",
           "Laptop"
          ],
          [
           "Republican Max",
           "BrandA",
           "Home Appliance"
          ],
          [
           "Young Plus",
           "BrandZ",
           "Beauty"
          ]
         ],
         "hovertemplate": "discounted_price=%{x}<br>ratings=%{y}<br>reviews=%{marker.size}<br>product_name=%{customdata[0]}<br>brand=%{customdata[1]}<br>category=%{customdata[2]}<br>cluster=%{marker.color}<extra></extra>",
         "legendgroup": "",
         "marker": {
          "color": [
           0,
           3,
           1,
           1,
           3,
           2,
           0,
           1,
           0,
           1,
           3,
           1,
           1,
           2,
           0,
           0,
           3,
           2,
           1,
           3,
           3,
           3,
           2,
           0,
           2,
           2,
           0,
           2,
           3,
           0,
           1,
           3,
           3,
           0,
           2,
           1,
           3,
           3,
           0,
           3,
           3,
           3,
           2,
           3,
           1,
           0,
           1,
           2,
           1,
           1,
           0,
           2,
           0,
           1,
           3,
           2,
           3,
           2,
           2,
           2,
           2,
           3,
           3,
           2,
           2,
           0,
           0,
           0,
           0,
           1,
           1,
           2,
           3,
           2,
           2,
           0,
           3,
           3,
           0,
           2,
           0,
           2,
           3,
           2,
           0,
           0,
           1,
           2,
           3,
           2,
           1,
           3,
           3,
           1,
           3,
           0,
           3,
           2,
           3,
           0,
           0,
           3,
           2,
           1,
           0,
           0,
           2,
           2,
           0,
           3,
           2,
           3,
           0,
           0,
           3,
           2,
           2,
           1,
           0,
           3,
           2,
           3,
           3,
           0,
           3,
           2,
           3,
           2,
           3,
           0,
           1,
           1,
           1,
           0,
           2,
           1,
           3,
           3,
           1,
           3,
           2,
           0,
           2,
           1,
           1,
           2,
           0,
           1,
           2,
           1,
           2,
           2,
           2,
           1,
           0,
           3,
           1,
           3,
           1,
           2,
           3,
           1,
           3,
           0,
           3,
           0,
           2,
           2,
           3,
           1,
           3,
           1,
           3,
           1,
           1,
           1,
           0,
           0,
           2,
           0,
           0,
           2,
           3,
           0,
           2,
           2,
           0,
           2,
           1,
           0,
           2,
           0,
           2,
           2,
           0,
           3,
           0,
           2,
           2,
           3,
           2,
           2,
           3,
           2,
           2,
           1,
           1,
           2,
           2,
           2,
           2,
           3,
           2,
           2,
           2,
           0,
           2,
           3,
           1,
           1,
           0,
           3,
           1,
           2,
           0,
           3,
           2,
           2,
           2,
           2,
           2,
           3,
           0,
           1,
           3,
           1,
           1,
           3,
           3,
           3,
           1,
           0,
           2,
           0,
           2,
           0,
           3,
           2,
           2,
           1,
           3,
           1,
           0,
           2,
           3,
           1,
           2,
           2,
           1,
           2,
           2,
           2,
           2,
           3,
           0,
           0,
           3,
           2,
           1,
           0,
           3,
           2,
           2,
           3,
           0,
           3,
           2,
           2,
           0,
           1,
           0,
           0,
           3,
           1,
           1,
           1,
           0,
           3,
           1,
           3,
           3,
           3,
           3,
           3,
           2,
           0,
           1,
           0,
           1,
           1,
           2,
           1,
           3,
           3,
           3,
           2,
           3,
           3,
           2,
           3,
           1,
           0,
           1,
           3,
           2,
           2,
           3,
           3,
           2,
           2,
           0,
           3,
           0,
           1,
           2,
           2,
           3,
           1,
           1,
           1,
           0,
           1,
           1,
           2,
           3,
           0,
           3,
           3,
           0,
           1,
           3,
           3,
           3,
           3,
           3,
           0,
           3,
           3,
           2,
           3,
           1,
           0,
           1,
           2,
           3,
           0,
           1,
           2,
           1,
           0,
           2,
           1,
           2,
           3,
           3,
           1,
           2,
           3,
           3,
           2,
           1,
           3,
           3,
           3,
           0,
           3,
           0,
           0,
           0,
           3,
           2,
           2,
           3,
           2,
           0,
           0,
           3,
           3,
           1,
           1,
           3,
           0,
           1,
           1,
           1,
           2,
           1,
           3,
           2,
           1,
           0,
           0,
           3,
           2,
           2,
           2,
           2,
           3,
           2,
           0,
           2,
           2,
           2,
           1,
           1,
           0,
           1,
           3,
           3,
           2,
           2,
           3,
           3,
           3,
           0,
           0,
           3,
           1,
           3,
           3,
           1,
           2,
           1,
           1,
           2,
           1,
           0,
           3,
           3,
           3,
           2,
           2,
           2,
           2,
           1,
           3,
           2,
           2,
           3,
           2,
           3,
           2,
           1,
           2,
           2,
           3,
           1,
           1,
           3,
           1,
           3,
           2,
           1,
           0,
           3,
           1,
           1,
           1,
           2,
           1,
           2,
           0,
           1,
           3,
           3,
           1,
           0,
           3,
           0,
           3,
           3,
           3,
           0,
           3,
           3,
           3,
           1,
           2,
           1,
           1,
           1,
           2,
           1,
           2,
           1,
           2,
           3,
           2,
           0,
           1,
           3,
           1,
           3,
           2,
           3,
           0,
           1,
           1,
           2,
           1,
           2,
           1,
           0,
           1,
           2,
           1,
           1,
           1,
           2,
           0,
           3,
           1,
           0,
           3,
           1,
           0,
           0,
           1,
           3,
           3,
           2,
           1,
           1,
           3,
           2,
           2,
           0,
           2,
           3,
           0,
           1,
           2,
           3,
           2,
           2,
           1,
           1,
           2,
           2,
           1,
           0,
           2,
           3,
           0,
           0,
           2,
           1,
           1,
           2,
           2,
           1,
           2,
           0,
           3,
           2,
           3,
           2,
           0,
           3,
           2,
           2,
           1,
           0,
           0,
           0,
           0,
           3,
           1,
           2,
           2,
           1,
           3,
           3,
           1,
           3,
           1,
           3,
           0,
           2,
           2,
           1,
           3,
           3,
           2,
           3,
           1,
           1,
           3,
           0,
           0,
           2,
           0,
           1,
           3,
           2,
           0,
           3,
           3,
           0,
           0,
           3,
           3,
           0,
           3,
           0,
           1,
           3,
           1,
           0,
           2,
           0,
           2,
           2,
           1,
           1,
           3,
           1,
           3,
           0,
           3,
           3,
           1,
           2,
           3,
           1,
           2,
           3,
           1,
           3,
           2,
           2,
           0,
           3,
           3,
           2,
           0,
           3,
           3,
           1,
           3,
           0,
           3,
           0,
           3,
           1,
           1,
           2,
           3,
           0,
           3,
           0,
           3,
           1,
           2,
           2,
           2,
           3,
           1,
           2,
           1,
           3,
           1,
           0,
           1,
           1,
           2,
           2,
           1,
           1,
           3,
           1,
           2,
           0,
           2,
           0,
           0,
           3,
           0,
           0,
           3,
           2,
           1,
           3,
           3,
           2,
           0,
           2,
           3,
           3,
           0,
           2,
           2,
           3,
           1,
           3,
           3,
           3,
           3,
           1,
           1,
           1,
           1,
           0,
           1,
           1,
           2,
           0,
           0,
           1,
           3,
           1,
           2,
           2,
           2,
           0,
           2,
           3,
           0,
           1,
           0,
           2,
           1,
           0,
           2,
           2,
           0,
           0,
           0,
           3,
           2,
           1,
           3,
           0,
           2,
           3,
           3,
           0,
           3,
           0,
           3,
           1,
           3,
           1,
           1,
           1,
           0,
           1,
           1,
           2,
           1,
           3,
           0,
           2,
           2,
           0,
           1,
           1,
           3,
           3,
           1,
           3,
           1,
           2,
           1,
           1,
           1,
           3,
           3,
           2,
           1,
           3,
           1,
           1,
           3,
           1,
           0,
           0,
           1,
           1,
           1,
           2,
           2,
           3,
           1,
           0,
           3,
           0,
           3,
           0,
           0,
           3,
           1,
           1,
           3,
           1,
           2,
           0,
           2,
           1,
           1,
           1,
           3,
           3,
           3,
           0,
           2,
           3,
           1,
           0,
           3,
           1,
           3,
           0,
           3,
           0,
           3,
           3,
           3,
           2,
           0,
           3,
           1,
           3,
           2,
           0,
           3,
           2,
           3,
           3,
           3,
           2,
           3,
           1,
           1,
           2,
           1,
           3,
           1,
           0,
           0,
           0,
           0,
           2,
           3,
           2,
           1,
           2,
           3,
           1,
           1,
           3,
           1,
           1,
           3,
           0,
           3,
           3,
           2,
           2,
           2,
           3,
           2,
           2,
           0,
           3,
           1,
           3,
           3,
           1,
           2,
           2,
           1,
           0,
           2,
           1,
           2,
           3,
           0,
           1,
           1,
           0,
           0,
           3,
           3,
           0,
           1,
           3,
           3,
           3,
           0,
           1,
           2,
           0,
           3,
           3,
           3,
           3,
           1,
           3,
           1,
           2,
           2,
           2,
           0,
           1,
           1,
           1,
           1,
           3,
           2,
           2,
           1,
           1,
           1,
           0,
           3,
           3,
           3,
           3,
           1,
           1,
           3,
           3,
           0,
           2,
           3,
           2,
           2,
           3,
           3,
           1,
           1,
           2,
           0,
           3,
           3,
           1,
           3,
           1,
           3,
           0,
           1,
           3,
           1,
           1,
           1,
           2,
           0,
           3,
           1,
           2,
           1,
           0,
           0,
           3,
           1,
           3,
           2,
           3,
           1,
           2,
           0,
           3,
           1,
           1,
           3,
           1,
           3,
           3,
           1,
           3,
           1,
           1,
           2,
           3,
           2,
           2,
           2,
           1,
           2,
           2,
           2,
           1,
           1,
           1,
           3,
           0,
           1,
           3,
           0
          ],
          "coloraxis": "coloraxis",
          "size": [
           8453,
           1442,
           8597,
           4437,
           5435,
           8435,
           4107,
           560,
           8785,
           5548,
           1826,
           7629,
           8325,
           3138,
           7693,
           8264,
           7842,
           6721,
           7002,
           4225,
           2978,
           7373,
           5907,
           6097,
           5656,
           8984,
           4259,
           8286,
           5901,
           9325,
           4917,
           8429,
           2530,
           1960,
           7045,
           1048,
           5772,
           2529,
           2964,
           7137,
           963,
           536,
           7340,
           7179,
           7967,
           8734,
           845,
           5777,
           3036,
           5947,
           2494,
           2719,
           1884,
           4349,
           5179,
           6610,
           6430,
           7154,
           6488,
           4737,
           6525,
           3850,
           689,
           5175,
           8648,
           5078,
           5448,
           1179,
           9074,
           6406,
           8591,
           6907,
           8800,
           1638,
           5671,
           6928,
           1382,
           1403,
           9011,
           3292,
           9011,
           419,
           4517,
           3302,
           7857,
           9700,
           7870,
           5693,
           767,
           2044,
           1549,
           9956,
           6140,
           3716,
           4481,
           7898,
           6548,
           2293,
           4837,
           7758,
           6793,
           7638,
           7993,
           6007,
           5542,
           9092,
           6356,
           8433,
           7380,
           2385,
           4268,
           671,
           163,
           8656,
           4592,
           4795,
           4798,
           6036,
           2355,
           5887,
           7961,
           5827,
           8737,
           4719,
           593,
           4839,
           7394,
           9651,
           3493,
           6164,
           2672,
           4200,
           16,
           3191,
           392,
           8616,
           6272,
           571,
           3631,
           6172,
           9312,
           7177,
           8433,
           3897,
           8123,
           2279,
           8980,
           7451,
           8906,
           775,
           6869,
           2247,
           7088,
           78,
           8080,
           7099,
           3926,
           9047,
           7340,
           7083,
           6230,
           9223,
           4940,
           3271,
           3456,
           7788,
           8599,
           7650,
           2711,
           1668,
           147,
           6420,
           365,
           9866,
           4531,
           5330,
           5510,
           8754,
           8964,
           6493,
           5439,
           9765,
           6511,
           7504,
           1246,
           3839,
           8551,
           2376,
           3009,
           9154,
           1827,
           6979,
           9805,
           9832,
           8569,
           4285,
           6910,
           8561,
           2196,
           3747,
           8843,
           5978,
           5607,
           769,
           780,
           9908,
           6303,
           3983,
           9503,
           8714,
           521,
           9127,
           7569,
           5784,
           4583,
           5946,
           4941,
           6267,
           7128,
           2461,
           685,
           2160,
           7031,
           9759,
           5341,
           38,
           4875,
           1256,
           7697,
           2196,
           7165,
           301,
           7527,
           6381,
           646,
           9951,
           8789,
           8853,
           4330,
           9560,
           7003,
           3537,
           4558,
           6579,
           8474,
           9678,
           4082,
           4183,
           8652,
           3754,
           1724,
           1376,
           8706,
           8894,
           1653,
           2066,
           22,
           2460,
           5926,
           6251,
           9496,
           7295,
           3300,
           6279,
           8553,
           7353,
           3727,
           6272,
           5995,
           9476,
           514,
           448,
           6019,
           5343,
           8033,
           2520,
           3081,
           1428,
           3967,
           6445,
           9114,
           2159,
           5132,
           2547,
           2979,
           2649,
           8505,
           3083,
           1037,
           3489,
           7604,
           7544,
           2634,
           3983,
           1778,
           7902,
           5110,
           5189,
           7378,
           1124,
           697,
           2179,
           9596,
           5251,
           9235,
           1929,
           1013,
           226,
           7321,
           1828,
           7909,
           5588,
           2023,
           4966,
           5891,
           1080,
           5036,
           2563,
           3292,
           3586,
           4431,
           6841,
           6643,
           3959,
           161,
           593,
           3390,
           5997,
           6354,
           663,
           9324,
           541,
           5433,
           5093,
           867,
           8623,
           5469,
           6256,
           9398,
           1169,
           830,
           1651,
           1136,
           2810,
           8667,
           9518,
           1019,
           5237,
           1283,
           659,
           2010,
           8590,
           1733,
           2125,
           2171,
           8266,
           3471,
           9028,
           5624,
           8691,
           8329,
           2097,
           5068,
           6397,
           2757,
           3920,
           8186,
           1900,
           2610,
           6900,
           1449,
           8738,
           5017,
           7999,
           6052,
           2096,
           8895,
           6404,
           9817,
           3331,
           7462,
           5105,
           2978,
           2839,
           3384,
           685,
           7531,
           4283,
           7736,
           7710,
           1619,
           6868,
           1431,
           9067,
           4713,
           9557,
           9435,
           4998,
           162,
           1974,
           3291,
           8461,
           631,
           905,
           2014,
           9833,
           7896,
           204,
           581,
           5675,
           9032,
           5347,
           9911,
           2643,
           8017,
           2297,
           874,
           5560,
           689,
           4000,
           9614,
           671,
           7927,
           1171,
           5591,
           9135,
           6342,
           1449,
           2539,
           3959,
           6285,
           5432,
           4260,
           2361,
           6164,
           3670,
           1753,
           8100,
           1938,
           8562,
           5976,
           6588,
           8616,
           6304,
           7345,
           7875,
           9086,
           6633,
           597,
           3062,
           2336,
           9879,
           572,
           7521,
           6171,
           7097,
           2090,
           6566,
           4624,
           1633,
           1517,
           3648,
           1537,
           3137,
           6985,
           97,
           3750,
           8535,
           8174,
           8103,
           5413,
           4666,
           610,
           1727,
           1854,
           5055,
           2324,
           9369,
           9283,
           5774,
           6519,
           1749,
           781,
           7548,
           6823,
           2105,
           3867,
           7193,
           4976,
           2113,
           5879,
           3970,
           9259,
           7264,
           1577,
           9203,
           2274,
           4869,
           6744,
           2426,
           5546,
           6852,
           2551,
           6411,
           7,
           8087,
           2555,
           475,
           5416,
           8676,
           7239,
           6710,
           5000,
           4654,
           8078,
           6063,
           2285,
           5223,
           6971,
           3525,
           2822,
           4943,
           6530,
           258,
           282,
           1898,
           4135,
           6629,
           3200,
           5110,
           7167,
           612,
           687,
           3690,
           8804,
           2307,
           7133,
           6509,
           9973,
           5906,
           2591,
           7183,
           5248,
           8766,
           5108,
           3604,
           669,
           4364,
           7329,
           1283,
           923,
           1125,
           1529,
           9786,
           8438,
           3711,
           8004,
           9752,
           6274,
           3864,
           7833,
           6788,
           226,
           264,
           9587,
           645,
           7544,
           5569,
           2990,
           2504,
           9346,
           587,
           9177,
           4079,
           3348,
           6299,
           3831,
           9433,
           8381,
           9172,
           9890,
           1715,
           6450,
           5433,
           1098,
           7096,
           2326,
           9087,
           6416,
           6980,
           6763,
           1674,
           7950,
           9122,
           8915,
           6049,
           1089,
           4578,
           9127,
           155,
           9262,
           1958,
           6344,
           5779,
           6144,
           5063,
           3830,
           9046,
           8831,
           9794,
           6659,
           441,
           6040,
           5925,
           7358,
           4628,
           6370,
           9528,
           948,
           8179,
           6115,
           459,
           7568,
           4646,
           392,
           1787,
           7374,
           1138,
           4741,
           7418,
           6362,
           2454,
           9658,
           3674,
           1377,
           6701,
           2597,
           141,
           2659,
           4596,
           9031,
           5661,
           6142,
           5626,
           8787,
           8472,
           423,
           6999,
           4249,
           1750,
           4757,
           1967,
           4088,
           4178,
           7789,
           2946,
           9641,
           5394,
           7880,
           5075,
           7230,
           1531,
           2990,
           7155,
           4493,
           9335,
           933,
           1460,
           2723,
           285,
           264,
           6816,
           1762,
           40,
           5827,
           8259,
           987,
           7804,
           7789,
           5717,
           3198,
           5374,
           4790,
           7183,
           2524,
           9277,
           2479,
           9885,
           5154,
           778,
           9777,
           1492,
           660,
           1348,
           9491,
           7851,
           7156,
           2044,
           7368,
           3516,
           9250,
           9168,
           4577,
           727,
           7468,
           342,
           1447,
           6581,
           6317,
           526,
           6748,
           405,
           7986,
           9765,
           3740,
           1846,
           1478,
           771,
           5525,
           8770,
           193,
           2007,
           1185,
           2394,
           9984,
           9302,
           4005,
           7429,
           2261,
           3736,
           6716,
           4875,
           8921,
           4378,
           7815,
           3451,
           7616,
           9836,
           2800,
           8333,
           5410,
           1455,
           6892,
           5808,
           6796,
           4796,
           5093,
           1325,
           4976,
           9405,
           1159,
           4650,
           4987,
           4697,
           340,
           3828,
           1968,
           703,
           5482,
           6376,
           1800,
           5463,
           4912,
           4648,
           855,
           2866,
           182,
           3112,
           5670,
           4492,
           5823,
           1517,
           5002,
           1356,
           3629,
           3628,
           8210,
           6132,
           9324,
           6588,
           3311,
           6048,
           6246,
           987,
           3321,
           4615,
           8365,
           3741,
           3052,
           6574,
           726,
           3760,
           5806,
           1875,
           6993,
           4033,
           5443,
           989,
           3744,
           8611,
           593,
           1774,
           935,
           3808,
           331,
           7922,
           2702,
           5889,
           5054,
           3868,
           4200,
           201,
           2497,
           1842,
           9101,
           4658,
           7544,
           7718,
           770,
           3155,
           1628,
           386,
           6031,
           6439,
           6401,
           4008,
           2466,
           2282,
           1856,
           7980,
           1998,
           5476,
           9428,
           4669,
           9342,
           4318,
           7064,
           7446,
           1431,
           5624,
           7461,
           1819,
           1130,
           6563,
           2658,
           3500,
           8566,
           2120,
           4020,
           3259,
           1823,
           1474,
           2242,
           3243,
           6990,
           5160,
           3134,
           2070,
           359,
           1141,
           1635,
           4000,
           3361,
           6583,
           7835,
           6,
           3267,
           6564,
           9783,
           4928,
           2606,
           5906,
           3273,
           7611,
           913,
           2011,
           1442,
           5546,
           1829,
           8767,
           6468,
           929,
           3699,
           9655,
           1054,
           5744,
           1900,
           9649,
           6980,
           7069,
           9591,
           3415,
           442,
           6218,
           4652,
           7939,
           7833,
           9370,
           7597,
           4458,
           6591,
           9449,
           2309,
           6268,
           910,
           4340,
           4009,
           6628,
           2169,
           2172,
           5668,
           6313,
           8315,
           8036,
           6789,
           785,
           6139,
           6344,
           2416,
           8988,
           4154,
           5619,
           1936,
           3807,
           7151,
           9493,
           3236,
           2352,
           1932,
           8556,
           4916,
           5498,
           946,
           9569,
           1439,
           7730,
           4857,
           340,
           382,
           9748,
           8491,
           138,
           358,
           4931,
           9714,
           3456,
           1627,
           9495,
           6626,
           5004,
           9326,
           6652,
           6416,
           3170,
           3835,
           8017,
           2151,
           9429,
           6905,
           2834,
           9190,
           2567,
           1307,
           8848,
           2660,
           3730,
           6207,
           3162,
           1140,
           8458,
           1708,
           3630,
           3211,
           6538,
           9702,
           475,
           7684,
           9168,
           1207,
           1960,
           557,
           882,
           4761,
           5867,
           6963,
           7166,
           7929,
           5347,
           7269,
           9802,
           8125,
           2454,
           4494,
           1946,
           2808,
           6642,
           3825,
           3536,
           6068,
           3802
          ],
          "sizemode": "area",
          "sizeref": 24.96,
          "symbol": "circle"
         },
         "mode": "markers",
         "name": "",
         "orientation": "v",
         "showlegend": false,
         "type": "scatter",
         "x": [
          11827,
          673,
          40941,
          35148,
          2870,
          69599,
          33544,
          42265,
          31621,
          29421,
          7581,
          38080,
          31429,
          45946,
          849,
          36466,
          27952,
          61467,
          47086,
          3323,
          46191,
          30849,
          75174,
          22925,
          54520,
          47469,
          20840,
          70880,
          8015,
          3069,
          23932,
          38258,
          42092,
          28583,
          64002,
          31229,
          33059,
          17394,
          10364,
          37273,
          2314,
          24750,
          51156,
          39037,
          53785,
          10029,
          6335,
          67566,
          31577,
          55947,
          22292,
          52042,
          21321,
          24797,
          7572,
          73341,
          15468,
          61335,
          53096,
          63520,
          60706,
          10238,
          37626,
          71660,
          72294,
          38966,
          32494,
          8380,
          36794,
          37045,
          31474,
          48138,
          16964,
          71593,
          68662,
          27336,
          7193,
          39169,
          25278,
          69209,
          900,
          79671,
          25869,
          60807,
          16692,
          15569,
          45216,
          75843,
          5613,
          71321,
          7069,
          31948,
          44320,
          25585,
          6022,
          33587,
          27077,
          49426,
          33491,
          32755,
          2689,
          38089,
          62625,
          1720,
          37749,
          5470,
          58889,
          36972,
          26863,
          8130,
          57089,
          6430,
          37120,
          3306,
          14840,
          50450,
          47159,
          17416,
          7125,
          15099,
          61518,
          27227,
          41187,
          25413,
          35004,
          59456,
          40659,
          76713,
          36520,
          7778,
          18448,
          42797,
          55456,
          8159,
          68492,
          15488,
          31213,
          34940,
          52771,
          3165,
          51559,
          555,
          78098,
          45966,
          14249,
          47224,
          37987,
          23211,
          59679,
          13272,
          56462,
          60470,
          42250,
          50555,
          31622,
          29726,
          45505,
          40936,
          36631,
          78278,
          13417,
          30427,
          30071,
          35793,
          28618,
          1966,
          75218,
          83780,
          41213,
          14378,
          38374,
          25860,
          16364,
          10344,
          22359,
          35113,
          12834,
          16805,
          41092,
          21574,
          20375,
          54062,
          30349,
          6853,
          69172,
          42442,
          9370,
          51620,
          16227,
          4094,
          69381,
          2795,
          61027,
          93126,
          9757,
          28020,
          23434,
          42745,
          73223,
          32290,
          50568,
          45993,
          22678,
          45371,
          44284,
          20979,
          31633,
          73992,
          42794,
          61889,
          70962,
          12681,
          45009,
          65319,
          69901,
          25855,
          74356,
          805,
          37520,
          18939,
          7395,
          25607,
          24515,
          45618,
          35854,
          19600,
          68904,
          58703,
          58512,
          43295,
          67700,
          7107,
          17815,
          34577,
          28931,
          22690,
          34315,
          36248,
          22896,
          34112,
          21049,
          19235,
          77548,
          35888,
          75656,
          31699,
          8433,
          58391,
          43730,
          1668,
          34061,
          53457,
          20419,
          77677,
          9054,
          1519,
          53552,
          58268,
          4226,
          47890,
          77274,
          62390,
          84275,
          7001,
          26747,
          2017,
          3662,
          48847,
          32585,
          32220,
          12917,
          78533,
          48903,
          15594,
          11954,
          30745,
          69136,
          84474,
          14489,
          54899,
          2128,
          29627,
          10416,
          12455,
          31822,
          35162,
          35548,
          3331,
          36313,
          6678,
          20908,
          37532,
          2052,
          4327,
          48067,
          9001,
          18580,
          12168,
          20182,
          2478,
          45526,
          31754,
          22018,
          1318,
          16395,
          54726,
          1114,
          36810,
          40881,
          15031,
          43285,
          2742,
          36839,
          29525,
          81471,
          58021,
          20481,
          16098,
          86701,
          82528,
          3381,
          26159,
          18873,
          28080,
          71958,
          54713,
          21551,
          38762,
          37083,
          32871,
          18988,
          12290,
          4330,
          71146,
          37841,
          2878,
          33229,
          30969,
          5917,
          10754,
          23297,
          36615,
          26173,
          24267,
          42012,
          25487,
          4597,
          49179,
          76058,
          26401,
          56492,
          27215,
          46889,
          62706,
          25361,
          17066,
          29544,
          69171,
          34091,
          40952,
          40718,
          15683,
          50622,
          14665,
          12105,
          2783,
          61366,
          533,
          24364,
          53028,
          41372,
          30345,
          4720,
          3031,
          36566,
          44692,
          18673,
          23731,
          27839,
          14743,
          56454,
          40211,
          17812,
          61446,
          4112,
          10573,
          8033,
          24349,
          41646,
          41617,
          5506,
          34925,
          37987,
          14857,
          46348,
          47878,
          2951,
          12867,
          39880,
          36874,
          27964,
          9806,
          4874,
          84921,
          63472,
          59907,
          65151,
          1190,
          64459,
          5600,
          55212,
          63336,
          86931,
          48535,
          23530,
          11492,
          19079,
          42903,
          5543,
          71514,
          73912,
          41193,
          28031,
          25441,
          19703,
          41857,
          44176,
          28941,
          12871,
          37899,
          39257,
          59875,
          9287,
          62140,
          60673,
          45148,
          17167,
          1849,
          30971,
          37362,
          81304,
          43840,
          41425,
          46297,
          31576,
          17356,
          62711,
          54218,
          26961,
          54610,
          32341,
          47004,
          9925,
          46859,
          64246,
          38661,
          42229,
          45713,
          38152,
          22981,
          13384,
          76973,
          24868,
          6742,
          2656,
          25137,
          931,
          49498,
          48221,
          28800,
          64555,
          12885,
          40155,
          4299,
          3133,
          15183,
          43101,
          27878,
          3627,
          7882,
          22370,
          21190,
          8341,
          9820,
          30105,
          48171,
          35776,
          62406,
          46760,
          7649,
          34849,
          72509,
          47924,
          39980,
          7271,
          48128,
          21134,
          68503,
          40378,
          76268,
          37318,
          35324,
          15162,
          77918,
          26931,
          22717,
          46857,
          41668,
          59666,
          33062,
          54922,
          17593,
          18646,
          62586,
          74544,
          59540,
          52787,
          22240,
          47955,
          21705,
          5357,
          48091,
          30242,
          5753,
          12936,
          4696,
          20962,
          22603,
          34733,
          18279,
          57332,
          41706,
          65876,
          47644,
          54895,
          53322,
          14820,
          42584,
          29935,
          11355,
          23726,
          78473,
          1872,
          63105,
          68512,
          53525,
          21827,
          50188,
          63399,
          65922,
          17109,
          72432,
          26684,
          3107,
          10026,
          57721,
          38875,
          17211,
          84877,
          86114,
          11031,
          70131,
          14215,
          47067,
          46919,
          39427,
          46534,
          19642,
          1579,
          67595,
          52089,
          21902,
          16341,
          9209,
          730,
          4997,
          16101,
          26270,
          79891,
          80790,
          19336,
          21391,
          9004,
          30387,
          29958,
          47151,
          49815,
          13389,
          36098,
          44776,
          53521,
          24873,
          25199,
          65180,
          3835,
          27910,
          35952,
          18695,
          32817,
          19523,
          51000,
          39368,
          37123,
          9768,
          39526,
          12032,
          29905,
          26202,
          1160,
          31926,
          40888,
          24244,
          39031,
          44561,
          15546,
          54149,
          34324,
          13574,
          35283,
          57260,
          29764,
          47796,
          67657,
          48009,
          45620,
          17945,
          33649,
          35618,
          5420,
          3770,
          42721,
          45451,
          48597,
          5082,
          57267,
          51283,
          41048,
          14992,
          850,
          56091,
          82362,
          16443,
          9843,
          7338,
          58172,
          7899,
          18098,
          17664,
          43732,
          46743,
          5111,
          43908,
          39561,
          13558,
          59595,
          51647,
          45981,
          19471,
          1868,
          11009,
          37275,
          35885,
          37123,
          49696,
          63052,
          82129,
          13302,
          36951,
          79024,
          29230,
          19902,
          16980,
          11544,
          36948,
          23207,
          76345,
          78254,
          34120,
          18958,
          18873,
          1046,
          81608,
          28796,
          70038,
          16551,
          23387,
          47598,
          20568,
          19481,
          27497,
          48605,
          73968,
          7152,
          19162,
          66776,
          3963,
          58636,
          4296,
          1970,
          27572,
          41303,
          37638,
          9168,
          21903,
          20467,
          25083,
          25793,
          19012,
          43459,
          44012,
          40869,
          24575,
          14175,
          29025,
          47367,
          56128,
          32663,
          19931,
          33325,
          11681,
          51188,
          62610,
          53523,
          69643,
          20887,
          78891,
          14193,
          11721,
          54545,
          16183,
          43891,
          25854,
          32717,
          43393,
          63692,
          14394,
          34433,
          20733,
          3214,
          48488,
          7386,
          8312,
          15672,
          59357,
          13868,
          37607,
          25842,
          6639,
          33947,
          29228,
          51329,
          21304,
          29970,
          17184,
          4724,
          15794,
          41919,
          21972,
          66302,
          40973,
          26320,
          30193,
          65398,
          59958,
          26350,
          17912,
          41902,
          4282,
          36365,
          30164,
          40471,
          41743,
          71944,
          36463,
          55900,
          28740,
          12103,
          27747,
          65303,
          29427,
          780,
          43731,
          23955,
          4277,
          29173,
          16875,
          4231,
          46545,
          10573,
          3391,
          61160,
          79635,
          21991,
          15366,
          12073,
          31896,
          8405,
          525,
          822,
          30813,
          24596,
          21127,
          5325,
          12133,
          46868,
          81764,
          7845,
          60459,
          46624,
          17976,
          16689,
          38494,
          6722,
          2974,
          30916,
          44695,
          8180,
          38906,
          37188,
          17923,
          23943,
          35294,
          16076,
          30431,
          14120,
          36695,
          20518,
          23404,
          61650,
          32020,
          4496,
          9124,
          31705,
          53432,
          36767,
          23209,
          50834,
          14663,
          20046,
          27005,
          43948,
          11426,
          24084,
          26080,
          76856,
          37478,
          10952,
          16227,
          13214,
          34779,
          1432,
          33492,
          56021,
          17100,
          62234,
          45870,
          54457,
          46398,
          48596,
          39385,
          4375,
          28623,
          59272,
          4235,
          21274,
          10355,
          37432,
          58823,
          67152,
          80238,
          30617,
          47542,
          60852,
          34447,
          41407,
          35573,
          27582,
          23167,
          34135,
          50459,
          48581,
          65673,
          14574,
          51891,
          75235,
          68910,
          6944,
          4953,
          45261,
          34438,
          7299,
          35141,
          3080,
          8143,
          19057,
          36914,
          29061,
          3269,
          5890,
          18630,
          15549,
          53632,
          37474,
          33773,
          26139,
          37816,
          38579,
          13976,
          4741,
          19984,
          53449,
          63364,
          77312,
          34852,
          17713,
          41383,
          25703,
          13543,
          11375,
          77083,
          49220,
          48917,
          49959,
          12803,
          22120,
          5380,
          14059,
          3674,
          26517,
          5210,
          35214,
          12460,
          21590,
          2633,
          67671,
          36341,
          58581,
          49363,
          49869,
          22383,
          38733,
          611,
          54802,
          463,
          3709,
          11983,
          43977,
          34599,
          24911,
          10759,
          4715,
          10872,
          3257,
          3246,
          13801,
          36010,
          73116,
          37895,
          22309,
          38283,
          53014,
          28090,
          31413,
          28072,
          46026,
          33220,
          6053,
          63900,
          910,
          24934,
          82201,
          6322,
          29878,
          29761,
          2901,
          2003,
          3391,
          3398,
          48677,
          56311,
          19854,
          5947,
          16874,
          64131,
          5945,
          46548,
          48811,
          61715,
          21906,
          67862,
          58774,
          54665,
          39117,
          39642,
          25567,
          28756,
          29207,
          36227,
          35431,
          14950
         ],
         "xaxis": "x",
         "y": [
          3.3,
          4.8,
          2.5,
          3.1,
          3.4,
          3.7,
          4.6,
          2.7,
          4.5,
          2.6,
          4.6,
          2.6,
          2.5,
          4.2,
          5,
          4.7,
          3.9,
          4.8,
          2.5,
          4.9,
          3.7,
          4.3,
          4.6,
          4.3,
          3.8,
          3.7,
          4.6,
          3,
          4.9,
          4.3,
          3,
          4.3,
          3.8,
          4.3,
          4.4,
          2.7,
          3.8,
          4.8,
          3.3,
          4,
          3.4,
          3.6,
          3.9,
          3.9,
          3,
          4.2,
          2.7,
          2.8,
          2.5,
          2.8,
          3.7,
          4,
          4.5,
          2.8,
          4.6,
          4.4,
          3.5,
          4.8,
          5,
          3,
          3.4,
          4.8,
          4.3,
          2.6,
          4.5,
          4.6,
          4.4,
          4.5,
          4.6,
          3,
          3.1,
          4.1,
          4.8,
          3.3,
          4,
          4.2,
          3.6,
          4.3,
          4.7,
          4.1,
          3.8,
          3.6,
          3.9,
          3.4,
          3.5,
          3.8,
          2.7,
          3.1,
          3.9,
          3.6,
          3.3,
          4.3,
          4.2,
          2.9,
          4.7,
          3.7,
          4.4,
          3.9,
          5,
          4.4,
          4.3,
          4.4,
          2.9,
          3,
          4.3,
          3.7,
          4.4,
          2.8,
          3.8,
          3.4,
          3.6,
          4,
          3.8,
          3.8,
          3.7,
          3.5,
          4.4,
          2.5,
          4,
          3.9,
          4.3,
          4,
          4.6,
          4.9,
          3.4,
          3.1,
          3.6,
          3.2,
          4,
          4.8,
          2.8,
          2.8,
          3.1,
          4.3,
          4,
          2.8,
          4.8,
          4.5,
          2.6,
          4.1,
          4.4,
          3.4,
          2.7,
          2.7,
          2.8,
          4.6,
          4.8,
          2.8,
          3.1,
          2.9,
          3,
          4.6,
          3.3,
          3.3,
          3.1,
          4,
          3.4,
          4.4,
          3,
          4.5,
          4,
          2.8,
          3.5,
          4.7,
          4.8,
          3.7,
          3.7,
          4.8,
          4,
          2.6,
          4.8,
          3.1,
          3.9,
          2.9,
          2.6,
          3.3,
          4.5,
          3.2,
          3.1,
          3,
          3.8,
          4.9,
          3.6,
          3.9,
          4.7,
          3.8,
          3,
          3.2,
          3.3,
          3.5,
          3.6,
          4.5,
          3.4,
          3.7,
          4.1,
          3.4,
          4.6,
          4,
          3.2,
          4.3,
          3.8,
          3.8,
          3.7,
          3.7,
          4.4,
          2.8,
          3.3,
          2.7,
          4.4,
          3.2,
          4.7,
          3.8,
          4.5,
          4.9,
          4.6,
          4.7,
          3.5,
          3.9,
          3.1,
          3,
          3.8,
          4,
          3.3,
          3.9,
          4.7,
          3.9,
          4.3,
          4.5,
          5,
          4,
          4.5,
          4.9,
          4.9,
          2.9,
          3.5,
          3.3,
          2.7,
          4.1,
          4.3,
          4.6,
          2.8,
          4.7,
          4.1,
          4.3,
          4.8,
          4.1,
          3.3,
          4.6,
          3.4,
          2.6,
          4.6,
          3.4,
          4.4,
          3.4,
          4.7,
          3,
          4.9,
          4.4,
          2.8,
          3.9,
          5,
          3.7,
          3,
          3.7,
          3.8,
          4.4,
          4.2,
          3.5,
          3,
          4.1,
          3.6,
          2.8,
          4.8,
          4.2,
          4.2,
          4.6,
          3.8,
          4.5,
          3.7,
          2.7,
          3.5,
          3.7,
          4.3,
          2.8,
          2.9,
          3.2,
          3.2,
          4.3,
          3.1,
          4.1,
          3.7,
          3.9,
          4.6,
          3.5,
          4.4,
          3.6,
          3.4,
          4.9,
          3,
          2.7,
          4.4,
          2.7,
          4.6,
          3.6,
          4.8,
          4.3,
          4,
          4.9,
          3.5,
          4.9,
          2.8,
          3.7,
          3.2,
          3.8,
          2.9,
          4.6,
          4.6,
          4.9,
          2.9,
          4.1,
          3.7,
          3.4,
          3.4,
          3.5,
          4.3,
          4,
          3.6,
          2.7,
          2.7,
          2.5,
          4.9,
          2.5,
          2.8,
          3.3,
          4.5,
          4.9,
          4.5,
          4.2,
          3.8,
          2.7,
          4.9,
          4.4,
          4.1,
          4.4,
          4.3,
          4.1,
          5,
          4.8,
          4.1,
          4.2,
          2.6,
          4.2,
          2.6,
          4,
          5,
          3.9,
          3.7,
          3.3,
          2.8,
          4.3,
          3,
          2.8,
          3.6,
          4.5,
          4.4,
          2.6,
          3.6,
          3.8,
          4.1,
          4.1,
          3.4,
          3.9,
          3.7,
          4.7,
          3.8,
          3.6,
          3.5,
          3.9,
          4.5,
          3.8,
          4.2,
          4.3,
          3.8,
          3.6,
          4.7,
          3.5,
          3.7,
          5,
          2.5,
          3,
          3.5,
          4.8,
          2.7,
          2.5,
          2.6,
          2.7,
          2.6,
          3.7,
          4,
          3.2,
          3.5,
          2.7,
          3.3,
          3.8,
          4.3,
          2.5,
          3.7,
          3.2,
          4.6,
          4.3,
          4,
          3.2,
          4.8,
          2.6,
          2.8,
          3.5,
          2.8,
          4.9,
          4.5,
          3.1,
          4,
          5,
          4.7,
          4,
          4.8,
          5,
          4.4,
          2.7,
          3.5,
          4.6,
          3.1,
          4.6,
          2.8,
          2.6,
          3.5,
          2.6,
          4.9,
          4.6,
          4.5,
          4.1,
          3,
          3.8,
          4,
          3.8,
          3.2,
          3.8,
          3.7,
          5,
          4.7,
          3.7,
          4.1,
          4.4,
          2.6,
          4.7,
          4.7,
          3.6,
          3.5,
          3.2,
          3.7,
          2.6,
          4.6,
          2.6,
          3.3,
          4.8,
          4.3,
          3.2,
          3.1,
          2.5,
          4.2,
          2.6,
          3.8,
          4.9,
          2.8,
          4.7,
          5,
          2.7,
          4.7,
          3.8,
          4.8,
          3.9,
          4.2,
          3.9,
          4.7,
          4.3,
          3.8,
          4.7,
          3.1,
          2.9,
          2.9,
          3.3,
          3.1,
          4.8,
          2.8,
          4.2,
          3,
          4.7,
          4.9,
          3.7,
          4.7,
          2.5,
          4.5,
          3.1,
          4.8,
          2.5,
          3.9,
          4.4,
          3.1,
          3,
          2.7,
          3.3,
          3.9,
          2.8,
          3.4,
          2.5,
          4.5,
          2.8,
          3.2,
          2.5,
          3.6,
          4.6,
          3.5,
          2.9,
          4.4,
          4.5,
          2.9,
          4.4,
          4.9,
          2.9,
          4.4,
          4.3,
          3.7,
          2.6,
          2.7,
          4.6,
          5,
          4.2,
          3.6,
          4.1,
          4,
          3.5,
          2.7,
          4.6,
          3.4,
          4.5,
          3.1,
          2.5,
          2.9,
          3.7,
          4.9,
          2.8,
          4.6,
          3.8,
          4.6,
          3.2,
          4.6,
          4.4,
          3.1,
          2.8,
          4.7,
          4.9,
          2.6,
          4.3,
          4.8,
          4.6,
          4.9,
          4.4,
          3.6,
          3.3,
          3.3,
          4.3,
          4.4,
          3,
          4.7,
          4.3,
          3.9,
          3.7,
          3.9,
          2.9,
          3,
          2.7,
          2.9,
          3.6,
          3.8,
          2.5,
          4.5,
          3.2,
          4.8,
          4.9,
          3,
          3.7,
          2.5,
          4,
          4,
          3.1,
          3.9,
          3.1,
          2.9,
          4.1,
          3.3,
          4,
          3.6,
          5,
          2.9,
          3.7,
          4.2,
          3.5,
          4.9,
          4.3,
          4.1,
          4.4,
          4.9,
          4.8,
          4.3,
          4.4,
          2.9,
          2.8,
          3.9,
          2.5,
          3.7,
          3,
          3.4,
          4.4,
          4.9,
          2.7,
          3.8,
          4.7,
          2.7,
          4.6,
          3.4,
          3.3,
          4.9,
          3,
          4.2,
          4.6,
          2.6,
          4.2,
          4.9,
          2.8,
          4.7,
          4,
          4,
          4,
          3.2,
          4.8,
          4.9,
          4.1,
          4.5,
          4,
          3.7,
          4.2,
          3.9,
          4,
          4.5,
          3.7,
          2.6,
          2.9,
          3.6,
          4.3,
          4,
          4.1,
          3.7,
          4,
          3.3,
          3.7,
          4.4,
          4.7,
          3.6,
          2.6,
          2.9,
          2.6,
          4.1,
          3.3,
          3.9,
          3.7,
          2.7,
          3.5,
          3.1,
          3.5,
          3,
          4.6,
          2.9,
          4.9,
          3.5,
          4.6,
          4.1,
          4.3,
          4.4,
          3.8,
          3.9,
          3.8,
          4,
          2.6,
          3.5,
          4,
          4,
          4.5,
          4.1,
          5,
          3.2,
          3.4,
          3.5,
          3.7,
          4.6,
          3.1,
          4.4,
          3.5,
          4,
          4.1,
          3.4,
          3.8,
          3.5,
          2.7,
          3.6,
          2.7,
          3.5,
          4,
          3.9,
          4.2,
          2.7,
          4.1,
          3.3,
          3.5,
          4.6,
          2.5,
          4,
          4,
          3.5,
          3.1,
          3.1,
          4.7,
          3.6,
          3.3,
          3.6,
          4.2,
          2.9,
          3.6,
          4,
          4.9,
          3.1,
          3.4,
          3.4,
          4,
          3.4,
          3.8,
          4.5,
          4.3,
          3.6,
          4.7,
          3.9,
          3.8,
          2.6,
          5,
          2.8,
          3.1,
          2.6,
          4.1,
          3.1,
          3,
          2.7,
          2.8,
          4,
          4.2,
          3.5,
          3.7,
          4.2,
          2.5,
          3.3,
          4.9,
          4,
          3.1,
          3.8,
          3.4,
          3.8,
          2.8,
          2.8,
          2.9,
          4.8,
          4.3,
          2.9,
          3,
          4.3,
          2.9,
          3.1,
          4.9,
          3.1,
          4.2,
          4.9,
          3.4,
          2.5,
          3.1,
          4.6,
          4.7,
          4.4,
          2.8,
          4.5,
          4.8,
          4,
          4.9,
          4.6,
          4.2,
          3.9,
          3.4,
          2.9,
          4,
          3.3,
          4.7,
          5,
          4.4,
          2.7,
          3.2,
          2.8,
          4.1,
          4.4,
          4.8,
          3.6,
          4.8,
          4.7,
          3.3,
          4.7,
          3.4,
          3.2,
          4.1,
          3.3,
          4.1,
          4,
          3.9,
          3.5,
          3.9,
          4,
          3.9,
          3.6,
          2.5,
          4,
          2.9,
          4.1,
          4.4,
          3.8,
          3.9,
          4.9,
          4.6,
          4.8,
          4.5,
          2.8,
          2.9,
          3.8,
          3.1,
          3.7,
          3.5,
          3.9,
          4.4,
          4.3,
          3.8,
          4.6,
          3.6,
          4.7,
          2.7,
          4.9,
          4.1,
          3.5,
          3,
          3.7,
          3,
          2.9,
          4,
          3.8,
          4.2,
          4.8,
          3.8,
          4,
          2.7,
          4.3,
          3.5,
          4.9,
          4.6,
          3.8,
          2.8,
          4.6,
          4.5,
          3,
          3.2,
          4.5,
          3,
          4.8,
          3.6,
          2.7,
          4.5,
          3.4,
          3.8,
          2.8,
          2.5,
          4.1,
          3.8,
          4,
          4.5,
          4.1,
          2.9,
          3.4,
          4.8,
          4.4,
          3.9,
          3.1,
          3.3,
          4.3,
          4.6,
          4.2,
          4.5,
          4.4,
          2.9,
          3.6,
          2.9,
          3.1,
          4.7,
          3.7,
          3.8,
          2.9,
          3.3,
          3.1,
          3,
          4.1,
          3.1,
          4.1,
          2.6,
          2.9,
          3.2,
          4,
          4.2,
          3.6,
          3.6,
          4.3,
          2.5,
          3.4,
          4.5,
          4,
          3.3,
          4.8,
          4.4,
          3.2,
          4.1,
          4,
          3.5,
          3.4,
          3.4,
          4,
          3.6,
          4.6,
          4.2,
          2.7,
          4.1,
          3.2,
          4,
          4.2,
          3.1,
          3.6,
          3,
          2.6,
          3.4,
          3.4,
          5,
          3.6,
          3.3,
          4,
          2.7,
          4.9,
          4.1,
          4.4,
          2.9,
          3.5,
          3.6,
          4.6,
          2.5,
          3.3,
          5,
          3.7,
          3.5,
          2.8,
          4.9,
          2.6,
          4.3,
          4.4,
          3.1,
          4.2,
          2.7,
          3.1,
          4.5,
          4.7,
          4,
          3.8,
          2.9,
          2.7,
          2.8,
          3.1,
          3.4,
          3.5,
          3.4,
          3.1,
          3.8,
          4.6,
          3.2,
          4.9,
          4.7
         ],
         "yaxis": "y"
        }
       ],
       "layout": {
        "autosize": true,
        "coloraxis": {
         "colorbar": {
          "title": {
           "text": "cluster"
          }
         },
         "colorscale": [
          [
           0,
           "#0d0887"
          ],
          [
           0.1111111111111111,
           "#46039f"
          ],
          [
           0.2222222222222222,
           "#7201a8"
          ],
          [
           0.3333333333333333,
           "#9c179e"
          ],
          [
           0.4444444444444444,
           "#bd3786"
          ],
          [
           0.5555555555555556,
           "#d8576b"
          ],
          [
           0.6666666666666666,
           "#ed7953"
          ],
          [
           0.7777777777777778,
           "#fb9f3a"
          ],
          [
           0.8888888888888888,
           "#fdca26"
          ],
          [
           1,
           "#f0f921"
          ]
         ]
        },
        "legend": {
         "itemsizing": "constant",
         "tracegroupgap": 0
        },
        "template": {
         "data": {
          "bar": [
           {
            "error_x": {
             "color": "#2a3f5f"
            },
            "error_y": {
             "color": "#2a3f5f"
            },
            "marker": {
             "line": {
              "color": "#E5ECF6",
              "width": 0.5
             },
             "pattern": {
              "fillmode": "overlay",
              "size": 10,
              "solidity": 0.2
             }
            },
            "type": "bar"
           }
          ],
          "barpolar": [
           {
            "marker": {
             "line": {
              "color": "#E5ECF6",
              "width": 0.5
             },
             "pattern": {
              "fillmode": "overlay",
              "size": 10,
              "solidity": 0.2
             }
            },
            "type": "barpolar"
           }
          ],
          "carpet": [
           {
            "aaxis": {
             "endlinecolor": "#2a3f5f",
             "gridcolor": "white",
             "linecolor": "white",
             "minorgridcolor": "white",
             "startlinecolor": "#2a3f5f"
            },
            "baxis": {
             "endlinecolor": "#2a3f5f",
             "gridcolor": "white",
             "linecolor": "white",
             "minorgridcolor": "white",
             "startlinecolor": "#2a3f5f"
            },
            "type": "carpet"
           }
          ],
          "choropleth": [
           {
            "colorbar": {
             "outlinewidth": 0,
             "ticks": ""
            },
            "type": "choropleth"
           }
          ],
          "contour": [
           {
            "colorbar": {
             "outlinewidth": 0,
             "ticks": ""
            },
            "colorscale": [
             [
              0,
              "#0d0887"
             ],
             [
              0.1111111111111111,
              "#46039f"
             ],
             [
              0.2222222222222222,
              "#7201a8"
             ],
             [
              0.3333333333333333,
              "#9c179e"
             ],
             [
              0.4444444444444444,
              "#bd3786"
             ],
             [
              0.5555555555555556,
              "#d8576b"
             ],
             [
              0.6666666666666666,
              "#ed7953"
             ],
             [
              0.7777777777777778,
              "#fb9f3a"
             ],
             [
              0.8888888888888888,
              "#fdca26"
             ],
             [
              1,
              "#f0f921"
             ]
            ],
            "type": "contour"
           }
          ],
          "contourcarpet": [
           {
            "colorbar": {
             "outlinewidth": 0,
             "ticks": ""
            },
            "type": "contourcarpet"
           }
          ],
          "heatmap": [
           {
            "colorbar": {
             "outlinewidth": 0,
             "ticks": ""
            },
            "colorscale": [
             [
              0,
              "#0d0887"
             ],
             [
              0.1111111111111111,
              "#46039f"
             ],
             [
              0.2222222222222222,
              "#7201a8"
             ],
             [
              0.3333333333333333,
              "#9c179e"
             ],
             [
              0.4444444444444444,
              "#bd3786"
             ],
             [
              0.5555555555555556,
              "#d8576b"
             ],
             [
              0.6666666666666666,
              "#ed7953"
             ],
             [
              0.7777777777777778,
              "#fb9f3a"
             ],
             [
              0.8888888888888888,
              "#fdca26"
             ],
             [
              1,
              "#f0f921"
             ]
            ],
            "type": "heatmap"
           }
          ],
          "heatmapgl": [
           {
            "colorbar": {
             "outlinewidth": 0,
             "ticks": ""
            },
            "colorscale": [
             [
              0,
              "#0d0887"
             ],
             [
              0.1111111111111111,
              "#46039f"
             ],
             [
              0.2222222222222222,
              "#7201a8"
             ],
             [
              0.3333333333333333,
              "#9c179e"
             ],
             [
              0.4444444444444444,
              "#bd3786"
             ],
             [
              0.5555555555555556,
              "#d8576b"
             ],
             [
              0.6666666666666666,
              "#ed7953"
             ],
             [
              0.7777777777777778,
              "#fb9f3a"
             ],
             [
              0.8888888888888888,
              "#fdca26"
             ],
             [
              1,
              "#f0f921"
             ]
            ],
            "type": "heatmapgl"
           }
          ],
          "histogram": [
           {
            "marker": {
             "pattern": {
              "fillmode": "overlay",
              "size": 10,
              "solidity": 0.2
             }
            },
            "type": "histogram"
           }
          ],
          "histogram2d": [
           {
            "colorbar": {
             "outlinewidth": 0,
             "ticks": ""
            },
            "colorscale": [
             [
              0,
              "#0d0887"
             ],
             [
              0.1111111111111111,
              "#46039f"
             ],
             [
              0.2222222222222222,
              "#7201a8"
             ],
             [
              0.3333333333333333,
              "#9c179e"
             ],
             [
              0.4444444444444444,
              "#bd3786"
             ],
             [
              0.5555555555555556,
              "#d8576b"
             ],
             [
              0.6666666666666666,
              "#ed7953"
             ],
             [
              0.7777777777777778,
              "#fb9f3a"
             ],
             [
              0.8888888888888888,
              "#fdca26"
             ],
             [
              1,
              "#f0f921"
             ]
            ],
            "type": "histogram2d"
           }
          ],
          "histogram2dcontour": [
           {
            "colorbar": {
             "outlinewidth": 0,
             "ticks": ""
            },
            "colorscale": [
             [
              0,
              "#0d0887"
             ],
             [
              0.1111111111111111,
              "#46039f"
             ],
             [
              0.2222222222222222,
              "#7201a8"
             ],
             [
              0.3333333333333333,
              "#9c179e"
             ],
             [
              0.4444444444444444,
              "#bd3786"
             ],
             [
              0.5555555555555556,
              "#d8576b"
             ],
             [
              0.6666666666666666,
              "#ed7953"
             ],
             [
              0.7777777777777778,
              "#fb9f3a"
             ],
             [
              0.8888888888888888,
              "#fdca26"
             ],
             [
              1,
              "#f0f921"
             ]
            ],
            "type": "histogram2dcontour"
           }
          ],
          "mesh3d": [
           {
            "colorbar": {
             "outlinewidth": 0,
             "ticks": ""
            },
            "type": "mesh3d"
           }
          ],
          "parcoords": [
           {
            "line": {
             "colorbar": {
              "outlinewidth": 0,
              "ticks": ""
             }
            },
            "type": "parcoords"
           }
          ],
          "pie": [
           {
            "automargin": true,
            "type": "pie"
           }
          ],
          "scatter": [
           {
            "fillpattern": {
             "fillmode": "overlay",
             "size": 10,
             "solidity": 0.2
            },
            "type": "scatter"
           }
          ],
          "scatter3d": [
           {
            "line": {
             "colorbar": {
              "outlinewidth": 0,
              "ticks": ""
             }
            },
            "marker": {
             "colorbar": {
              "outlinewidth": 0,
              "ticks": ""
             }
            },
            "type": "scatter3d"
           }
          ],
          "scattercarpet": [
           {
            "marker": {
             "colorbar": {
              "outlinewidth": 0,
              "ticks": ""
             }
            },
            "type": "scattercarpet"
           }
          ],
          "scattergeo": [
           {
            "marker": {
             "colorbar": {
              "outlinewidth": 0,
              "ticks": ""
             }
            },
            "type": "scattergeo"
           }
          ],
          "scattergl": [
           {
            "marker": {
             "colorbar": {
              "outlinewidth": 0,
              "ticks": ""
             }
            },
            "type": "scattergl"
           }
          ],
          "scattermapbox": [
           {
            "marker": {
             "colorbar": {
              "outlinewidth": 0,
              "ticks": ""
             }
            },
            "type": "scattermapbox"
           }
          ],
          "scatterpolar": [
           {
            "marker": {
             "colorbar": {
              "outlinewidth": 0,
              "ticks": ""
             }
            },
            "type": "scatterpolar"
           }
          ],
          "scatterpolargl": [
           {
            "marker": {
             "colorbar": {
              "outlinewidth": 0,
              "ticks": ""
             }
            },
            "type": "scatterpolargl"
           }
          ],
          "scatterternary": [
           {
            "marker": {
             "colorbar": {
              "outlinewidth": 0,
              "ticks": ""
             }
            },
            "type": "scatterternary"
           }
          ],
          "surface": [
           {
            "colorbar": {
             "outlinewidth": 0,
             "ticks": ""
            },
            "colorscale": [
             [
              0,
              "#0d0887"
             ],
             [
              0.1111111111111111,
              "#46039f"
             ],
             [
              0.2222222222222222,
              "#7201a8"
             ],
             [
              0.3333333333333333,
              "#9c179e"
             ],
             [
              0.4444444444444444,
              "#bd3786"
             ],
             [
              0.5555555555555556,
              "#d8576b"
             ],
             [
              0.6666666666666666,
              "#ed7953"
             ],
             [
              0.7777777777777778,
              "#fb9f3a"
             ],
             [
              0.8888888888888888,
              "#fdca26"
             ],
             [
              1,
              "#f0f921"
             ]
            ],
            "type": "surface"
           }
          ],
          "table": [
           {
            "cells": {
             "fill": {
              "color": "#EBF0F8"
             },
             "line": {
              "color": "white"
             }
            },
            "header": {
             "fill": {
              "color": "#C8D4E3"
             },
             "line": {
              "color": "white"
             }
            },
            "type": "table"
           }
          ]
         },
         "layout": {
          "annotationdefaults": {
           "arrowcolor": "#2a3f5f",
           "arrowhead": 0,
           "arrowwidth": 1
          },
          "autotypenumbers": "strict",
          "coloraxis": {
           "colorbar": {
            "outlinewidth": 0,
            "ticks": ""
           }
          },
          "colorscale": {
           "diverging": [
            [
             0,
             "#8e0152"
            ],
            [
             0.1,
             "#c51b7d"
            ],
            [
             0.2,
             "#de77ae"
            ],
            [
             0.3,
             "#f1b6da"
            ],
            [
             0.4,
             "#fde0ef"
            ],
            [
             0.5,
             "#f7f7f7"
            ],
            [
             0.6,
             "#e6f5d0"
            ],
            [
             0.7,
             "#b8e186"
            ],
            [
             0.8,
             "#7fbc41"
            ],
            [
             0.9,
             "#4d9221"
            ],
            [
             1,
             "#276419"
            ]
           ],
           "sequential": [
            [
             0,
             "#0d0887"
            ],
            [
             0.1111111111111111,
             "#46039f"
            ],
            [
             0.2222222222222222,
             "#7201a8"
            ],
            [
             0.3333333333333333,
             "#9c179e"
            ],
            [
             0.4444444444444444,
             "#bd3786"
            ],
            [
             0.5555555555555556,
             "#d8576b"
            ],
            [
             0.6666666666666666,
             "#ed7953"
            ],
            [
             0.7777777777777778,
             "#fb9f3a"
            ],
            [
             0.8888888888888888,
             "#fdca26"
            ],
            [
             1,
             "#f0f921"
            ]
           ],
           "sequentialminus": [
            [
             0,
             "#0d0887"
            ],
            [
             0.1111111111111111,
             "#46039f"
            ],
            [
             0.2222222222222222,
             "#7201a8"
            ],
            [
             0.3333333333333333,
             "#9c179e"
            ],
            [
             0.4444444444444444,
             "#bd3786"
            ],
            [
             0.5555555555555556,
             "#d8576b"
            ],
            [
             0.6666666666666666,
             "#ed7953"
            ],
            [
             0.7777777777777778,
             "#fb9f3a"
            ],
            [
             0.8888888888888888,
             "#fdca26"
            ],
            [
             1,
             "#f0f921"
            ]
           ]
          },
          "colorway": [
           "#636efa",
           "#EF553B",
           "#00cc96",
           "#ab63fa",
           "#FFA15A",
           "#19d3f3",
           "#FF6692",
           "#B6E880",
           "#FF97FF",
           "#FECB52"
          ],
          "font": {
           "color": "#2a3f5f"
          },
          "geo": {
           "bgcolor": "white",
           "lakecolor": "white",
           "landcolor": "#E5ECF6",
           "showlakes": true,
           "showland": true,
           "subunitcolor": "white"
          },
          "hoverlabel": {
           "align": "left"
          },
          "hovermode": "closest",
          "mapbox": {
           "style": "light"
          },
          "paper_bgcolor": "white",
          "plot_bgcolor": "#E5ECF6",
          "polar": {
           "angularaxis": {
            "gridcolor": "white",
            "linecolor": "white",
            "ticks": ""
           },
           "bgcolor": "#E5ECF6",
           "radialaxis": {
            "gridcolor": "white",
            "linecolor": "white",
            "ticks": ""
           }
          },
          "scene": {
           "xaxis": {
            "backgroundcolor": "#E5ECF6",
            "gridcolor": "white",
            "gridwidth": 2,
            "linecolor": "white",
            "showbackground": true,
            "ticks": "",
            "zerolinecolor": "white"
           },
           "yaxis": {
            "backgroundcolor": "#E5ECF6",
            "gridcolor": "white",
            "gridwidth": 2,
            "linecolor": "white",
            "showbackground": true,
            "ticks": "",
            "zerolinecolor": "white"
           },
           "zaxis": {
            "backgroundcolor": "#E5ECF6",
            "gridcolor": "white",
            "gridwidth": 2,
            "linecolor": "white",
            "showbackground": true,
            "ticks": "",
            "zerolinecolor": "white"
           }
          },
          "shapedefaults": {
           "line": {
            "color": "#2a3f5f"
           }
          },
          "ternary": {
           "aaxis": {
            "gridcolor": "white",
            "linecolor": "white",
            "ticks": ""
           },
           "baxis": {
            "gridcolor": "white",
            "linecolor": "white",
            "ticks": ""
           },
           "bgcolor": "#E5ECF6",
           "caxis": {
            "gridcolor": "white",
            "linecolor": "white",
            "ticks": ""
           }
          },
          "title": {
           "x": 0.05
          },
          "xaxis": {
           "automargin": true,
           "gridcolor": "white",
           "linecolor": "white",
           "ticks": "",
           "title": {
            "standoff": 15
           },
           "zerolinecolor": "white",
           "zerolinewidth": 2
          },
          "yaxis": {
           "automargin": true,
           "gridcolor": "white",
           "linecolor": "white",
           "ticks": "",
           "title": {
            "standoff": 15
           },
           "zerolinecolor": "white",
           "zerolinewidth": 2
          }
         }
        },
        "title": {
         "text": " Product Segments Based on Ratings & Price"
        },
        "xaxis": {
         "anchor": "y",
         "autorange": true,
         "domain": [
          0,
          1
         ],
         "range": [
          -6362.474411623938,
          100313.3982709065
         ],
         "title": {
          "text": "discounted_price"
         },
         "type": "linear"
        },
        "yaxis": {
         "anchor": "x",
         "autorange": true,
         "domain": [
          0,
          1
         ],
         "range": [
          2.0283893379223032,
          5.466430027746262
         ],
         "title": {
          "text": "ratings"
         },
         "type": "linear"
        }
       }
      },
      "image/png": "[encoded data removed]",
      "text/html": [
       "<div>                            <div id=\"31145fff-fde9-4ca5-83f8-fe8d08c977c2\" class=\"plotly-graph-div\" style=\"height:525px; width:100%;\"></div>            <script type=\"text/javascript\">                require([\"plotly\"], function(Plotly) {                    window.PLOTLYENV=window.PLOTLYENV || {};                                    if (document.getElementById(\"31145fff-fde9-4ca5-83f8-fe8d08c977c2\")) {                    Plotly.newPlot(                        \"31145fff-fde9-4ca5-83f8-fe8d08c977c2\",                        [{\"customdata\":[[\"Management Plus\",\"BrandB\",\"Laptop\"],[\"Health Basic\",\"BrandZ\",\"TV\"],[\"Put Basic\",\"BrandB\",\"Phone\"],[\"Too Lite\",\"BrandA\",\"Laptop\"],[\"Short Lite\",\"BrandA\",\"Laptop\"],[\"Law Max\",\"BrandY\",\"TV\"],[\"Mind Max\",\"BrandB\",\"Laptop\"],[\"Sing Plus\",\"BrandC\",\"TV\"],[\"Scientist Lite\",\"BrandB\",\"Home Appliance\"],[\"Agent Pro\",\"BrandC\",\"TV\"],[\"True Basic\",\"BrandB\",\"Phone\"],[\"Relationship Pro\",\"BrandC\",\"Grocery\"],[\"Prove Pro\",\"BrandX\",\"Grocery\"],[\"Happy Basic\",\"BrandY\",\"Phone\"],[\"Season Plus\",\"BrandC\",\"Beauty\"],[\"Entire Plus\",\"BrandA\",\"TV\"],[\"Cost Basic\",\"BrandY\",\"Phone\"],[\"Soon Plus\",\"BrandC\",\"Phone\"],[\"Cultural Pro\",\"BrandY\",\"Phone\"],[\"Rock Pro\",\"BrandX\",\"Beauty\"],[\"Entire Max\",\"BrandA\",\"Beauty\"],[\"Into Max\",\"BrandB\",\"Home Appliance\"],[\"Expert Lite\",\"BrandZ\",\"Phone\"],[\"Family Basic\",\"BrandC\",\"Phone\"],[\"See Lite\",\"BrandB\",\"Laptop\"],[\"Mrs Max\",\"BrandY\",\"TV\"],[\"Too Max\",\"BrandC\",\"TV\"],[\"Nature Pro\",\"BrandY\",\"Laptop\"],[\"Voice Max\",\"BrandB\",\"TV\"],[\"Among Pro\",\"BrandY\",\"Grocery\"],[\"Weight Pro\",\"BrandY\",\"Grocery\"],[\"Site Basic\",\"BrandX\",\"Beauty\"],[\"Star Max\",\"BrandZ\",\"TV\"],[\"Store Basic\",\"BrandC\",\"Home Appliance\"],[\"Over Basic\",\"BrandX\",\"Laptop\"],[\"Information Lite\",\"BrandA\",\"Home Appliance\"],[\"Product Lite\",\"BrandY\",\"Grocery\"],[\"Teacher Max\",\"BrandC\",\"Phone\"],[\"Job Lite\",\"BrandX\",\"Grocery\"],[\"Beautiful Basic\",\"BrandY\",\"Beauty\"],[\"See Max\",\"BrandB\",\"Laptop\"],[\"Wall Lite\",\"BrandX\",\"Laptop\"],[\"Hour Max\",\"BrandX\",\"Phone\"],[\"Benefit Lite\",\"BrandB\",\"TV\"],[\"Be Pro\",\"BrandZ\",\"Phone\"],[\"Certain Lite\",\"BrandY\",\"Grocery\"],[\"Speech Max\",\"BrandB\",\"Home Appliance\"],[\"Movie Pro\",\"BrandC\",\"Beauty\"],[\"Official Plus\",\"BrandX\",\"Home Appliance\"],[\"Mouth Pro\",\"BrandZ\",\"TV\"],[\"Population Pro\",\"BrandA\",\"Grocery\"],[\"Player Pro\",\"BrandY\",\"Home Appliance\"],[\"Month Plus\",\"BrandA\",\"Grocery\"],[\"Bag Lite\",\"BrandY\",\"TV\"],[\"Feel Basic\",\"BrandX\",\"Grocery\"],[\"Stuff Pro\",\"BrandA\",\"TV\"],[\"Especially Lite\",\"BrandB\",\"TV\"],[\"Fact Pro\",\"BrandB\",\"Phone\"],[\"Attorney Basic\",\"BrandX\",\"Grocery\"],[\"Popular Lite\",\"BrandY\",\"Home Appliance\"],[\"Itself Pro\",\"BrandZ\",\"Grocery\"],[\"Recent Max\",\"BrandB\",\"Phone\"],[\"Somebody Max\",\"BrandB\",\"TV\"],[\"Talk Pro\",\"BrandY\",\"Home Appliance\"],[\"His Max\",\"BrandA\",\"Grocery\"],[\"Lead Lite\",\"BrandY\",\"Grocery\"],[\"Poor Max\",\"BrandZ\",\"Phone\"],[\"Stand Plus\",\"BrandZ\",\"Beauty\"],[\"Lot Lite\",\"BrandB\",\"Phone\"],[\"Bill Plus\",\"BrandX\",\"Beauty\"],[\"Suggest Lite\",\"BrandB\",\"Laptop\"],[\"Coach Lite\",\"BrandY\",\"Laptop\"],[\"Action Pro\",\"BrandA\",\"Grocery\"],[\"Option Lite\",\"BrandZ\",\"Grocery\"],[\"Condition Lite\",\"BrandC\",\"Phone\"],[\"Nearly Plus\",\"BrandZ\",\"Phone\"],[\"Not Pro\",\"BrandB\",\"Laptop\"],[\"Population Pro\",\"BrandB\",\"TV\"],[\"Even Lite\",\"BrandA\",\"Phone\"],[\"Painting Plus\",\"BrandX\",\"TV\"],[\"Difference Max\",\"BrandZ\",\"Laptop\"],[\"Possible Lite\",\"BrandC\",\"TV\"],[\"Goal Max\",\"BrandX\",\"Beauty\"],[\"Above Basic\",\"BrandC\",\"Phone\"],[\"Add Basic\",\"BrandC\",\"Grocery\"],[\"Contain Lite\",\"BrandB\",\"Home Appliance\"],[\"Other Plus\",\"BrandX\",\"Phone\"],[\"Forward Lite\",\"BrandY\",\"Laptop\"],[\"Listen Max\",\"BrandX\",\"Grocery\"],[\"Debate Basic\",\"BrandC\",\"Laptop\"],[\"Structure Plus\",\"BrandB\",\"Laptop\"],[\"Single Basic\",\"BrandZ\",\"Beauty\"],[\"Feel Plus\",\"BrandY\",\"Grocery\"],[\"Possible Basic\",\"BrandC\",\"Phone\"],[\"Alone Lite\",\"BrandB\",\"TV\"],[\"Model Lite\",\"BrandZ\",\"Phone\"],[\"Game Basic\",\"BrandA\",\"Home Appliance\"],[\"Race Pro\",\"BrandY\",\"Laptop\"],[\"Born Basic\",\"BrandA\",\"Grocery\"],[\"Those Plus\",\"BrandA\",\"Laptop\"],[\"Area Max\",\"BrandY\",\"Laptop\"],[\"Detail Basic\",\"BrandB\",\"Phone\"],[\"Ten Pro\",\"BrandB\",\"TV\"],[\"You Lite\",\"BrandX\",\"Phone\"],[\"Go Basic\",\"BrandC\",\"Beauty\"],[\"Allow Pro\",\"BrandZ\",\"Grocery\"],[\"Of Pro\",\"BrandX\",\"Laptop\"],[\"Physical Pro\",\"BrandA\",\"Grocery\"],[\"Improve Lite\",\"BrandX\",\"Grocery\"],[\"Safe Plus\",\"BrandC\",\"Home Appliance\"],[\"Region Basic\",\"BrandY\",\"Home Appliance\"],[\"Simply Lite\",\"BrandY\",\"Home Appliance\"],[\"Field Basic\",\"BrandY\",\"Grocery\"],[\"Campaign Pro\",\"BrandC\",\"Home Appliance\"],[\"Travel Lite\",\"BrandA\",\"Home Appliance\"],[\"Control Lite\",\"BrandB\",\"Beauty\"],[\"Rise Max\",\"BrandC\",\"Beauty\"],[\"Half Basic\",\"BrandY\",\"Beauty\"],[\"Quality Pro\",\"BrandB\",\"Grocery\"],[\"Entire Pro\",\"BrandC\",\"Grocery\"],[\"Game Plus\",\"BrandZ\",\"Beauty\"],[\"Adult Plus\",\"BrandC\",\"TV\"],[\"Full Pro\",\"BrandC\",\"Phone\"],[\"In Plus\",\"BrandB\",\"Grocery\"],[\"Rise Max\",\"BrandA\",\"Beauty\"],[\"Tell Pro\",\"BrandY\",\"Beauty\"],[\"Executive Max\",\"BrandY\",\"Home Appliance\"],[\"Phone Pro\",\"BrandX\",\"Laptop\"],[\"Approach Plus\",\"BrandX\",\"TV\"],[\"Concern Basic\",\"BrandY\",\"Beauty\"],[\"Item Basic\",\"BrandX\",\"Home Appliance\"],[\"Computer Pro\",\"BrandA\",\"Phone\"],[\"Represent Plus\",\"BrandB\",\"TV\"],[\"Anyone Pro\",\"BrandZ\",\"Beauty\"],[\"Can Max\",\"BrandA\",\"Laptop\"],[\"Resource Pro\",\"BrandY\",\"TV\"],[\"Morning Basic\",\"BrandC\",\"Grocery\"],[\"Standard Plus\",\"BrandB\",\"TV\"],[\"Economy Basic\",\"BrandB\",\"Home Appliance\"],[\"Gas Plus\",\"BrandA\",\"Grocery\"],[\"Evidence Plus\",\"BrandC\",\"TV\"],[\"Tough Plus\",\"BrandZ\",\"Phone\"],[\"System Pro\",\"BrandC\",\"Beauty\"],[\"Edge Plus\",\"BrandA\",\"Beauty\"],[\"List Pro\",\"BrandY\",\"Laptop\"],[\"Well Lite\",\"BrandY\",\"Home Appliance\"],[\"Program Pro\",\"BrandX\",\"Beauty\"],[\"Feel Plus\",\"BrandB\",\"Home Appliance\"],[\"Your Plus\",\"BrandC\",\"Home Appliance\"],[\"Anything Pro\",\"BrandZ\",\"Grocery\"],[\"Affect Basic\",\"BrandX\",\"TV\"],[\"Either Basic\",\"BrandX\",\"Home Appliance\"],[\"Care Lite\",\"BrandC\",\"Phone\"],[\"Sign Pro\",\"BrandZ\",\"Phone\"],[\"Model Pro\",\"BrandB\",\"TV\"],[\"Increase Basic\",\"BrandC\",\"Home Appliance\"],[\"Pattern Basic\",\"BrandA\",\"Beauty\"],[\"Marriage Lite\",\"BrandB\",\"Grocery\"],[\"Teach Pro\",\"BrandB\",\"Grocery\"],[\"Have Max\",\"BrandC\",\"Grocery\"],[\"Himself Pro\",\"BrandB\",\"Phone\"],[\"Although Pro\",\"BrandC\",\"Laptop\"],[\"Central Pro\",\"BrandA\",\"Grocery\"],[\"Call Lite\",\"BrandX\",\"Beauty\"],[\"Car Max\",\"BrandB\",\"Phone\"],[\"West Lite\",\"BrandA\",\"Phone\"],[\"Pull Lite\",\"BrandZ\",\"Phone\"],[\"Week Basic\",\"BrandA\",\"Grocery\"],[\"Painting Max\",\"BrandX\",\"Home Appliance\"],[\"Enter Plus\",\"BrandA\",\"TV\"],[\"Way Basic\",\"BrandC\",\"TV\"],[\"Television Lite\",\"BrandB\",\"Grocery\"],[\"Its Max\",\"BrandB\",\"Beauty\"],[\"Set Max\",\"BrandX\",\"Grocery\"],[\"Mind Basic\",\"BrandX\",\"Phone\"],[\"Stand Lite\",\"BrandY\",\"Home Appliance\"],[\"About Max\",\"BrandX\",\"Grocery\"],[\"Nation Pro\",\"BrandA\",\"Home Appliance\"],[\"Enjoy Lite\",\"BrandZ\",\"Home Appliance\"],[\"Lot Basic\",\"BrandA\",\"Phone\"],[\"Begin Basic\",\"BrandY\",\"Home Appliance\"],[\"Someone Plus\",\"BrandA\",\"Grocery\"],[\"Hotel Plus\",\"BrandZ\",\"Beauty\"],[\"Shoulder Max\",\"BrandB\",\"Home Appliance\"],[\"Career Lite\",\"BrandX\",\"TV\"],[\"Never Basic\",\"BrandB\",\"Laptop\"],[\"Production Lite\",\"BrandC\",\"Beauty\"],[\"Tough Lite\",\"BrandB\",\"Beauty\"],[\"Sell Basic\",\"BrandY\",\"Home Appliance\"],[\"People Basic\",\"BrandX\",\"Home Appliance\"],[\"Ever Pro\",\"BrandA\",\"Laptop\"],[\"Price Basic\",\"BrandB\",\"Home Appliance\"],[\"Since Max\",\"BrandC\",\"Home Appliance\"],[\"Claim Pro\",\"BrandY\",\"Phone\"],[\"Pay Max\",\"BrandX\",\"TV\"],[\"Go Max\",\"BrandY\",\"TV\"],[\"Bed Lite\",\"BrandX\",\"Beauty\"],[\"Former Basic\",\"BrandB\",\"Home Appliance\"],[\"With Lite\",\"BrandX\",\"Beauty\"],[\"Real Lite\",\"BrandZ\",\"Grocery\"],[\"Money Pro\",\"BrandY\",\"TV\"],[\"Dog Lite\",\"BrandX\",\"Home Appliance\"],[\"Information Lite\",\"BrandZ\",\"Laptop\"],[\"House Plus\",\"BrandA\",\"Home Appliance\"],[\"College Plus\",\"BrandX\",\"Home Appliance\"],[\"Measure Basic\",\"BrandC\",\"Laptop\"],[\"Court Plus\",\"BrandX\",\"Home Appliance\"],[\"Us Pro\",\"BrandY\",\"Phone\"],[\"Wife Lite\",\"BrandZ\",\"Home Appliance\"],[\"Follow Basic\",\"BrandY\",\"TV\"],[\"Around Basic\",\"BrandC\",\"Laptop\"],[\"Often Plus\",\"BrandB\",\"TV\"],[\"Recent Lite\",\"BrandX\",\"Phone\"],[\"Various Basic\",\"BrandA\",\"TV\"],[\"Value Max\",\"BrandC\",\"TV\"],[\"We Pro\",\"BrandC\",\"Home Appliance\"],[\"Main Lite\",\"BrandB\",\"TV\"],[\"Analysis Max\",\"BrandX\",\"Phone\"],[\"Ahead Basic\",\"BrandX\",\"TV\"],[\"Commercial Max\",\"BrandX\",\"Home Appliance\"],[\"Letter Basic\",\"BrandZ\",\"Beauty\"],[\"Require Plus\",\"BrandX\",\"TV\"],[\"Wrong Plus\",\"BrandY\",\"TV\"],[\"Push Lite\",\"BrandZ\",\"TV\"],[\"In Basic\",\"BrandB\",\"Laptop\"],[\"Interesting Plus\",\"BrandZ\",\"Laptop\"],[\"Heavy Plus\",\"BrandB\",\"Laptop\"],[\"All Pro\",\"BrandY\",\"Phone\"],[\"Usually Plus\",\"BrandY\",\"Home Appliance\"],[\"Side Plus\",\"BrandB\",\"Home Appliance\"],[\"Evening Pro\",\"BrandZ\",\"Beauty\"],[\"Avoid Basic\",\"BrandA\",\"Grocery\"],[\"At Plus\",\"BrandX\",\"Grocery\"],[\"Receive Basic\",\"BrandB\",\"TV\"],[\"Whole Basic\",\"BrandX\",\"Home Appliance\"],[\"Point Plus\",\"BrandA\",\"TV\"],[\"Glass Plus\",\"BrandA\",\"Home Appliance\"],[\"Prove Basic\",\"BrandC\",\"Home Appliance\"],[\"Day Pro\",\"BrandY\",\"Grocery\"],[\"Success Lite\",\"BrandX\",\"TV\"],[\"Believe Basic\",\"BrandA\",\"Laptop\"],[\"Republican Pro\",\"BrandZ\",\"Phone\"],[\"Far Basic\",\"BrandC\",\"Beauty\"],[\"Meeting Max\",\"BrandA\",\"Home Appliance\"],[\"Fact Max\",\"BrandY\",\"Grocery\"],[\"Responsibility Plus\",\"BrandY\",\"TV\"],[\"Where Pro\",\"BrandB\",\"Beauty\"],[\"Prepare Pro\",\"BrandZ\",\"Phone\"],[\"Detail Max\",\"BrandY\",\"TV\"],[\"Peace Plus\",\"BrandY\",\"Phone\"],[\"Live Plus\",\"BrandY\",\"Beauty\"],[\"Without Plus\",\"BrandA\",\"Laptop\"],[\"Purpose Max\",\"BrandA\",\"Grocery\"],[\"Pull Basic\",\"BrandC\",\"Home Appliance\"],[\"Future Lite\",\"BrandC\",\"Grocery\"],[\"Specific Plus\",\"BrandB\",\"Grocery\"],[\"Ability Pro\",\"BrandY\",\"Home Appliance\"],[\"Notice Basic\",\"BrandY\",\"Beauty\"],[\"Pm Pro\",\"BrandY\",\"TV\"],[\"You Pro\",\"BrandY\",\"Home Appliance\"],[\"Pull Plus\",\"BrandX\",\"Laptop\"],[\"At Pro\",\"BrandC\",\"Beauty\"],[\"Wind Max\",\"BrandC\",\"Grocery\"],[\"Part Lite\",\"BrandZ\",\"Beauty\"],[\"Attorney Max\",\"BrandC\",\"TV\"],[\"Statement Basic\",\"BrandZ\",\"Home Appliance\"],[\"Issue Max\",\"BrandX\",\"Grocery\"],[\"Food Pro\",\"BrandZ\",\"TV\"],[\"Card Max\",\"BrandC\",\"Home Appliance\"],[\"Cultural Basic\",\"BrandA\",\"Home Appliance\"],[\"Authority Lite\",\"BrandC\",\"Home Appliance\"],[\"Market Basic\",\"BrandY\",\"Phone\"],[\"Executive Basic\",\"BrandZ\",\"Grocery\"],[\"Almost Max\",\"BrandB\",\"TV\"],[\"Service Lite\",\"BrandY\",\"Home Appliance\"],[\"Cut Pro\",\"BrandY\",\"Home Appliance\"],[\"Seem Lite\",\"BrandC\",\"Phone\"],[\"Likely Lite\",\"BrandZ\",\"Home Appliance\"],[\"Wall Pro\",\"BrandA\",\"Beauty\"],[\"Writer Lite\",\"BrandY\",\"Beauty\"],[\"Career Max\",\"BrandA\",\"Home Appliance\"],[\"Grow Max\",\"BrandA\",\"Phone\"],[\"Blood Max\",\"BrandA\",\"Home Appliance\"],[\"Surface Plus\",\"BrandZ\",\"Grocery\"],[\"Nothing Pro\",\"BrandA\",\"Phone\"],[\"Reveal Max\",\"BrandA\",\"Phone\"],[\"Take Pro\",\"BrandY\",\"Beauty\"],[\"Care Basic\",\"BrandA\",\"Grocery\"],[\"Whatever Max\",\"BrandY\",\"Grocery\"],[\"Try Plus\",\"BrandX\",\"Phone\"],[\"Red Max\",\"BrandZ\",\"TV\"],[\"Why Max\",\"BrandC\",\"Phone\"],[\"Possible Plus\",\"BrandX\",\"Laptop\"],[\"Baby Basic\",\"BrandY\",\"Beauty\"],[\"Kid Pro\",\"BrandZ\",\"Laptop\"],[\"Identify Basic\",\"BrandC\",\"TV\"],[\"Whether Basic\",\"BrandY\",\"TV\"],[\"Material Pro\",\"BrandZ\",\"Home Appliance\"],[\"He Max\",\"BrandZ\",\"Grocery\"],[\"Including Plus\",\"BrandY\",\"Beauty\"],[\"Price Plus\",\"BrandX\",\"Grocery\"],[\"Cost Max\",\"BrandX\",\"Grocery\"],[\"Building Plus\",\"BrandA\",\"Laptop\"],[\"Fly Max\",\"BrandZ\",\"TV\"],[\"Fear Pro\",\"BrandC\",\"Grocery\"],[\"Weight Lite\",\"BrandA\",\"Beauty\"],[\"Good Max\",\"BrandC\",\"Phone\"],[\"Thank Basic\",\"BrandC\",\"TV\"],[\"Manager Lite\",\"BrandC\",\"Phone\"],[\"You Lite\",\"BrandY\",\"Beauty\"],[\"Child Lite\",\"BrandA\",\"Laptop\"],[\"Serious Lite\",\"BrandX\",\"Home Appliance\"],[\"Animal Plus\",\"BrandX\",\"Home Appliance\"],[\"Congress Pro\",\"BrandB\",\"Grocery\"],[\"Life Pro\",\"BrandY\",\"TV\"],[\"Alone Lite\",\"BrandA\",\"Home Appliance\"],[\"Situation Plus\",\"BrandZ\",\"Home Appliance\"],[\"Reality Pro\",\"BrandZ\",\"Laptop\"],[\"Too Plus\",\"BrandX\",\"Phone\"],[\"Them Pro\",\"BrandB\",\"TV\"],[\"Finally Plus\",\"BrandZ\",\"Beauty\"],[\"Far Lite\",\"BrandC\",\"Grocery\"],[\"Discover Lite\",\"BrandY\",\"Beauty\"],[\"Could Basic\",\"BrandY\",\"Home Appliance\"],[\"Beat Lite\",\"BrandY\",\"Phone\"],[\"Tonight Plus\",\"BrandA\",\"TV\"],[\"Trial Plus\",\"BrandA\",\"Phone\"],[\"Wife Basic\",\"BrandA\",\"Home Appliance\"],[\"Son Pro\",\"BrandC\",\"Grocery\"],[\"Meet Pro\",\"BrandB\",\"Grocery\"],[\"Key Lite\",\"BrandY\",\"Home Appliance\"],[\"Assume Pro\",\"BrandZ\",\"TV\"],[\"Law Lite\",\"BrandA\",\"TV\"],[\"Anyone Pro\",\"BrandB\",\"Laptop\"],[\"Read Pro\",\"BrandA\",\"Home Appliance\"],[\"Daughter Pro\",\"BrandA\",\"Home Appliance\"],[\"Not Basic\",\"BrandA\",\"Phone\"],[\"Without Pro\",\"BrandA\",\"Grocery\"],[\"Building Plus\",\"BrandA\",\"Home Appliance\"],[\"Enter Lite\",\"BrandA\",\"Grocery\"],[\"State Plus\",\"BrandY\",\"Home Appliance\"],[\"Spend Basic\",\"BrandC\",\"Grocery\"],[\"Stage Max\",\"BrandX\",\"Phone\"],[\"Across Pro\",\"BrandB\",\"Laptop\"],[\"Trade Lite\",\"BrandX\",\"TV\"],[\"Writer Basic\",\"BrandB\",\"TV\"],[\"Computer Max\",\"BrandZ\",\"Laptop\"],[\"Trial Basic\",\"BrandA\",\"Grocery\"],[\"Site Lite\",\"BrandY\",\"Phone\"],[\"Party Lite\",\"BrandB\",\"Beauty\"],[\"Life Pro\",\"BrandX\",\"Home Appliance\"],[\"Here Max\",\"BrandZ\",\"Laptop\"],[\"Relate Basic\",\"BrandY\",\"TV\"],[\"Bill Basic\",\"BrandY\",\"TV\"],[\"May Plus\",\"BrandA\",\"Grocery\"],[\"Staff Basic\",\"BrandX\",\"Beauty\"],[\"Career Max\",\"BrandA\",\"Grocery\"],[\"Office Basic\",\"BrandC\",\"Home Appliance\"],[\"Enter Lite\",\"BrandZ\",\"Beauty\"],[\"Develop Pro\",\"BrandX\",\"Laptop\"],[\"Us Plus\",\"BrandZ\",\"Beauty\"],[\"Leave Max\",\"BrandY\",\"Phone\"],[\"She Plus\",\"BrandZ\",\"Grocery\"],[\"Exactly Max\",\"BrandC\",\"Laptop\"],[\"Again Basic\",\"BrandX\",\"Laptop\"],[\"Might Pro\",\"BrandC\",\"Beauty\"],[\"Whole Basic\",\"BrandY\",\"Grocery\"],[\"Suddenly Plus\",\"BrandA\",\"TV\"],[\"Mrs Max\",\"BrandC\",\"Laptop\"],[\"Impact Pro\",\"BrandC\",\"Grocery\"],[\"Way Pro\",\"BrandY\",\"Grocery\"],[\"Outside Max\",\"BrandA\",\"Beauty\"],[\"Call Plus\",\"BrandZ\",\"Beauty\"],[\"Building Basic\",\"BrandC\",\"Grocery\"],[\"Moment Lite\",\"BrandZ\",\"Home Appliance\"],[\"Board Pro\",\"BrandY\",\"Laptop\"],[\"Amount Plus\",\"BrandB\",\"Home Appliance\"],[\"Health Plus\",\"BrandA\",\"Laptop\"],[\"News Basic\",\"BrandB\",\"Phone\"],[\"Or Max\",\"BrandY\",\"Beauty\"],[\"Rule Plus\",\"BrandX\",\"Phone\"],[\"Another Lite\",\"BrandA\",\"Phone\"],[\"East Pro\",\"BrandC\",\"TV\"],[\"Be Lite\",\"BrandX\",\"TV\"],[\"Material Lite\",\"BrandA\",\"Beauty\"],[\"Party Max\",\"BrandX\",\"Laptop\"],[\"Something Plus\",\"BrandC\",\"TV\"],[\"Identify Basic\",\"BrandB\",\"Phone\"],[\"Condition Plus\",\"BrandY\",\"TV\"],[\"Who Basic\",\"BrandC\",\"Home Appliance\"],[\"Eat Pro\",\"BrandZ\",\"Grocery\"],[\"Recognize Max\",\"BrandA\",\"Laptop\"],[\"Tv Lite\",\"BrandZ\",\"Phone\"],[\"Huge Pro\",\"BrandB\",\"Phone\"],[\"Rest Pro\",\"BrandZ\",\"Home Appliance\"],[\"Week Plus\",\"BrandZ\",\"Phone\"],[\"Play Plus\",\"BrandC\",\"Grocery\"],[\"Control Plus\",\"BrandZ\",\"Beauty\"],[\"Something Pro\",\"BrandZ\",\"Laptop\"],[\"Very Max\",\"BrandX\",\"TV\"],[\"Suggest Pro\",\"BrandY\",\"Home Appliance\"],[\"Including Plus\",\"BrandX\",\"TV\"],[\"Today Max\",\"BrandX\",\"Grocery\"],[\"Return Max\",\"BrandY\",\"Grocery\"],[\"Maybe Max\",\"BrandC\",\"Laptop\"],[\"His Max\",\"BrandC\",\"Grocery\"],[\"Able Pro\",\"BrandA\",\"Grocery\"],[\"Indicate Max\",\"BrandC\",\"Laptop\"],[\"Land Max\",\"BrandZ\",\"Grocery\"],[\"Amount Basic\",\"BrandX\",\"TV\"],[\"Thought Plus\",\"BrandC\",\"Grocery\"],[\"Sit Plus\",\"BrandY\",\"Grocery\"],[\"Ok Plus\",\"BrandB\",\"Home Appliance\"],[\"Rather Pro\",\"BrandY\",\"Laptop\"],[\"Girl Lite\",\"BrandX\",\"Grocery\"],[\"Home Plus\",\"BrandA\",\"Beauty\"],[\"Trip Basic\",\"BrandZ\",\"Laptop\"],[\"Child Pro\",\"BrandC\",\"Beauty\"],[\"Six Basic\",\"BrandC\",\"Laptop\"],[\"Since Lite\",\"BrandA\",\"Phone\"],[\"Human Max\",\"BrandB\",\"Beauty\"],[\"Each Plus\",\"BrandX\",\"TV\"],[\"Particular Max\",\"BrandZ\",\"Beauty\"],[\"Paper Max\",\"BrandX\",\"Grocery\"],[\"Style Max\",\"BrandC\",\"TV\"],[\"Professional Lite\",\"BrandC\",\"Phone\"],[\"Concern Pro\",\"BrandY\",\"Laptop\"],[\"Receive Plus\",\"BrandZ\",\"Laptop\"],[\"Key Basic\",\"BrandB\",\"Beauty\"],[\"Dog Plus\",\"BrandA\",\"Beauty\"],[\"Yet Plus\",\"BrandX\",\"TV\"],[\"Without Pro\",\"BrandX\",\"Phone\"],[\"Notice Plus\",\"BrandY\",\"Beauty\"],[\"Parent Max\",\"BrandZ\",\"TV\"],[\"Face Basic\",\"BrandY\",\"Beauty\"],[\"Finish Lite\",\"BrandY\",\"Grocery\"],[\"Public Basic\",\"BrandB\",\"Phone\"],[\"Management Max\",\"BrandB\",\"TV\"],[\"Professor Max\",\"BrandA\",\"Grocery\"],[\"Apply Plus\",\"BrandX\",\"Laptop\"],[\"International Max\",\"BrandX\",\"Home Appliance\"],[\"Specific Lite\",\"BrandC\",\"Grocery\"],[\"Dinner Basic\",\"BrandY\",\"TV\"],[\"Soon Lite\",\"BrandX\",\"Grocery\"],[\"Poor Lite\",\"BrandZ\",\"Grocery\"],[\"Newspaper Lite\",\"BrandY\",\"Laptop\"],[\"Design Max\",\"BrandZ\",\"Beauty\"],[\"Check Plus\",\"BrandB\",\"Laptop\"],[\"Conference Plus\",\"BrandB\",\"Home Appliance\"],[\"Across Max\",\"BrandY\",\"Beauty\"],[\"Later Plus\",\"BrandZ\",\"Grocery\"],[\"Article Plus\",\"BrandZ\",\"Phone\"],[\"Cause Max\",\"BrandY\",\"Beauty\"],[\"Size Basic\",\"BrandA\",\"TV\"],[\"Trade Lite\",\"BrandA\",\"Phone\"],[\"Order Max\",\"BrandA\",\"Beauty\"],[\"Hope Pro\",\"BrandA\",\"Home Appliance\"],[\"Thus Plus\",\"BrandX\",\"Laptop\"],[\"Throw Max\",\"BrandC\",\"Beauty\"],[\"In Plus\",\"BrandZ\",\"Beauty\"],[\"Paper Basic\",\"BrandX\",\"TV\"],[\"Media Basic\",\"BrandC\",\"TV\"],[\"Republican Lite\",\"BrandY\",\"Laptop\"],[\"Appear Basic\",\"BrandY\",\"Beauty\"],[\"Indicate Basic\",\"BrandY\",\"Grocery\"],[\"Push Max\",\"BrandA\",\"TV\"],[\"Future Max\",\"BrandC\",\"Phone\"],[\"Century Pro\",\"BrandC\",\"Grocery\"],[\"Until Basic\",\"BrandY\",\"Grocery\"],[\"Out Basic\",\"BrandY\",\"Grocery\"],[\"Though Basic\",\"BrandX\",\"Grocery\"],[\"Interview Plus\",\"BrandY\",\"TV\"],[\"Hope Pro\",\"BrandB\",\"TV\"],[\"Source Max\",\"BrandC\",\"Beauty\"],[\"Network Pro\",\"BrandA\",\"Beauty\"],[\"Identify Pro\",\"BrandB\",\"Phone\"],[\"Pattern Pro\",\"BrandZ\",\"Laptop\"],[\"Traditional Lite\",\"BrandC\",\"Phone\"],[\"Road Lite\",\"BrandZ\",\"Phone\"],[\"Popular Plus\",\"BrandC\",\"Home Appliance\"],[\"Deal Plus\",\"BrandY\",\"TV\"],[\"Onto Max\",\"BrandC\",\"Phone\"],[\"Game Lite\",\"BrandA\",\"Home Appliance\"],[\"Sell Plus\",\"BrandB\",\"Home Appliance\"],[\"Total Pro\",\"BrandC\",\"Grocery\"],[\"Within Plus\",\"BrandZ\",\"Home Appliance\"],[\"Establish Plus\",\"BrandC\",\"Beauty\"],[\"Husband Max\",\"BrandC\",\"Laptop\"],[\"Final Basic\",\"BrandY\",\"TV\"],[\"Every Basic\",\"BrandY\",\"TV\"],[\"Economy Plus\",\"BrandZ\",\"Laptop\"],[\"Peace Basic\",\"BrandY\",\"Beauty\"],[\"Against Pro\",\"BrandX\",\"Beauty\"],[\"Young Max\",\"BrandA\",\"Home Appliance\"],[\"Together Basic\",\"BrandA\",\"Beauty\"],[\"Everything Pro\",\"BrandA\",\"Home Appliance\"],[\"That Plus\",\"BrandY\",\"TV\"],[\"Theory Pro\",\"BrandX\",\"Phone\"],[\"Especially Plus\",\"BrandX\",\"TV\"],[\"Information Max\",\"BrandB\",\"Beauty\"],[\"Chair Pro\",\"BrandC\",\"Grocery\"],[\"Base Pro\",\"BrandA\",\"Beauty\"],[\"Third Plus\",\"BrandZ\",\"Phone\"],[\"Model Pro\",\"BrandB\",\"TV\"],[\"Agency Max\",\"BrandY\",\"Laptop\"],[\"Become Pro\",\"BrandX\",\"Laptop\"],[\"No Plus\",\"BrandC\",\"Laptop\"],[\"Both Max\",\"BrandC\",\"Home Appliance\"],[\"Store Lite\",\"BrandA\",\"Laptop\"],[\"Very Lite\",\"BrandX\",\"Phone\"],[\"Seven Plus\",\"BrandX\",\"Beauty\"],[\"Special Pro\",\"BrandC\",\"Laptop\"],[\"Gas Plus\",\"BrandA\",\"Phone\"],[\"Middle Lite\",\"BrandX\",\"Grocery\"],[\"Dog Pro\",\"BrandX\",\"Home Appliance\"],[\"Program Basic\",\"BrandZ\",\"Home Appliance\"],[\"Case Pro\",\"BrandZ\",\"Home Appliance\"],[\"Almost Lite\",\"BrandX\",\"Beauty\"],[\"Cultural Basic\",\"BrandC\",\"Home Appliance\"],[\"Find Lite\",\"BrandB\",\"Phone\"],[\"Democratic Plus\",\"BrandC\",\"Home Appliance\"],[\"Edge Basic\",\"BrandC\",\"Home Appliance\"],[\"Mean Max\",\"BrandY\",\"Beauty\"],[\"Operation Plus\",\"BrandA\",\"Laptop\"],[\"Let Basic\",\"BrandB\",\"Home Appliance\"],[\"Artist Basic\",\"BrandX\",\"Phone\"],[\"Series Lite\",\"BrandZ\",\"Grocery\"],[\"Research Pro\",\"BrandZ\",\"Beauty\"],[\"Letter Pro\",\"BrandX\",\"Beauty\"],[\"Sister Basic\",\"BrandC\",\"Phone\"],[\"Along Basic\",\"BrandY\",\"Laptop\"],[\"Quality Max\",\"BrandC\",\"Home Appliance\"],[\"Smile Lite\",\"BrandC\",\"Laptop\"],[\"Can Max\",\"BrandB\",\"Home Appliance\"],[\"Truth Pro\",\"BrandX\",\"Beauty\"],[\"Realize Plus\",\"BrandB\",\"Grocery\"],[\"Together Max\",\"BrandY\",\"Phone\"],[\"Exist Max\",\"BrandC\",\"Laptop\"],[\"After Plus\",\"BrandB\",\"Beauty\"],[\"Data Pro\",\"BrandX\",\"Phone\"],[\"Tonight Lite\",\"BrandC\",\"Grocery\"],[\"Network Lite\",\"BrandZ\",\"Phone\"],[\"Behind Lite\",\"BrandX\",\"Grocery\"],[\"Give Lite\",\"BrandC\",\"Laptop\"],[\"Glass Lite\",\"BrandC\",\"Beauty\"],[\"Member Lite\",\"BrandX\",\"TV\"],[\"Bill Basic\",\"BrandB\",\"TV\"],[\"Discuss Basic\",\"BrandC\",\"Laptop\"],[\"Real Plus\",\"BrandB\",\"Phone\"],[\"Can Pro\",\"BrandY\",\"Grocery\"],[\"Over Max\",\"BrandB\",\"Home Appliance\"],[\"Deal Max\",\"BrandC\",\"Grocery\"],[\"Green Max\",\"BrandC\",\"Home Appliance\"],[\"Want Basic\",\"BrandX\",\"Phone\"],[\"Growth Max\",\"BrandC\",\"Phone\"],[\"Film Plus\",\"BrandX\",\"Phone\"],[\"Right Lite\",\"BrandA\",\"TV\"],[\"Ball Basic\",\"BrandA\",\"Beauty\"],[\"Business Plus\",\"BrandZ\",\"TV\"],[\"Question Max\",\"BrandB\",\"Laptop\"],[\"Accept Plus\",\"BrandY\",\"Home Appliance\"],[\"Enjoy Pro\",\"BrandA\",\"Beauty\"],[\"Much Lite\",\"BrandB\",\"Beauty\"],[\"Speech Pro\",\"BrandZ\",\"Home Appliance\"],[\"Indicate Plus\",\"BrandZ\",\"Beauty\"],[\"Garden Pro\",\"BrandZ\",\"Grocery\"],[\"Candidate Max\",\"BrandY\",\"Beauty\"],[\"Million Plus\",\"BrandZ\",\"Grocery\"],[\"It Lite\",\"BrandX\",\"Phone\"],[\"Assume Lite\",\"BrandX\",\"Home Appliance\"],[\"Himself Basic\",\"BrandZ\",\"Grocery\"],[\"Ground Basic\",\"BrandA\",\"Laptop\"],[\"Health Max\",\"BrandB\",\"TV\"],[\"Late Plus\",\"BrandC\",\"Grocery\"],[\"Stop Plus\",\"BrandZ\",\"Phone\"],[\"Always Plus\",\"BrandB\",\"Grocery\"],[\"Recognize Plus\",\"BrandB\",\"TV\"],[\"Performance Pro\",\"BrandB\",\"Beauty\"],[\"Others Basic\",\"BrandY\",\"Phone\"],[\"Region Max\",\"BrandC\",\"TV\"],[\"Up Pro\",\"BrandB\",\"Laptop\"],[\"Interview Pro\",\"BrandA\",\"Home Appliance\"],[\"According Pro\",\"BrandZ\",\"Laptop\"],[\"Generation Basic\",\"BrandA\",\"Beauty\"],[\"Involve Max\",\"BrandY\",\"TV\"],[\"Would Pro\",\"BrandB\",\"Phone\"],[\"North Pro\",\"BrandY\",\"Laptop\"],[\"Though Max\",\"BrandY\",\"TV\"],[\"Large Plus\",\"BrandX\",\"Phone\"],[\"Head Max\",\"BrandY\",\"Laptop\"],[\"Difficult Lite\",\"BrandB\",\"Laptop\"],[\"Model Plus\",\"BrandY\",\"Phone\"],[\"Pretty Lite\",\"BrandA\",\"Phone\"],[\"Number Max\",\"BrandB\",\"Home Appliance\"],[\"Society Basic\",\"BrandY\",\"Laptop\"],[\"Such Pro\",\"BrandB\",\"Laptop\"],[\"Because Lite\",\"BrandX\",\"Phone\"],[\"Level Basic\",\"BrandA\",\"TV\"],[\"Scientist Pro\",\"BrandY\",\"Beauty\"],[\"South Lite\",\"BrandZ\",\"Grocery\"],[\"Early Basic\",\"BrandX\",\"Laptop\"],[\"Room Plus\",\"BrandC\",\"Home Appliance\"],[\"Over Pro\",\"BrandX\",\"Phone\"],[\"Then Lite\",\"BrandY\",\"Laptop\"],[\"Really Plus\",\"BrandY\",\"Beauty\"],[\"Wide Basic\",\"BrandB\",\"Laptop\"],[\"Resource Basic\",\"BrandC\",\"Laptop\"],[\"Police Max\",\"BrandB\",\"Phone\"],[\"Color Plus\",\"BrandY\",\"Grocery\"],[\"Show Plus\",\"BrandZ\",\"Grocery\"],[\"Truth Lite\",\"BrandA\",\"Grocery\"],[\"Speech Plus\",\"BrandA\",\"Grocery\"],[\"Resource Max\",\"BrandX\",\"Phone\"],[\"Deal Basic\",\"BrandX\",\"Beauty\"],[\"Claim Plus\",\"BrandZ\",\"Grocery\"],[\"Account Pro\",\"BrandY\",\"Grocery\"],[\"Boy Pro\",\"BrandY\",\"TV\"],[\"Fight Basic\",\"BrandA\",\"Laptop\"],[\"Effort Plus\",\"BrandY\",\"TV\"],[\"Fact Basic\",\"BrandX\",\"TV\"],[\"Ability Plus\",\"BrandA\",\"Laptop\"],[\"Again Pro\",\"BrandX\",\"Beauty\"],[\"Voice Pro\",\"BrandA\",\"Beauty\"],[\"Win Plus\",\"BrandA\",\"Beauty\"],[\"Where Basic\",\"BrandB\",\"TV\"],[\"Each Basic\",\"BrandB\",\"Phone\"],[\"Professional Pro\",\"BrandX\",\"TV\"],[\"Leader Max\",\"BrandB\",\"Grocery\"],[\"Direction Pro\",\"BrandY\",\"Grocery\"],[\"Alone Max\",\"BrandZ\",\"Phone\"],[\"Cultural Lite\",\"BrandY\",\"Laptop\"],[\"Reduce Basic\",\"BrandX\",\"Beauty\"],[\"Media Pro\",\"BrandB\",\"Beauty\"],[\"Still Basic\",\"BrandB\",\"Home Appliance\"],[\"Share Pro\",\"BrandY\",\"Phone\"],[\"Technology Pro\",\"BrandA\",\"Laptop\"],[\"Mouth Pro\",\"BrandB\",\"Phone\"],[\"Support Pro\",\"BrandB\",\"Phone\"],[\"Himself Pro\",\"BrandB\",\"Grocery\"],[\"Goal Lite\",\"BrandC\",\"Beauty\"],[\"Three Max\",\"BrandA\",\"Phone\"],[\"Music Max\",\"BrandX\",\"TV\"],[\"When Basic\",\"BrandY\",\"TV\"],[\"Song Plus\",\"BrandY\",\"Beauty\"],[\"Quality Plus\",\"BrandX\",\"TV\"],[\"Agree Plus\",\"BrandA\",\"Home Appliance\"],[\"Instead Max\",\"BrandC\",\"TV\"],[\"Piece Lite\",\"BrandB\",\"Laptop\"],[\"Myself Plus\",\"BrandX\",\"Laptop\"],[\"Show Plus\",\"BrandX\",\"Beauty\"],[\"Property Pro\",\"BrandB\",\"Home Appliance\"],[\"Fund Max\",\"BrandB\",\"Grocery\"],[\"Growth Pro\",\"BrandX\",\"TV\"],[\"Apply Basic\",\"BrandZ\",\"Grocery\"],[\"By Basic\",\"BrandB\",\"Laptop\"],[\"Meet Plus\",\"BrandY\",\"Grocery\"],[\"Kitchen Plus\",\"BrandZ\",\"Phone\"],[\"Factor Basic\",\"BrandX\",\"Beauty\"],[\"End Max\",\"BrandC\",\"Phone\"],[\"Style Pro\",\"BrandX\",\"Phone\"],[\"Western Plus\",\"BrandX\",\"TV\"],[\"Win Lite\",\"BrandX\",\"Phone\"],[\"Stop Plus\",\"BrandC\",\"Home Appliance\"],[\"Bank Max\",\"BrandY\",\"Grocery\"],[\"Blue Basic\",\"BrandC\",\"Grocery\"],[\"Price Lite\",\"BrandX\",\"TV\"],[\"Billion Pro\",\"BrandB\",\"Grocery\"],[\"Action Max\",\"BrandY\",\"Laptop\"],[\"Kid Plus\",\"BrandX\",\"Beauty\"],[\"Last Pro\",\"BrandY\",\"TV\"],[\"Service Plus\",\"BrandY\",\"Laptop\"],[\"Area Basic\",\"BrandA\",\"Grocery\"],[\"Short Plus\",\"BrandX\",\"Home Appliance\"],[\"Its Pro\",\"BrandY\",\"Laptop\"],[\"Off Lite\",\"BrandB\",\"TV\"],[\"Available Basic\",\"BrandZ\",\"Laptop\"],[\"Writer Pro\",\"BrandC\",\"Beauty\"],[\"Produce Plus\",\"BrandY\",\"TV\"],[\"Area Basic\",\"BrandY\",\"Phone\"],[\"Environment Pro\",\"BrandZ\",\"Home Appliance\"],[\"Fear Pro\",\"BrandX\",\"Laptop\"],[\"Network Plus\",\"BrandX\",\"Phone\"],[\"Visit Lite\",\"BrandC\",\"TV\"],[\"Who Basic\",\"BrandX\",\"Laptop\"],[\"Glass Lite\",\"BrandC\",\"Grocery\"],[\"Administration Lite\",\"BrandA\",\"Phone\"],[\"Myself Lite\",\"BrandX\",\"TV\"],[\"Book Pro\",\"BrandA\",\"Phone\"],[\"Red Pro\",\"BrandY\",\"Phone\"],[\"Quite Lite\",\"BrandX\",\"Phone\"],[\"American Basic\",\"BrandB\",\"Home Appliance\"],[\"Model Max\",\"BrandX\",\"Phone\"],[\"That Max\",\"BrandY\",\"Laptop\"],[\"Maintain Plus\",\"BrandA\",\"Grocery\"],[\"Forward Basic\",\"BrandC\",\"Beauty\"],[\"Form Basic\",\"BrandC\",\"Phone\"],[\"Single Lite\",\"BrandX\",\"Beauty\"],[\"Else Max\",\"BrandY\",\"Grocery\"],[\"Probably Pro\",\"BrandB\",\"Beauty\"],[\"Leave Plus\",\"BrandC\",\"TV\"],[\"There Max\",\"BrandY\",\"Phone\"],[\"Include Max\",\"BrandB\",\"Laptop\"],[\"Detail Basic\",\"BrandB\",\"TV\"],[\"Possible Pro\",\"BrandZ\",\"Home Appliance\"],[\"Western Basic\",\"BrandZ\",\"TV\"],[\"Mind Pro\",\"BrandA\",\"TV\"],[\"Range Basic\",\"BrandX\",\"Phone\"],[\"War Lite\",\"BrandZ\",\"Beauty\"],[\"Student Plus\",\"BrandB\",\"TV\"],[\"Outside Lite\",\"BrandX\",\"Phone\"],[\"Perhaps Basic\",\"BrandZ\",\"Grocery\"],[\"Claim Basic\",\"BrandY\",\"Home Appliance\"],[\"Real Plus\",\"BrandB\",\"Home Appliance\"],[\"Space Max\",\"BrandZ\",\"Laptop\"],[\"Myself Basic\",\"BrandC\",\"Laptop\"],[\"Responsibility Basic\",\"BrandB\",\"Grocery\"],[\"Our Pro\",\"BrandA\",\"Beauty\"],[\"Dream Pro\",\"BrandZ\",\"Home Appliance\"],[\"Child Basic\",\"BrandA\",\"Phone\"],[\"Standard Pro\",\"BrandA\",\"TV\"],[\"Agreement Max\",\"BrandY\",\"Home Appliance\"],[\"Him Max\",\"BrandY\",\"TV\"],[\"This Lite\",\"BrandX\",\"Grocery\"],[\"Research Pro\",\"BrandY\",\"Grocery\"],[\"Than Max\",\"BrandA\",\"Home Appliance\"],[\"Speech Basic\",\"BrandB\",\"TV\"],[\"Light Max\",\"BrandB\",\"TV\"],[\"Action Basic\",\"BrandX\",\"Laptop\"],[\"Look Pro\",\"BrandY\",\"Laptop\"],[\"Produce Basic\",\"BrandY\",\"Beauty\"],[\"Between Max\",\"BrandA\",\"Beauty\"],[\"Rule Pro\",\"BrandZ\",\"Laptop\"],[\"Those Pro\",\"BrandB\",\"Laptop\"],[\"National Plus\",\"BrandA\",\"Grocery\"],[\"Yeah Max\",\"BrandC\",\"Beauty\"],[\"Stop Lite\",\"BrandY\",\"Home Appliance\"],[\"Everything Lite\",\"BrandX\",\"Phone\"],[\"Leader Pro\",\"BrandZ\",\"Beauty\"],[\"Sister Lite\",\"BrandB\",\"Phone\"],[\"Anyone Plus\",\"BrandX\",\"Beauty\"],[\"Buy Plus\",\"BrandY\",\"Beauty\"],[\"Hear Basic\",\"BrandX\",\"Beauty\"],[\"Friend Basic\",\"BrandX\",\"Beauty\"],[\"Section Max\",\"BrandB\",\"Home Appliance\"],[\"Simply Basic\",\"BrandX\",\"Laptop\"],[\"Scientist Pro\",\"BrandY\",\"Phone\"],[\"Seek Pro\",\"BrandZ\",\"TV\"],[\"List Max\",\"BrandA\",\"Beauty\"],[\"Religious Lite\",\"BrandC\",\"Phone\"],[\"Nature Basic\",\"BrandX\",\"Grocery\"],[\"Tell Lite\",\"BrandC\",\"Laptop\"],[\"Central Max\",\"BrandX\",\"Phone\"],[\"Tend Max\",\"BrandC\",\"Beauty\"],[\"Face Plus\",\"BrandC\",\"TV\"],[\"Issue Basic\",\"BrandX\",\"Phone\"],[\"Final Basic\",\"BrandX\",\"TV\"],[\"Show Lite\",\"BrandY\",\"Home Appliance\"],[\"Thank Plus\",\"BrandZ\",\"Beauty\"],[\"Himself Pro\",\"BrandY\",\"Phone\"],[\"Prepare Plus\",\"BrandY\",\"Home Appliance\"],[\"Public Lite\",\"BrandZ\",\"TV\"],[\"Drug Max\",\"BrandZ\",\"TV\"],[\"Summer Pro\",\"BrandZ\",\"Laptop\"],[\"Citizen Pro\",\"BrandX\",\"Home Appliance\"],[\"Site Max\",\"BrandB\",\"Home Appliance\"],[\"Effort Max\",\"BrandA\",\"Laptop\"],[\"Treat Plus\",\"BrandA\",\"Beauty\"],[\"Over Plus\",\"BrandY\",\"Beauty\"],[\"Sound Basic\",\"BrandC\",\"Home Appliance\"],[\"Actually Lite\",\"BrandX\",\"TV\"],[\"Heavy Lite\",\"BrandB\",\"Phone\"],[\"Official Pro\",\"BrandZ\",\"Phone\"],[\"True Max\",\"BrandA\",\"Beauty\"],[\"Let Plus\",\"BrandX\",\"Home Appliance\"],[\"List Plus\",\"BrandA\",\"Beauty\"],[\"See Plus\",\"BrandB\",\"Home Appliance\"],[\"Save Pro\",\"BrandY\",\"Laptop\"],[\"Sure Lite\",\"BrandA\",\"Phone\"],[\"Claim Max\",\"BrandY\",\"Beauty\"],[\"Attack Basic\",\"BrandZ\",\"TV\"],[\"Just Basic\",\"BrandB\",\"Phone\"],[\"School Plus\",\"BrandZ\",\"Beauty\"],[\"Relate Max\",\"BrandX\",\"Home Appliance\"],[\"Hospital Lite\",\"BrandA\",\"Laptop\"],[\"Congress Basic\",\"BrandB\",\"Laptop\"],[\"Yeah Pro\",\"BrandB\",\"Laptop\"],[\"Than Lite\",\"BrandZ\",\"Laptop\"],[\"Unit Plus\",\"BrandA\",\"Home Appliance\"],[\"Cover Lite\",\"BrandC\",\"TV\"],[\"Moment Plus\",\"BrandC\",\"Laptop\"],[\"Again Plus\",\"BrandX\",\"Beauty\"],[\"Billion Basic\",\"BrandZ\",\"TV\"],[\"Check Pro\",\"BrandX\",\"Grocery\"],[\"Hear Max\",\"BrandA\",\"TV\"],[\"Energy Max\",\"BrandA\",\"Phone\"],[\"Evening Max\",\"BrandA\",\"Laptop\"],[\"Impact Plus\",\"BrandZ\",\"TV\"],[\"Chair Plus\",\"BrandY\",\"Laptop\"],[\"Report Plus\",\"BrandA\",\"Home Appliance\"],[\"Lose Pro\",\"BrandC\",\"Phone\"],[\"Although Max\",\"BrandY\",\"Beauty\"],[\"Difference Max\",\"BrandB\",\"Phone\"],[\"Paper Max\",\"BrandY\",\"Beauty\"],[\"Social Lite\",\"BrandC\",\"Grocery\"],[\"Public Max\",\"BrandA\",\"Home Appliance\"],[\"Hard Basic\",\"BrandZ\",\"Phone\"],[\"Human Lite\",\"BrandY\",\"TV\"],[\"Often Basic\",\"BrandY\",\"Grocery\"],[\"While Pro\",\"BrandC\",\"Laptop\"],[\"Gas Lite\",\"BrandC\",\"Grocery\"],[\"Phone Max\",\"BrandX\",\"Laptop\"],[\"Order Plus\",\"BrandY\",\"Home Appliance\"],[\"Arrive Basic\",\"BrandX\",\"Laptop\"],[\"Manager Max\",\"BrandZ\",\"Grocery\"],[\"Technology Plus\",\"BrandB\",\"Laptop\"],[\"Under Plus\",\"BrandZ\",\"Beauty\"],[\"Really Basic\",\"BrandA\",\"Beauty\"],[\"Throughout Basic\",\"BrandC\",\"Phone\"],[\"Say Basic\",\"BrandX\",\"Beauty\"],[\"Man Pro\",\"BrandY\",\"Beauty\"],[\"Central Max\",\"BrandB\",\"TV\"],[\"Save Lite\",\"BrandB\",\"Laptop\"],[\"Movie Basic\",\"BrandA\",\"Grocery\"],[\"Hot Pro\",\"BrandA\",\"Beauty\"],[\"Factor Basic\",\"BrandC\",\"Beauty\"],[\"Loss Lite\",\"BrandA\",\"Grocery\"],[\"Trouble Max\",\"BrandX\",\"Grocery\"],[\"And Max\",\"BrandB\",\"TV\"],[\"Part Max\",\"BrandY\",\"TV\"],[\"Turn Lite\",\"BrandA\",\"Beauty\"],[\"When Max\",\"BrandC\",\"TV\"],[\"Especially Basic\",\"BrandC\",\"Beauty\"],[\"Else Pro\",\"BrandZ\",\"Phone\"],[\"Government Pro\",\"BrandC\",\"TV\"],[\"A Plus\",\"BrandA\",\"Phone\"],[\"Week Basic\",\"BrandC\",\"Grocery\"],[\"Teacher Max\",\"BrandZ\",\"Phone\"],[\"Maybe Lite\",\"BrandY\",\"Laptop\"],[\"Life Plus\",\"BrandY\",\"TV\"],[\"Senior Basic\",\"BrandA\",\"Grocery\"],[\"Pick Lite\",\"BrandX\",\"Phone\"],[\"Rise Pro\",\"BrandY\",\"Laptop\"],[\"Official Lite\",\"BrandZ\",\"Grocery\"],[\"Word Lite\",\"BrandA\",\"Beauty\"],[\"Finish Lite\",\"BrandA\",\"Laptop\"],[\"Student Lite\",\"BrandA\",\"TV\"],[\"Able Max\",\"BrandB\",\"TV\"],[\"Get Lite\",\"BrandA\",\"Laptop\"],[\"Blood Max\",\"BrandX\",\"Grocery\"],[\"Tonight Lite\",\"BrandC\",\"Phone\"],[\"Federal Basic\",\"BrandB\",\"TV\"],[\"Old Plus\",\"BrandX\",\"Home Appliance\"],[\"Movie Plus\",\"BrandC\",\"Beauty\"],[\"Last Lite\",\"BrandX\",\"Home Appliance\"],[\"Sell Plus\",\"BrandB\",\"Beauty\"],[\"Onto Pro\",\"BrandB\",\"Laptop\"],[\"Pm Pro\",\"BrandA\",\"TV\"],[\"Manage Lite\",\"BrandC\",\"Grocery\"],[\"Fish Lite\",\"BrandZ\",\"Beauty\"],[\"Of Max\",\"BrandA\",\"Phone\"],[\"Blue Plus\",\"BrandZ\",\"Grocery\"],[\"Produce Max\",\"BrandA\",\"Home Appliance\"],[\"According Lite\",\"BrandA\",\"Laptop\"],[\"According Lite\",\"BrandY\",\"Beauty\"],[\"Easy Basic\",\"BrandC\",\"Grocery\"],[\"Marriage Pro\",\"BrandY\",\"TV\"],[\"Agent Max\",\"BrandY\",\"Home Appliance\"],[\"Second Plus\",\"BrandA\",\"TV\"],[\"Traditional Pro\",\"BrandA\",\"TV\"],[\"Tough Max\",\"BrandA\",\"Home Appliance\"],[\"Establish Pro\",\"BrandZ\",\"Laptop\"],[\"Of Lite\",\"BrandY\",\"TV\"],[\"Court Basic\",\"BrandA\",\"Grocery\"],[\"Not Lite\",\"BrandC\",\"Phone\"],[\"Realize Plus\",\"BrandA\",\"Laptop\"],[\"Indeed Basic\",\"BrandA\",\"Phone\"],[\"South Lite\",\"BrandB\",\"Laptop\"],[\"Avoid Plus\",\"BrandC\",\"Laptop\"],[\"Marriage Pro\",\"BrandC\",\"Home Appliance\"],[\"Other Pro\",\"BrandY\",\"TV\"],[\"Whose Lite\",\"BrandX\",\"Laptop\"],[\"To Plus\",\"BrandZ\",\"Home Appliance\"],[\"In Plus\",\"BrandA\",\"Home Appliance\"],[\"Wide Lite\",\"BrandA\",\"Phone\"],[\"Cut Lite\",\"BrandY\",\"Home Appliance\"],[\"Of Plus\",\"BrandC\",\"Home Appliance\"],[\"Any Max\",\"BrandB\",\"Beauty\"],[\"Model Pro\",\"BrandZ\",\"Home Appliance\"],[\"Nation Basic\",\"BrandY\",\"Home Appliance\"],[\"Save Pro\",\"BrandB\",\"Home Appliance\"],[\"Store Pro\",\"BrandB\",\"TV\"],[\"Moment Basic\",\"BrandX\",\"TV\"],[\"At Lite\",\"BrandA\",\"Home Appliance\"],[\"Money Basic\",\"BrandZ\",\"Phone\"],[\"Term Basic\",\"BrandX\",\"Grocery\"],[\"Season Pro\",\"BrandX\",\"TV\"],[\"Job Max\",\"BrandY\",\"Phone\"],[\"Fund Lite\",\"BrandB\",\"Beauty\"],[\"Theory Pro\",\"BrandX\",\"Grocery\"],[\"Meet Plus\",\"BrandZ\",\"Phone\"],[\"In Max\",\"BrandA\",\"TV\"],[\"Study Max\",\"BrandX\",\"Phone\"],[\"Stock Max\",\"BrandX\",\"Beauty\"],[\"Some Max\",\"BrandY\",\"Beauty\"],[\"Represent Basic\",\"BrandZ\",\"Laptop\"],[\"Edge Lite\",\"BrandA\",\"Home Appliance\"],[\"Send Basic\",\"BrandX\",\"Laptop\"],[\"Action Max\",\"BrandY\",\"Laptop\"],[\"Science Plus\",\"BrandA\",\"Phone\"],[\"Shake Pro\",\"BrandY\",\"Laptop\"],[\"Bad Plus\",\"BrandB\",\"Laptop\"],[\"Shake Basic\",\"BrandX\",\"Grocery\"],[\"That Max\",\"BrandA\",\"Laptop\"],[\"Southern Plus\",\"BrandY\",\"TV\"],[\"Defense Lite\",\"BrandY\",\"TV\"],[\"Box Plus\",\"BrandB\",\"TV\"],[\"Miss Lite\",\"BrandZ\",\"Phone\"],[\"Lose Max\",\"BrandC\",\"Beauty\"],[\"Out Lite\",\"BrandY\",\"Home Appliance\"],[\"Simple Basic\",\"BrandZ\",\"Home Appliance\"],[\"Soon Lite\",\"BrandZ\",\"Phone\"],[\"Certainly Pro\",\"BrandX\",\"Phone\"],[\"Ability Max\",\"BrandY\",\"TV\"],[\"Back Pro\",\"BrandY\",\"Beauty\"],[\"Back Max\",\"BrandZ\",\"Laptop\"],[\"Industry Plus\",\"BrandB\",\"TV\"],[\"Line Lite\",\"BrandY\",\"TV\"],[\"Head Lite\",\"BrandY\",\"Phone\"],[\"Somebody Lite\",\"BrandY\",\"Grocery\"],[\"They Plus\",\"BrandY\",\"Laptop\"],[\"Whom Lite\",\"BrandZ\",\"Phone\"],[\"Strong Basic\",\"BrandA\",\"Laptop\"],[\"Maybe Pro\",\"BrandC\",\"Beauty\"],[\"Leader Plus\",\"BrandZ\",\"Home Appliance\"],[\"Night Plus\",\"BrandA\",\"Beauty\"],[\"Run Max\",\"BrandX\",\"TV\"],[\"Build Plus\",\"BrandY\",\"Beauty\"],[\"Open Basic\",\"BrandY\",\"Laptop\"],[\"Late Max\",\"BrandX\",\"TV\"],[\"College Basic\",\"BrandZ\",\"Home Appliance\"],[\"Pick Plus\",\"BrandZ\",\"Beauty\"],[\"Money Max\",\"BrandY\",\"Beauty\"],[\"Table Max\",\"BrandZ\",\"TV\"],[\"Under Plus\",\"BrandX\",\"Phone\"],[\"Painting Pro\",\"BrandB\",\"TV\"],[\"The Basic\",\"BrandA\",\"TV\"],[\"Might Max\",\"BrandZ\",\"Laptop\"],[\"Peace Basic\",\"BrandX\",\"TV\"],[\"Memory Basic\",\"BrandB\",\"Home Appliance\"],[\"Mention Lite\",\"BrandC\",\"Beauty\"],[\"Already Max\",\"BrandC\",\"Grocery\"],[\"Sea Pro\",\"BrandC\",\"Phone\"],[\"Political Plus\",\"BrandC\",\"Grocery\"],[\"Perhaps Basic\",\"BrandZ\",\"Beauty\"],[\"Radio Pro\",\"BrandA\",\"Grocery\"],[\"Development Plus\",\"BrandY\",\"Laptop\"],[\"Now Lite\",\"BrandZ\",\"Beauty\"],[\"Member Basic\",\"BrandC\",\"Laptop\"],[\"Entire Max\",\"BrandZ\",\"Grocery\"],[\"Him Basic\",\"BrandB\",\"Beauty\"],[\"Doctor Lite\",\"BrandX\",\"TV\"],[\"Hundred Lite\",\"BrandX\",\"TV\"],[\"Art Max\",\"BrandX\",\"TV\"],[\"Personal Pro\",\"BrandY\",\"Laptop\"],[\"Product Plus\",\"BrandA\",\"Laptop\"],[\"Character Max\",\"BrandC\",\"TV\"],[\"Choose Basic\",\"BrandZ\",\"TV\"],[\"Specific Lite\",\"BrandX\",\"Grocery\"],[\"Real Lite\",\"BrandZ\",\"Grocery\"],[\"Leader Pro\",\"BrandZ\",\"Beauty\"],[\"Film Plus\",\"BrandA\",\"Beauty\"],[\"Least Max\",\"BrandC\",\"Home Appliance\"],[\"Past Lite\",\"BrandC\",\"Beauty\"],[\"Treatment Max\",\"BrandX\",\"Home Appliance\"],[\"Rock Max\",\"BrandC\",\"Phone\"],[\"Time Max\",\"BrandX\",\"Grocery\"],[\"Consumer Plus\",\"BrandY\",\"Phone\"],[\"Health Lite\",\"BrandB\",\"Beauty\"],[\"Degree Plus\",\"BrandB\",\"Home Appliance\"],[\"Customer Pro\",\"BrandC\",\"Beauty\"],[\"Administration Lite\",\"BrandC\",\"Home Appliance\"],[\"Cell Pro\",\"BrandC\",\"Phone\"],[\"Let Lite\",\"BrandY\",\"Phone\"],[\"Discover Plus\",\"BrandC\",\"Phone\"],[\"Institution Pro\",\"BrandX\",\"TV\"],[\"Who Max\",\"BrandB\",\"Beauty\"],[\"Important Pro\",\"BrandY\",\"Laptop\"],[\"Allow Pro\",\"BrandB\",\"TV\"],[\"Who Pro\",\"BrandY\",\"Home Appliance\"],[\"Shake Pro\",\"BrandB\",\"Laptop\"],[\"Up Plus\",\"BrandZ\",\"Grocery\"],[\"Not Lite\",\"BrandX\",\"TV\"],[\"Such Pro\",\"BrandX\",\"Grocery\"],[\"Seven Pro\",\"BrandY\",\"Beauty\"],[\"As Lite\",\"BrandZ\",\"Beauty\"],[\"Trouble Max\",\"BrandB\",\"Beauty\"],[\"Red Basic\",\"BrandC\",\"Beauty\"],[\"Order Pro\",\"BrandY\",\"Laptop\"],[\"Republican Max\",\"BrandA\",\"Home Appliance\"],[\"Young Plus\",\"BrandZ\",\"Beauty\"]],\"hovertemplate\":\"discounted_price=%{x}\\u003cbr\\u003eratings=%{y}\\u003cbr\\u003ereviews=%{marker.size}\\u003cbr\\u003eproduct_name=%{customdata[0]}\\u003cbr\\u003ebrand=%{customdata[1]}\\u003cbr\\u003ecategory=%{customdata[2]}\\u003cbr\\u003ecluster=%{marker.color}\\u003cextra\\u003e\\u003c\\u002fextra\\u003e\",\"legendgroup\":\"\",\"marker\":{\"color\":[0,3,1,1,3,2,0,1,0,1,3,1,1,2,0,0,3,2,1,3,3,3,2,0,2,2,0,2,3,0,1,3,3,0,2,1,3,3,0,3,3,3,2,3,1,0,1,2,1,1,0,2,0,1,3,2,3,2,2,2,2,3,3,2,2,0,0,0,0,1,1,2,3,2,2,0,3,3,0,2,0,2,3,2,0,0,1,2,3,2,1,3,3,1,3,0,3,2,3,0,0,3,2,1,0,0,2,2,0,3,2,3,0,0,3,2,2,1,0,3,2,3,3,0,3,2,3,2,3,0,1,1,1,0,2,1,3,3,1,3,2,0,2,1,1,2,0,1,2,1,2,2,2,1,0,3,1,3,1,2,3,1,3,0,3,0,2,2,3,1,3,1,3,1,1,1,0,0,2,0,0,2,3,0,2,2,0,2,1,0,2,0,2,2,0,3,0,2,2,3,2,2,3,2,2,1,1,2,2,2,2,3,2,2,2,0,2,3,1,1,0,3,1,2,0,3,2,2,2,2,2,3,0,1,3,1,1,3,3,3,1,0,2,0,2,0,3,2,2,1,3,1,0,2,3,1,2,2,1,2,2,2,2,3,0,0,3,2,1,0,3,2,2,3,0,3,2,2,0,1,0,0,3,1,1,1,0,3,1,3,3,3,3,3,2,0,1,0,1,1,2,1,3,3,3,2,3,3,2,3,1,0,1,3,2,2,3,3,2,2,0,3,0,1,2,2,3,1,1,1,0,1,1,2,3,0,3,3,0,1,3,3,3,3,3,0,3,3,2,3,1,0,1,2,3,0,1,2,1,0,2,1,2,3,3,1,2,3,3,2,1,3,3,3,0,3,0,0,0,3,2,2,3,2,0,0,3,3,1,1,3,0,1,1,1,2,1,3,2,1,0,0,3,2,2,2,2,3,2,0,2,2,2,1,1,0,1,3,3,2,2,3,3,3,0,0,3,1,3,3,1,2,1,1,2,1,0,3,3,3,2,2,2,2,1,3,2,2,3,2,3,2,1,2,2,3,1,1,3,1,3,2,1,0,3,1,1,1,2,1,2,0,1,3,3,1,0,3,0,3,3,3,0,3,3,3,1,2,1,1,1,2,1,2,1,2,3,2,0,1,3,1,3,2,3,0,1,1,2,1,2,1,0,1,2,1,1,1,2,0,3,1,0,3,1,0,0,1,3,3,2,1,1,3,2,2,0,2,3,0,1,2,3,2,2,1,1,2,2,1,0,2,3,0,0,2,1,1,2,2,1,2,0,3,2,3,2,0,3,2,2,1,0,0,0,0,3,1,2,2,1,3,3,1,3,1,3,0,2,2,1,3,3,2,3,1,1,3,0,0,2,0,1,3,2,0,3,3,0,0,3,3,0,3,0,1,3,1,0,2,0,2,2,1,1,3,1,3,0,3,3,1,2,3,1,2,3,1,3,2,2,0,3,3,2,0,3,3,1,3,0,3,0,3,1,1,2,3,0,3,0,3,1,2,2,2,3,1,2,1,3,1,0,1,1,2,2,1,1,3,1,2,0,2,0,0,3,0,0,3,2,1,3,3,2,0,2,3,3,0,2,2,3,1,3,3,3,3,1,1,1,1,0,1,1,2,0,0,1,3,1,2,2,2,0,2,3,0,1,0,2,1,0,2,2,0,0,0,3,2,1,3,0,2,3,3,0,3,0,3,1,3,1,1,1,0,1,1,2,1,3,0,2,2,0,1,1,3,3,1,3,1,2,1,1,1,3,3,2,1,3,1,1,3,1,0,0,1,1,1,2,2,3,1,0,3,0,3,0,0,3,1,1,3,1,2,0,2,1,1,1,3,3,3,0,2,3,1,0,3,1,3,0,3,0,3,3,3,2,0,3,1,3,2,0,3,2,3,3,3,2,3,1,1,2,1,3,1,0,0,0,0,2,3,2,1,2,3,1,1,3,1,1,3,0,3,3,2,2,2,3,2,2,0,3,1,3,3,1,2,2,1,0,2,1,2,3,0,1,1,0,0,3,3,0,1,3,3,3,0,1,2,0,3,3,3,3,1,3,1,2,2,2,0,1,1,1,1,3,2,2,1,1,1,0,3,3,3,3,1,1,3,3,0,2,3,2,2,3,3,1,1,2,0,3,3,1,3,1,3,0,1,3,1,1,1,2,0,3,1,2,1,0,0,3,1,3,2,3,1,2,0,3,1,1,3,1,3,3,1,3,1,1,2,3,2,2,2,1,2,2,2,1,1,1,3,0,1,3,0],\"coloraxis\":\"coloraxis\",\"size\":[8453,1442,8597,4437,5435,8435,4107,560,8785,5548,1826,7629,8325,3138,7693,8264,7842,6721,7002,4225,2978,7373,5907,6097,5656,8984,4259,8286,5901,9325,4917,8429,2530,1960,7045,1048,5772,2529,2964,7137,963,536,7340,7179,7967,8734,845,5777,3036,5947,2494,2719,1884,4349,5179,6610,6430,7154,6488,4737,6525,3850,689,5175,8648,5078,5448,1179,9074,6406,8591,6907,8800,1638,5671,6928,1382,1403,9011,3292,9011,419,4517,3302,7857,9700,7870,5693,767,2044,1549,9956,6140,3716,4481,7898,6548,2293,4837,7758,6793,7638,7993,6007,5542,9092,6356,8433,7380,2385,4268,671,163,8656,4592,4795,4798,6036,2355,5887,7961,5827,8737,4719,593,4839,7394,9651,3493,6164,2672,4200,16,3191,392,8616,6272,571,3631,6172,9312,7177,8433,3897,8123,2279,8980,7451,8906,775,6869,2247,7088,78,8080,7099,3926,9047,7340,7083,6230,9223,4940,3271,3456,7788,8599,7650,2711,1668,147,6420,365,9866,4531,5330,5510,8754,8964,6493,5439,9765,6511,7504,1246,3839,8551,2376,3009,9154,1827,6979,9805,9832,8569,4285,6910,8561,2196,3747,8843,5978,5607,769,780,9908,6303,3983,9503,8714,521,9127,7569,5784,4583,5946,4941,6267,7128,2461,685,2160,7031,9759,5341,38,4875,1256,7697,2196,7165,301,7527,6381,646,9951,8789,8853,4330,9560,7003,3537,4558,6579,8474,9678,4082,4183,8652,3754,1724,1376,8706,8894,1653,2066,22,2460,5926,6251,9496,7295,3300,6279,8553,7353,3727,6272,5995,9476,514,448,6019,5343,8033,2520,3081,1428,3967,6445,9114,2159,5132,2547,2979,2649,8505,3083,1037,3489,7604,7544,2634,3983,1778,7902,5110,5189,7378,1124,697,2179,9596,5251,9235,1929,1013,226,7321,1828,7909,5588,2023,4966,5891,1080,5036,2563,3292,3586,4431,6841,6643,3959,161,593,3390,5997,6354,663,9324,541,5433,5093,867,8623,5469,6256,9398,1169,830,1651,1136,2810,8667,9518,1019,5237,1283,659,2010,8590,1733,2125,2171,8266,3471,9028,5624,8691,8329,2097,5068,6397,2757,3920,8186,1900,2610,6900,1449,8738,5017,7999,6052,2096,8895,6404,9817,3331,7462,5105,2978,2839,3384,685,7531,4283,7736,7710,1619,6868,1431,9067,4713,9557,9435,4998,162,1974,3291,8461,631,905,2014,9833,7896,204,581,5675,9032,5347,9911,2643,8017,2297,874,5560,689,4000,9614,671,7927,1171,5591,9135,6342,1449,2539,3959,6285,5432,4260,2361,6164,3670,1753,8100,1938,8562,5976,6588,8616,6304,7345,7875,9086,6633,597,3062,2336,9879,572,7521,6171,7097,2090,6566,4624,1633,1517,3648,1537,3137,6985,97,3750,8535,8174,8103,5413,4666,610,1727,1854,5055,2324,9369,9283,5774,6519,1749,781,7548,6823,2105,3867,7193,4976,2113,5879,3970,9259,7264,1577,9203,2274,4869,6744,2426,5546,6852,2551,6411,7,8087,2555,475,5416,8676,7239,6710,5000,4654,8078,6063,2285,5223,6971,3525,2822,4943,6530,258,282,1898,4135,6629,3200,5110,7167,612,687,3690,8804,2307,7133,6509,9973,5906,2591,7183,5248,8766,5108,3604,669,4364,7329,1283,923,1125,1529,9786,8438,3711,8004,9752,6274,3864,7833,6788,226,264,9587,645,7544,5569,2990,2504,9346,587,9177,4079,3348,6299,3831,9433,8381,9172,9890,1715,6450,5433,1098,7096,2326,9087,6416,6980,6763,1674,7950,9122,8915,6049,1089,4578,9127,155,9262,1958,6344,5779,6144,5063,3830,9046,8831,9794,6659,441,6040,5925,7358,4628,6370,9528,948,8179,6115,459,7568,4646,392,1787,7374,1138,4741,7418,6362,2454,9658,3674,1377,6701,2597,141,2659,4596,9031,5661,6142,5626,8787,8472,423,6999,4249,1750,4757,1967,4088,4178,7789,2946,9641,5394,7880,5075,7230,1531,2990,7155,4493,9335,933,1460,2723,285,264,6816,1762,40,5827,8259,987,7804,7789,5717,3198,5374,4790,7183,2524,9277,2479,9885,5154,778,9777,1492,660,1348,9491,7851,7156,2044,7368,3516,9250,9168,4577,727,7468,342,1447,6581,6317,526,6748,405,7986,9765,3740,1846,1478,771,5525,8770,193,2007,1185,2394,9984,9302,4005,7429,2261,3736,6716,4875,8921,4378,7815,3451,7616,9836,2800,8333,5410,1455,6892,5808,6796,4796,5093,1325,4976,9405,1159,4650,4987,4697,340,3828,1968,703,5482,6376,1800,5463,4912,4648,855,2866,182,3112,5670,4492,5823,1517,5002,1356,3629,3628,8210,6132,9324,6588,3311,6048,6246,987,3321,4615,8365,3741,3052,6574,726,3760,5806,1875,6993,4033,5443,989,3744,8611,593,1774,935,3808,331,7922,2702,5889,5054,3868,4200,201,2497,1842,9101,4658,7544,7718,770,3155,1628,386,6031,6439,6401,4008,2466,2282,1856,7980,1998,5476,9428,4669,9342,4318,7064,7446,1431,5624,7461,1819,1130,6563,2658,3500,8566,2120,4020,3259,1823,1474,2242,3243,6990,5160,3134,2070,359,1141,1635,4000,3361,6583,7835,6,3267,6564,9783,4928,2606,5906,3273,7611,913,2011,1442,5546,1829,8767,6468,929,3699,9655,1054,5744,1900,9649,6980,7069,9591,3415,442,6218,4652,7939,7833,9370,7597,4458,6591,9449,2309,6268,910,4340,4009,6628,2169,2172,5668,6313,8315,8036,6789,785,6139,6344,2416,8988,4154,5619,1936,3807,7151,9493,3236,2352,1932,8556,4916,5498,946,9569,1439,7730,4857,340,382,9748,8491,138,358,4931,9714,3456,1627,9495,6626,5004,9326,6652,6416,3170,3835,8017,2151,9429,6905,2834,9190,2567,1307,8848,2660,3730,6207,3162,1140,8458,1708,3630,3211,6538,9702,475,7684,9168,1207,1960,557,882,4761,5867,6963,7166,7929,5347,7269,9802,8125,2454,4494,1946,2808,6642,3825,3536,6068,3802],\"sizemode\":\"area\",\"sizeref\":24.96,\"symbol\":\"circle\"},\"mode\":\"markers\",\"name\":\"\",\"orientation\":\"v\",\"showlegend\":false,\"x\":[11827,673,40941,35148,2870,69599,33544,42265,31621,29421,7581,38080,31429,45946,849,36466,27952,61467,47086,3323,46191,30849,75174,22925,54520,47469,20840,70880,8015,3069,23932,38258,42092,28583,64002,31229,33059,17394,10364,37273,2314,24750,51156,39037,53785,10029,6335,67566,31577,55947,22292,52042,21321,24797,7572,73341,15468,61335,53096,63520,60706,10238,37626,71660,72294,38966,32494,8380,36794,37045,31474,48138,16964,71593,68662,27336,7193,39169,25278,69209,900,79671,25869,60807,16692,15569,45216,75843,5613,71321,7069,31948,44320,25585,6022,33587,27077,49426,33491,32755,2689,38089,62625,1720,37749,5470,58889,36972,26863,8130,57089,6430,37120,3306,14840,50450,47159,17416,7125,15099,61518,27227,41187,25413,35004,59456,40659,76713,36520,7778,18448,42797,55456,8159,68492,15488,31213,34940,52771,3165,51559,555,78098,45966,14249,47224,37987,23211,59679,13272,56462,60470,42250,50555,31622,29726,45505,40936,36631,78278,13417,30427,30071,35793,28618,1966,75218,83780,41213,14378,38374,25860,16364,10344,22359,35113,12834,16805,41092,21574,20375,54062,30349,6853,69172,42442,9370,51620,16227,4094,69381,2795,61027,93126,9757,28020,23434,42745,73223,32290,50568,45993,22678,45371,44284,20979,31633,73992,42794,61889,70962,12681,45009,65319,69901,25855,74356,805,37520,18939,7395,25607,24515,45618,35854,19600,68904,58703,58512,43295,67700,7107,17815,34577,28931,22690,34315,36248,22896,34112,21049,19235,77548,35888,75656,31699,8433,58391,43730,1668,34061,53457,20419,77677,9054,1519,53552,58268,4226,47890,77274,62390,84275,7001,26747,2017,3662,48847,32585,32220,12917,78533,48903,15594,11954,30745,69136,84474,14489,54899,2128,29627,10416,12455,31822,35162,35548,3331,36313,6678,20908,37532,2052,4327,48067,9001,18580,12168,20182,2478,45526,31754,22018,1318,16395,54726,1114,36810,40881,15031,43285,2742,36839,29525,81471,58021,20481,16098,86701,82528,3381,26159,18873,28080,71958,54713,21551,38762,37083,32871,18988,12290,4330,71146,37841,2878,33229,30969,5917,10754,23297,36615,26173,24267,42012,25487,4597,49179,76058,26401,56492,27215,46889,62706,25361,17066,29544,69171,34091,40952,40718,15683,50622,14665,12105,2783,61366,533,24364,53028,41372,30345,4720,3031,36566,44692,18673,23731,27839,14743,56454,40211,17812,61446,4112,10573,8033,24349,41646,41617,5506,34925,37987,14857,46348,47878,2951,12867,39880,36874,27964,9806,4874,84921,63472,59907,65151,1190,64459,5600,55212,63336,86931,48535,23530,11492,19079,42903,5543,71514,73912,41193,28031,25441,19703,41857,44176,28941,12871,37899,39257,59875,9287,62140,60673,45148,17167,1849,30971,37362,81304,43840,41425,46297,31576,17356,62711,54218,26961,54610,32341,47004,9925,46859,64246,38661,42229,45713,38152,22981,13384,76973,24868,6742,2656,25137,931,49498,48221,28800,64555,12885,40155,4299,3133,15183,43101,27878,3627,7882,22370,21190,8341,9820,30105,48171,35776,62406,46760,7649,34849,72509,47924,39980,7271,48128,21134,68503,40378,76268,37318,35324,15162,77918,26931,22717,46857,41668,59666,33062,54922,17593,18646,62586,74544,59540,52787,22240,47955,21705,5357,48091,30242,5753,12936,4696,20962,22603,34733,18279,57332,41706,65876,47644,54895,53322,14820,42584,29935,11355,23726,78473,1872,63105,68512,53525,21827,50188,63399,65922,17109,72432,26684,3107,10026,57721,38875,17211,84877,86114,11031,70131,14215,47067,46919,39427,46534,19642,1579,67595,52089,21902,16341,9209,730,4997,16101,26270,79891,80790,19336,21391,9004,30387,29958,47151,49815,13389,36098,44776,53521,24873,25199,65180,3835,27910,35952,18695,32817,19523,51000,39368,37123,9768,39526,12032,29905,26202,1160,31926,40888,24244,39031,44561,15546,54149,34324,13574,35283,57260,29764,47796,67657,48009,45620,17945,33649,35618,5420,3770,42721,45451,48597,5082,57267,51283,41048,14992,850,56091,82362,16443,9843,7338,58172,7899,18098,17664,43732,46743,5111,43908,39561,13558,59595,51647,45981,19471,1868,11009,37275,35885,37123,49696,63052,82129,13302,36951,79024,29230,19902,16980,11544,36948,23207,76345,78254,34120,18958,18873,1046,81608,28796,70038,16551,23387,47598,20568,19481,27497,48605,73968,7152,19162,66776,3963,58636,4296,1970,27572,41303,37638,9168,21903,20467,25083,25793,19012,43459,44012,40869,24575,14175,29025,47367,56128,32663,19931,33325,11681,51188,62610,53523,69643,20887,78891,14193,11721,54545,16183,43891,25854,32717,43393,63692,14394,34433,20733,3214,48488,7386,8312,15672,59357,13868,37607,25842,6639,33947,29228,51329,21304,29970,17184,4724,15794,41919,21972,66302,40973,26320,30193,65398,59958,26350,17912,41902,4282,36365,30164,40471,41743,71944,36463,55900,28740,12103,27747,65303,29427,780,43731,23955,4277,29173,16875,4231,46545,10573,3391,61160,79635,21991,15366,12073,31896,8405,525,822,30813,24596,21127,5325,12133,46868,81764,7845,60459,46624,17976,16689,38494,6722,2974,30916,44695,8180,38906,37188,17923,23943,35294,16076,30431,14120,36695,20518,23404,61650,32020,4496,9124,31705,53432,36767,23209,50834,14663,20046,27005,43948,11426,24084,26080,76856,37478,10952,16227,13214,34779,1432,33492,56021,17100,62234,45870,54457,46398,48596,39385,4375,28623,59272,4235,21274,10355,37432,58823,67152,80238,30617,47542,60852,34447,41407,35573,27582,23167,34135,50459,48581,65673,14574,51891,75235,68910,6944,4953,45261,34438,7299,35141,3080,8143,19057,36914,29061,3269,5890,18630,15549,53632,37474,33773,26139,37816,38579,13976,4741,19984,53449,63364,77312,34852,17713,41383,25703,13543,11375,77083,49220,48917,49959,12803,22120,5380,14059,3674,26517,5210,35214,12460,21590,2633,67671,36341,58581,49363,49869,22383,38733,611,54802,463,3709,11983,43977,34599,24911,10759,4715,10872,3257,3246,13801,36010,73116,37895,22309,38283,53014,28090,31413,28072,46026,33220,6053,63900,910,24934,82201,6322,29878,29761,2901,2003,3391,3398,48677,56311,19854,5947,16874,64131,5945,46548,48811,61715,21906,67862,58774,54665,39117,39642,25567,28756,29207,36227,35431,14950],\"xaxis\":\"x\",\"y\":[3.3,4.8,2.5,3.1,3.4,3.7,4.6,2.7,4.5,2.6,4.6,2.6,2.5,4.2,5.0,4.7,3.9,4.8,2.5,4.9,3.7,4.3,4.6,4.3,3.8,3.7,4.6,3.0,4.9,4.3,3.0,4.3,3.8,4.3,4.4,2.7,3.8,4.8,3.3,4.0,3.4,3.6,3.9,3.9,3.0,4.2,2.7,2.8,2.5,2.8,3.7,4.0,4.5,2.8,4.6,4.4,3.5,4.8,5.0,3.0,3.4,4.8,4.3,2.6,4.5,4.6,4.4,4.5,4.6,3.0,3.1,4.1,4.8,3.3,4.0,4.2,3.6,4.3,4.7,4.1,3.8,3.6,3.9,3.4,3.5,3.8,2.7,3.1,3.9,3.6,3.3,4.3,4.2,2.9,4.7,3.7,4.4,3.9,5.0,4.4,4.3,4.4,2.9,3.0,4.3,3.7,4.4,2.8,3.8,3.4,3.6,4.0,3.8,3.8,3.7,3.5,4.4,2.5,4.0,3.9,4.3,4.0,4.6,4.9,3.4,3.1,3.6,3.2,4.0,4.8,2.8,2.8,3.1,4.3,4.0,2.8,4.8,4.5,2.6,4.1,4.4,3.4,2.7,2.7,2.8,4.6,4.8,2.8,3.1,2.9,3.0,4.6,3.3,3.3,3.1,4.0,3.4,4.4,3.0,4.5,4.0,2.8,3.5,4.7,4.8,3.7,3.7,4.8,4.0,2.6,4.8,3.1,3.9,2.9,2.6,3.3,4.5,3.2,3.1,3.0,3.8,4.9,3.6,3.9,4.7,3.8,3.0,3.2,3.3,3.5,3.6,4.5,3.4,3.7,4.1,3.4,4.6,4.0,3.2,4.3,3.8,3.8,3.7,3.7,4.4,2.8,3.3,2.7,4.4,3.2,4.7,3.8,4.5,4.9,4.6,4.7,3.5,3.9,3.1,3.0,3.8,4.0,3.3,3.9,4.7,3.9,4.3,4.5,5.0,4.0,4.5,4.9,4.9,2.9,3.5,3.3,2.7,4.1,4.3,4.6,2.8,4.7,4.1,4.3,4.8,4.1,3.3,4.6,3.4,2.6,4.6,3.4,4.4,3.4,4.7,3.0,4.9,4.4,2.8,3.9,5.0,3.7,3.0,3.7,3.8,4.4,4.2,3.5,3.0,4.1,3.6,2.8,4.8,4.2,4.2,4.6,3.8,4.5,3.7,2.7,3.5,3.7,4.3,2.8,2.9,3.2,3.2,4.3,3.1,4.1,3.7,3.9,4.6,3.5,4.4,3.6,3.4,4.9,3.0,2.7,4.4,2.7,4.6,3.6,4.8,4.3,4.0,4.9,3.5,4.9,2.8,3.7,3.2,3.8,2.9,4.6,4.6,4.9,2.9,4.1,3.7,3.4,3.4,3.5,4.3,4.0,3.6,2.7,2.7,2.5,4.9,2.5,2.8,3.3,4.5,4.9,4.5,4.2,3.8,2.7,4.9,4.4,4.1,4.4,4.3,4.1,5.0,4.8,4.1,4.2,2.6,4.2,2.6,4.0,5.0,3.9,3.7,3.3,2.8,4.3,3.0,2.8,3.6,4.5,4.4,2.6,3.6,3.8,4.1,4.1,3.4,3.9,3.7,4.7,3.8,3.6,3.5,3.9,4.5,3.8,4.2,4.3,3.8,3.6,4.7,3.5,3.7,5.0,2.5,3.0,3.5,4.8,2.7,2.5,2.6,2.7,2.6,3.7,4.0,3.2,3.5,2.7,3.3,3.8,4.3,2.5,3.7,3.2,4.6,4.3,4.0,3.2,4.8,2.6,2.8,3.5,2.8,4.9,4.5,3.1,4.0,5.0,4.7,4.0,4.8,5.0,4.4,2.7,3.5,4.6,3.1,4.6,2.8,2.6,3.5,2.6,4.9,4.6,4.5,4.1,3.0,3.8,4.0,3.8,3.2,3.8,3.7,5.0,4.7,3.7,4.1,4.4,2.6,4.7,4.7,3.6,3.5,3.2,3.7,2.6,4.6,2.6,3.3,4.8,4.3,3.2,3.1,2.5,4.2,2.6,3.8,4.9,2.8,4.7,5.0,2.7,4.7,3.8,4.8,3.9,4.2,3.9,4.7,4.3,3.8,4.7,3.1,2.9,2.9,3.3,3.1,4.8,2.8,4.2,3.0,4.7,4.9,3.7,4.7,2.5,4.5,3.1,4.8,2.5,3.9,4.4,3.1,3.0,2.7,3.3,3.9,2.8,3.4,2.5,4.5,2.8,3.2,2.5,3.6,4.6,3.5,2.9,4.4,4.5,2.9,4.4,4.9,2.9,4.4,4.3,3.7,2.6,2.7,4.6,5.0,4.2,3.6,4.1,4.0,3.5,2.7,4.6,3.4,4.5,3.1,2.5,2.9,3.7,4.9,2.8,4.6,3.8,4.6,3.2,4.6,4.4,3.1,2.8,4.7,4.9,2.6,4.3,4.8,4.6,4.9,4.4,3.6,3.3,3.3,4.3,4.4,3.0,4.7,4.3,3.9,3.7,3.9,2.9,3.0,2.7,2.9,3.6,3.8,2.5,4.5,3.2,4.8,4.9,3.0,3.7,2.5,4.0,4.0,3.1,3.9,3.1,2.9,4.1,3.3,4.0,3.6,5.0,2.9,3.7,4.2,3.5,4.9,4.3,4.1,4.4,4.9,4.8,4.3,4.4,2.9,2.8,3.9,2.5,3.7,3.0,3.4,4.4,4.9,2.7,3.8,4.7,2.7,4.6,3.4,3.3,4.9,3.0,4.2,4.6,2.6,4.2,4.9,2.8,4.7,4.0,4.0,4.0,3.2,4.8,4.9,4.1,4.5,4.0,3.7,4.2,3.9,4.0,4.5,3.7,2.6,2.9,3.6,4.3,4.0,4.1,3.7,4.0,3.3,3.7,4.4,4.7,3.6,2.6,2.9,2.6,4.1,3.3,3.9,3.7,2.7,3.5,3.1,3.5,3.0,4.6,2.9,4.9,3.5,4.6,4.1,4.3,4.4,3.8,3.9,3.8,4.0,2.6,3.5,4.0,4.0,4.5,4.1,5.0,3.2,3.4,3.5,3.7,4.6,3.1,4.4,3.5,4.0,4.1,3.4,3.8,3.5,2.7,3.6,2.7,3.5,4.0,3.9,4.2,2.7,4.1,3.3,3.5,4.6,2.5,4.0,4.0,3.5,3.1,3.1,4.7,3.6,3.3,3.6,4.2,2.9,3.6,4.0,4.9,3.1,3.4,3.4,4.0,3.4,3.8,4.5,4.3,3.6,4.7,3.9,3.8,2.6,5.0,2.8,3.1,2.6,4.1,3.1,3.0,2.7,2.8,4.0,4.2,3.5,3.7,4.2,2.5,3.3,4.9,4.0,3.1,3.8,3.4,3.8,2.8,2.8,2.9,4.8,4.3,2.9,3.0,4.3,2.9,3.1,4.9,3.1,4.2,4.9,3.4,2.5,3.1,4.6,4.7,4.4,2.8,4.5,4.8,4.0,4.9,4.6,4.2,3.9,3.4,2.9,4.0,3.3,4.7,5.0,4.4,2.7,3.2,2.8,4.1,4.4,4.8,3.6,4.8,4.7,3.3,4.7,3.4,3.2,4.1,3.3,4.1,4.0,3.9,3.5,3.9,4.0,3.9,3.6,2.5,4.0,2.9,4.1,4.4,3.8,3.9,4.9,4.6,4.8,4.5,2.8,2.9,3.8,3.1,3.7,3.5,3.9,4.4,4.3,3.8,4.6,3.6,4.7,2.7,4.9,4.1,3.5,3.0,3.7,3.0,2.9,4.0,3.8,4.2,4.8,3.8,4.0,2.7,4.3,3.5,4.9,4.6,3.8,2.8,4.6,4.5,3.0,3.2,4.5,3.0,4.8,3.6,2.7,4.5,3.4,3.8,2.8,2.5,4.1,3.8,4.0,4.5,4.1,2.9,3.4,4.8,4.4,3.9,3.1,3.3,4.3,4.6,4.2,4.5,4.4,2.9,3.6,2.9,3.1,4.7,3.7,3.8,2.9,3.3,3.1,3.0,4.1,3.1,4.1,2.6,2.9,3.2,4.0,4.2,3.6,3.6,4.3,2.5,3.4,4.5,4.0,3.3,4.8,4.4,3.2,4.1,4.0,3.5,3.4,3.4,4.0,3.6,4.6,4.2,2.7,4.1,3.2,4.0,4.2,3.1,3.6,3.0,2.6,3.4,3.4,5.0,3.6,3.3,4.0,2.7,4.9,4.1,4.4,2.9,3.5,3.6,4.6,2.5,3.3,5.0,3.7,3.5,2.8,4.9,2.6,4.3,4.4,3.1,4.2,2.7,3.1,4.5,4.7,4.0,3.8,2.9,2.7,2.8,3.1,3.4,3.5,3.4,3.1,3.8,4.6,3.2,4.9,4.7],\"yaxis\":\"y\",\"type\":\"scatter\"}],                        {\"template\":{\"data\":{\"histogram2dcontour\":[{\"type\":\"histogram2dcontour\",\"colorbar\":{\"outlinewidth\":0,\"ticks\":\"\"},\"colorscale\":[[0.0,\"#0d0887\"],[0.1111111111111111,\"#46039f\"],[0.2222222222222222,\"#7201a8\"],[0.3333333333333333,\"#9c179e\"],[0.4444444444444444,\"#bd3786\"],[0.5555555555555556,\"#d8576b\"],[0.6666666666666666,\"#ed7953\"],[0.7777777777777778,\"#fb9f3a\"],[0.8888888888888888,\"#fdca26\"],[1.0,\"#f0f921\"]]}],\"choropleth\":[{\"type\":\"choropleth\",\"colorbar\":{\"outlinewidth\":0,\"ticks\":\"\"}}],\"histogram2d\":[{\"type\":\"histogram2d\",\"colorbar\":{\"outlinewidth\":0,\"ticks\":\"\"},\"colorscale\":[[0.0,\"#0d0887\"],[0.1111111111111111,\"#46039f\"],[0.2222222222222222,\"#7201a8\"],[0.3333333333333333,\"#9c179e\"],[0.4444444444444444,\"#bd3786\"],[0.5555555555555556,\"#d8576b\"],[0.6666666666666666,\"#ed7953\"],[0.7777777777777778,\"#fb9f3a\"],[0.8888888888888888,\"#fdca26\"],[1.0,\"#f0f921\"]]}],\"heatmap\":[{\"type\":\"heatmap\",\"colorbar\":{\"outlinewidth\":0,\"ticks\":\"\"},\"colorscale\":[[0.0,\"#0d0887\"],[0.1111111111111111,\"#46039f\"],[0.2222222222222222,\"#7201a8\"],[0.3333333333333333,\"#9c179e\"],[0.4444444444444444,\"#bd3786\"],[0.5555555555555556,\"#d8576b\"],[0.6666666666666666,\"#ed7953\"],[0.7777777777777778,\"#fb9f3a\"],[0.8888888888888888,\"#fdca26\"],[1.0,\"#f0f921\"]]}],\"heatmapgl\":[{\"type\":\"heatmapgl\",\"colorbar\":{\"outlinewidth\":0,\"ticks\":\"\"},\"colorscale\":[[0.0,\"#0d0887\"],[0.1111111111111111,\"#46039f\"],[0.2222222222222222,\"#7201a8\"],[0.3333333333333333,\"#9c179e\"],[0.4444444444444444,\"#bd3786\"],[0.5555555555555556,\"#d8576b\"],[0.6666666666666666,\"#ed7953\"],[0.7777777777777778,\"#fb9f3a\"],[0.8888888888888888,\"#fdca26\"],[1.0,\"#f0f921\"]]}],\"contourcarpet\":[{\"type\":\"contourcarpet\",\"colorbar\":{\"outlinewidth\":0,\"ticks\":\"\"}}],\"contour\":[{\"type\":\"contour\",\"colorbar\":{\"outlinewidth\":0,\"ticks\":\"\"},\"colorscale\":[[0.0,\"#0d0887\"],[0.1111111111111111,\"#46039f\"],[0.2222222222222222,\"#7201a8\"],[0.3333333333333333,\"#9c179e\"],[0.4444444444444444,\"#bd3786\"],[0.5555555555555556,\"#d8576b\"],[0.6666666666666666,\"#ed7953\"],[0.7777777777777778,\"#fb9f3a\"],[0.8888888888888888,\"#fdca26\"],[1.0,\"#f0f921\"]]}],\"surface\":[{\"type\":\"surface\",\"colorbar\":{\"outlinewidth\":0,\"ticks\":\"\"},\"colorscale\":[[0.0,\"#0d0887\"],[0.1111111111111111,\"#46039f\"],[0.2222222222222222,\"#7201a8\"],[0.3333333333333333,\"#9c179e\"],[0.4444444444444444,\"#bd3786\"],[0.5555555555555556,\"#d8576b\"],[0.6666666666666666,\"#ed7953\"],[0.7777777777777778,\"#fb9f3a\"],[0.8888888888888888,\"#fdca26\"],[1.0,\"#f0f921\"]]}],\"mesh3d\":[{\"type\":\"mesh3d\",\"colorbar\":{\"outlinewidth\":0,\"ticks\":\"\"}}],\"scatter\":[{\"fillpattern\":{\"fillmode\":\"overlay\",\"size\":10,\"solidity\":0.2},\"type\":\"scatter\"}],\"parcoords\":[{\"type\":\"parcoords\",\"line\":{\"colorbar\":{\"outlinewidth\":0,\"ticks\":\"\"}}}],\"scatterpolargl\":[{\"type\":\"scatterpolargl\",\"marker\":{\"colorbar\":{\"outlinewidth\":0,\"ticks\":\"\"}}}],\"bar\":[{\"error_x\":{\"color\":\"#2a3f5f\"},\"error_y\":{\"color\":\"#2a3f5f\"},\"marker\":{\"line\":{\"color\":\"#E5ECF6\",\"width\":0.5},\"pattern\":{\"fillmode\":\"overlay\",\"size\":10,\"solidity\":0.2}},\"type\":\"bar\"}],\"scattergeo\":[{\"type\":\"scattergeo\",\"marker\":{\"colorbar\":{\"outlinewidth\":0,\"ticks\":\"\"}}}],\"scatterpolar\":[{\"type\":\"scatterpolar\",\"marker\":{\"colorbar\":{\"outlinewidth\":0,\"ticks\":\"\"}}}],\"histogram\":[{\"marker\":{\"pattern\":{\"fillmode\":\"overlay\",\"size\":10,\"solidity\":0.2}},\"type\":\"histogram\"}],\"scattergl\":[{\"type\":\"scattergl\",\"marker\":{\"colorbar\":{\"outlinewidth\":0,\"ticks\":\"\"}}}],\"scatter3d\":[{\"type\":\"scatter3d\",\"line\":{\"colorbar\":{\"outlinewidth\":0,\"ticks\":\"\"}},\"marker\":{\"colorbar\":{\"outlinewidth\":0,\"ticks\":\"\"}}}],\"scattermapbox\":[{\"type\":\"scattermapbox\",\"marker\":{\"colorbar\":{\"outlinewidth\":0,\"ticks\":\"\"}}}],\"scatterternary\":[{\"type\":\"scatterternary\",\"marker\":{\"colorbar\":{\"outlinewidth\":0,\"ticks\":\"\"}}}],\"scattercarpet\":[{\"type\":\"scattercarpet\",\"marker\":{\"colorbar\":{\"outlinewidth\":0,\"ticks\":\"\"}}}],\"carpet\":[{\"aaxis\":{\"endlinecolor\":\"#2a3f5f\",\"gridcolor\":\"white\",\"linecolor\":\"white\",\"minorgridcolor\":\"white\",\"startlinecolor\":\"#2a3f5f\"},\"baxis\":{\"endlinecolor\":\"#2a3f5f\",\"gridcolor\":\"white\",\"linecolor\":\"white\",\"minorgridcolor\":\"white\",\"startlinecolor\":\"#2a3f5f\"},\"type\":\"carpet\"}],\"table\":[{\"cells\":{\"fill\":{\"color\":\"#EBF0F8\"},\"line\":{\"color\":\"white\"}},\"header\":{\"fill\":{\"color\":\"#C8D4E3\"},\"line\":{\"color\":\"white\"}},\"type\":\"table\"}],\"barpolar\":[{\"marker\":{\"line\":{\"color\":\"#E5ECF6\",\"width\":0.5},\"pattern\":{\"fillmode\":\"overlay\",\"size\":10,\"solidity\":0.2}},\"type\":\"barpolar\"}],\"pie\":[{\"automargin\":true,\"type\":\"pie\"}]},\"layout\":{\"autotypenumbers\":\"strict\",\"colorway\":[\"#636efa\",\"#EF553B\",\"#00cc96\",\"#ab63fa\",\"#FFA15A\",\"#19d3f3\",\"#FF6692\",\"#B6E880\",\"#FF97FF\",\"#FECB52\"],\"font\":{\"color\":\"#2a3f5f\"},\"hovermode\":\"closest\",\"hoverlabel\":{\"align\":\"left\"},\"paper_bgcolor\":\"white\",\"plot_bgcolor\":\"#E5ECF6\",\"polar\":{\"bgcolor\":\"#E5ECF6\",\"angularaxis\":{\"gridcolor\":\"white\",\"linecolor\":\"white\",\"ticks\":\"\"},\"radialaxis\":{\"gridcolor\":\"white\",\"linecolor\":\"white\",\"ticks\":\"\"}},\"ternary\":{\"bgcolor\":\"#E5ECF6\",\"aaxis\":{\"gridcolor\":\"white\",\"linecolor\":\"white\",\"ticks\":\"\"},\"baxis\":{\"gridcolor\":\"white\",\"linecolor\":\"white\",\"ticks\":\"\"},\"caxis\":{\"gridcolor\":\"white\",\"linecolor\":\"white\",\"ticks\":\"\"}},\"coloraxis\":{\"colorbar\":{\"outlinewidth\":0,\"ticks\":\"\"}},\"colorscale\":{\"sequential\":[[0.0,\"#0d0887\"],[0.1111111111111111,\"#46039f\"],[0.2222222222222222,\"#7201a8\"],[0.3333333333333333,\"#9c179e\"],[0.4444444444444444,\"#bd3786\"],[0.5555555555555556,\"#d8576b\"],[0.6666666666666666,\"#ed7953\"],[0.7777777777777778,\"#fb9f3a\"],[0.8888888888888888,\"#fdca26\"],[1.0,\"#f0f921\"]],\"sequentialminus\":[[0.0,\"#0d0887\"],[0.1111111111111111,\"#46039f\"],[0.2222222222222222,\"#7201a8\"],[0.3333333333333333,\"#9c179e\"],[0.4444444444444444,\"#bd3786\"],[0.5555555555555556,\"#d8576b\"],[0.6666666666666666,\"#ed7953\"],[0.7777777777777778,\"#fb9f3a\"],[0.8888888888888888,\"#fdca26\"],[1.0,\"#f0f921\"]],\"diverging\":[[0,\"#8e0152\"],[0.1,\"#c51b7d\"],[0.2,\"#de77ae\"],[0.3,\"#f1b6da\"],[0.4,\"#fde0ef\"],[0.5,\"#f7f7f7\"],[0.6,\"#e6f5d0\"],[0.7,\"#b8e186\"],[0.8,\"#7fbc41\"],[0.9,\"#4d9221\"],[1,\"#276419\"]]},\"xaxis\":{\"gridcolor\":\"white\",\"linecolor\":\"white\",\"ticks\":\"\",\"title\":{\"standoff\":15},\"zerolinecolor\":\"white\",\"automargin\":true,\"zerolinewidth\":2},\"yaxis\":{\"gridcolor\":\"white\",\"linecolor\":\"white\",\"ticks\":\"\",\"title\":{\"standoff\":15},\"zerolinecolor\":\"white\",\"automargin\":true,\"zerolinewidth\":2},\"scene\":{\"xaxis\":{\"backgroundcolor\":\"#E5ECF6\",\"gridcolor\":\"white\",\"linecolor\":\"white\",\"showbackground\":true,\"ticks\":\"\",\"zerolinecolor\":\"white\",\"gridwidth\":2},\"yaxis\":{\"backgroundcolor\":\"#E5ECF6\",\"gridcolor\":\"white\",\"linecolor\":\"white\",\"showbackground\":true,\"ticks\":\"\",\"zerolinecolor\":\"white\",\"gridwidth\":2},\"zaxis\":{\"backgroundcolor\":\"#E5ECF6\",\"gridcolor\":\"white\",\"linecolor\":\"white\",\"showbackground\":true,\"ticks\":\"\",\"zerolinecolor\":\"white\",\"gridwidth\":2}},\"shapedefaults\":{\"line\":{\"color\":\"#2a3f5f\"}},\"annotationdefaults\":{\"arrowcolor\":\"#2a3f5f\",\"arrowhead\":0,\"arrowwidth\":1},\"geo\":{\"bgcolor\":\"white\",\"landcolor\":\"#E5ECF6\",\"subunitcolor\":\"white\",\"showland\":true,\"showlakes\":true,\"lakecolor\":\"white\"},\"title\":{\"x\":0.05},\"mapbox\":{\"style\":\"light\"}}},\"xaxis\":{\"anchor\":\"y\",\"domain\":[0.0,1.0],\"title\":{\"text\":\"discounted_price\"}},\"yaxis\":{\"anchor\":\"x\",\"domain\":[0.0,1.0],\"title\":{\"text\":\"ratings\"}},\"coloraxis\":{\"colorbar\":{\"title\":{\"text\":\"cluster\"}},\"colorscale\":[[0.0,\"#0d0887\"],[0.1111111111111111,\"#46039f\"],[0.2222222222222222,\"#7201a8\"],[0.3333333333333333,\"#9c179e\"],[0.4444444444444444,\"#bd3786\"],[0.5555555555555556,\"#d8576b\"],[0.6666666666666666,\"#ed7953\"],[0.7777777777777778,\"#fb9f3a\"],[0.8888888888888888,\"#fdca26\"],[1.0,\"#f0f921\"]]},\"legend\":{\"tracegroupgap\":0,\"itemsizing\":\"constant\"},\"title\":{\"text\":\" Product Segments Based on Ratings & Price\"}},                        {\"responsive\": true}                    ).then(function(){\n",
       "                            \n",
       "var gd = document.getElementById('31145fff-fde9-4ca5-83f8-fe8d08c977c2');\n",
       "var x = new MutationObserver(function (mutations, observer) {{\n",
       "        var display = window.getComputedStyle(gd).display;\n",
       "        if (!display || display === 'none') {{\n",
       "            console.log([gd, 'removed!']);\n",
       "            Plotly.purge(gd);\n",
       "            observer.disconnect();\n",
       "        }}\n",
       "}});\n",
       "\n",
       "// Listen for the removal of the full notebook cells\n",
       "var notebookContainer = gd.closest('#notebook-container');\n",
       "if (notebookContainer) {{\n",
       "    x.observe(notebookContainer, {childList: true});\n",
       "}}\n",
       "\n",
       "// Listen for the clearing of the current output cell\n",
       "var outputEl = gd.closest('.output');\n",
       "if (outputEl) {{\n",
       "    x.observe(outputEl, {childList: true});\n",
       "}}\n",
       "\n",
       "                        })                };                });            </script>        </div>"
      ]
     },
     "metadata": {},
     "output_type": "display_data"
    }
   ],
   "source": [
    "\n",
    "\n",
    "# Prepare data\n",
    "cluster_data = df[['discounted_price', 'ratings', 'discount_pct', 'reviews']].copy()\n",
    "scaler = StandardScaler()\n",
    "X_scaled = scaler.fit_transform(cluster_data)\n",
    "\n",
    "# Clustering\n",
    "kmeans = KMeans(n_clusters=4, random_state=42, batch_size=3072)\n",
    "\n",
    "df['cluster'] = kmeans.fit_predict(X_scaled)\n",
    "\n",
    "# Plot\n",
    "import plotly.express as px\n",
    "px.scatter(df, x='discounted_price', y='ratings', color='cluster',\n",
    "           size='reviews', hover_data=['product_name', 'brand', 'category'],\n",
    "           title=' Product Segments Based on Ratings & Price')\n"
   ]
  },
  {
   "cell_type": "code",
   "execution_count": 255,
   "id": "5233e610-7727-4015-961e-2901eb04e531",
   "metadata": {},
   "outputs": [
    {
     "data": {
      "image/png": "[encoded data removed]",
      "text/plain": [
       "<Figure size 1000x500 with 1 Axes>"
      ]
     },
     "metadata": {},
     "output_type": "display_data"
    }
   ],
   "source": [
    "# Tag outliers: discount_pct > 50%\n",
    "df['is_outlier'] = df['discount_pct'] > 50\n",
    "\n",
    "\n",
    "plt.figure(figsize=(10, 5))\n",
    "sns.histplot(data=df[df['is_outlier']], x='year', hue='category', multiple='stack', palette='coolwarm')\n",
    "plt.title(\" YOY Outlier Discount Distribution (>50%) by Category\")\n",
    "plt.xlabel(\"Year\")\n",
    "plt.ylabel(\"Number of Outlier Products\")\n",
    "plt.tight_layout()\n",
    "plt.show()\n"
   ]
  },
  {
   "cell_type": "code",
   "execution_count": 256,
   "id": "c94d03da-3914-4431-a1e5-64c0d0b743d4",
   "metadata": {},
   "outputs": [
    {
     "data": {
      "image/png": "[encoded data removed]",
      "text/plain": [
       "<Figure size 1200x500 with 2 Axes>"
      ]
     },
     "metadata": {},
     "output_type": "display_data"
    }
   ],
   "source": [
    "df['market_type'] = df['customer_segment'].apply(lambda x: 'Private' if x == 'Premium' else 'Commercial')\n",
    "\n",
    "fig, ax = plt.subplots(1, 2, figsize=(12, 5))\n",
    "\n",
    "# Plot 1: Avg Discounted Price\n",
    "sns.barplot(data=df, x='market_type', y='discounted_price', hue='market_type', ax=ax[0], palette='Blues', legend=False)\n",
    "ax[0].set_title(\" Avg Discounted Price: Commercial vs Private\")\n",
    "ax[0].set_ylabel(\"Avg Discounted Price\")\n",
    "ax[0].set_xlabel(\"Market Type\")\n",
    "\n",
    "# Plot 2: Avg Ratings\n",
    "sns.barplot(data=df, x='market_type', y='ratings', hue='market_type', ax=ax[1], palette='Greens', legend=False)\n",
    "ax[1].set_title(\" Avg Ratings: Commercial vs Private\")\n",
    "ax[1].set_ylabel(\"Avg Ratings\")\n",
    "ax[1].set_xlabel(\"Market Type\")\n",
    "\n",
    "plt.tight_layout()\n",
    "plt.show()\n"
   ]
  },
  {
   "cell_type": "markdown",
   "id": "33e2fc9b-b0ca-434c-8b52-34812a12e3c6",
   "metadata": {},
   "source": [
    "---\n",
    "\n",
    "##  Strategic Outcome Analysis – Market Measures\n",
    "\n",
    "After analyzing product pricing, customer segmentation, discounts, reviews, and market trends, here are actionable strategies to sustain price value in the current e-commerce market:\n",
    "\n",
    "-  **Segment-Based Pricing**: \n",
    "  Adjust prices based on customer segments. Budget and Mid-Tier buyers are price-sensitive — use strategic discounts for them, while Premium buyers value trust and reviews.\n",
    "\n",
    "-  **Optimize Discounts, Not Just Maximize**: \n",
    "  Instead of high blanket discounts, target 20–35% on products with good review scores and average ratings above 4.3. Outliers (over 50% discount) showed diminishing return and risky pricing.\n",
    "\n",
    "-  **Leverage Ratings & Reviews**: \n",
    "  High-rated products with lots of reviews drove more value. Prioritize stocking/recommending these for better conversions at higher price points.\n",
    "\n",
    "-  **Track YOY & MOM Patterns**:\n",
    "  Historical pricing trends help avoid price drops during off-seasons and plan flash sales more strategically.\n",
    "\n",
    "-  **Use Clusters for Bundling or Offers**: \n",
    "  The KMeans segmentation lets you identify 4 types of products — design bundles or targeted offers accordingly.\n",
    "\n",
    "-  **Customer Segment Focus**: \n",
    "  Commercial buyers (Budget + Mid-Tier) dominate volume — but Premium segment gives better margin. Balance both via curated pricing.\n",
    "\n",
    "---\n",
    "\n",
    "These measures can help e-commerce platforms like Flipkart/Amazon maintain competitive pricing while still protecting brand value and profitability.\n"
   ]
  },
  {
   "cell_type": "markdown",
   "id": "f18eda2a-4818-4b5f-8483-721d201967cd",
   "metadata": {},
   "source": [
    "---\n",
    "\n",
    "##  Deep Dive Insights & Recommendations\n",
    "\n",
    "-  **High Discounts Are Not Always High Value**  \n",
    "  Products with more than 50% discount had lower average ratings and fewer reviews. These may be stock-clearance or low-quality items, and promoting them heavily could reduce platform trust.\n",
    "\n",
    "-  **Low-Rating, High-Review Products are Red Flags**  \n",
    "  Products with < 3.5 ratings but > 5000 reviews likely indicate mass dissatisfaction. These should be flagged for quality checks or removed from premium placements.\n",
    "\n",
    "-  **Top Performing Categories = Phones, Laptops, and Clothing**  \n",
    "  These categories not only get the highest discounts but also the best customer engagement in terms of reviews and ratings.\n",
    "\n",
    "-  **Premium Customers Spend Less Often but Expect More**  \n",
    "  Premium buyers receive higher discounts and buy fewer products. They are likely deal-hunters with high expectations. Retain them with quality, not just price.\n",
    "\n",
    "-  **Budget Segment Loves Deals**  \n",
    "  The Budget segment had the most products and the highest review count. A loyalty rewards or flash-sale strategy would work best here.\n",
    "\n",
    "-  **Sales Spike Mid-Year & Festive Season (YOY)**  \n",
    "  Price trends showed more discounted prices in mid-year and Oct-Nov months — timing campaigns here increases ROI.\n",
    "\n",
    "-  **KMeans Clustering Enables Smart Group Targeting**  \n",
    "  Group 1 = High rating & mid price  \n",
    "  Group 2 = Low price & low rating  \n",
    "  Group 3 = High price & low review volume  \n",
    "  Use these segments for personalized marketing.\n",
    "\n",
    "---\n",
    "\n",
    "> These insights turn raw data into strategy — helping businesses drive better pricing, inventory, and marketing decisions. \n"
   ]
  },
  {
   "cell_type": "markdown",
   "id": "1e9a6fb5-7c93-43b9-8005-a8b1ed8abdd6",
   "metadata": {},
   "source": [
    "---\n",
    "\n",
    "##  Project  Summary\n",
    "\n",
    " Performed extensive exploratory data analysis on e-commerce product data  \n",
    " Engineered key features including discount %, rating categories, and review scores  \n",
    " Built SQL queries to extract insights and trends  \n",
    " Visualized customer segments, discounts, reviews, and YOY/MOM trends  \n",
    " Detected outliers and proposed price optimization strategies  \n",
    " Delivered clustering-based product segmentation using KMeans  \n",
    " Provided strategic business insights to sustain and improve price value in the market  \n",
    " Suggested real-world actions for targeting, bundling, and campaign planning\n",
    "\n",
    "---\n",
    "\n",
    "##  Thank You\n",
    "\n",
    "This notebook was created as part of the ** Data Analytics Internship** by:\n",
    "\n",
    "**Ashish Sahu**  \n",
    "*B.Tech Biomedical Engineering*  \n",
    "GitHub: [github.com/Ashish-s2](https://github.com/Ashish-s2)  \n",
    "LinkedIn: [linkedin.com/in/Ashish sahu](https://linkedin.com/in/ashish-sahu-88051224a/)\n",
    "\n",
    "---\n",
    "\n",
    "> “Decoding the world, one dataset at a time.” \n",
    "\n"
   ]
  }
 ],
 "metadata": {
  "kernelspec": {
   "display_name": "Python [conda env:base] *",
   "language": "python",
   "name": "conda-base-py"
  },
  "language_info": {
   "codemirror_mode": {
    "name": "ipython",
    "version": 3
   },
   "file_extension": ".py",
   "mimetype": "text/x-python",
   "name": "python",
   "nbconvert_exporter": "python",
   "pygments_lexer": "ipython3",
   "version": "3.12.7"
  }
 },
 "nbformat": 4,
 "nbformat_minor": 5
}
